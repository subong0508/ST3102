{
 "cells": [
  {
   "cell_type": "code",
   "execution_count": 1,
   "metadata": {},
   "outputs": [],
   "source": [
    "import numpy as np\n",
    "import pandas as pd\n",
    "import matplotlib.pyplot as plt\n",
    "import seaborn as sns\n",
    "from factor_analyzer import FactorAnalyzer\n",
    "%matplotlib inline\n",
    "import matplotlib.pyplot as plt\n",
    "import matplotlib.font_manager as fm\n",
    "font_fname = 'C:/Windows/Fonts/H2GTRM.ttf'\n",
    "font_family = fm.FontProperties(fname=font_fname).get_name()\n",
    "plt.rcParams['axes.unicode_minus'] = False\n",
    "plt.rcParams['font.size'] = 12\n",
    "plt.rcParams[\"font.family\"] = font_family"
   ]
  },
  {
   "cell_type": "code",
   "execution_count": 2,
   "metadata": {},
   "outputs": [
    {
     "data": {
      "text/html": [
       "<div>\n",
       "<style scoped>\n",
       "    .dataframe tbody tr th:only-of-type {\n",
       "        vertical-align: middle;\n",
       "    }\n",
       "\n",
       "    .dataframe tbody tr th {\n",
       "        vertical-align: top;\n",
       "    }\n",
       "\n",
       "    .dataframe thead th {\n",
       "        text-align: right;\n",
       "    }\n",
       "</style>\n",
       "<table border=\"1\" class=\"dataframe\">\n",
       "  <thead>\n",
       "    <tr style=\"text-align: right;\">\n",
       "      <th></th>\n",
       "      <th>TYPE</th>\n",
       "      <th>BREAD</th>\n",
       "      <th>VEGETABLES</th>\n",
       "      <th>FRUITS</th>\n",
       "      <th>MEAT</th>\n",
       "      <th>POULTRY</th>\n",
       "      <th>MILK</th>\n",
       "      <th>WINE</th>\n",
       "    </tr>\n",
       "  </thead>\n",
       "  <tbody>\n",
       "    <tr>\n",
       "      <th>0</th>\n",
       "      <td>MA2</td>\n",
       "      <td>332</td>\n",
       "      <td>428</td>\n",
       "      <td>354</td>\n",
       "      <td>1437</td>\n",
       "      <td>526</td>\n",
       "      <td>247</td>\n",
       "      <td>427</td>\n",
       "    </tr>\n",
       "    <tr>\n",
       "      <th>1</th>\n",
       "      <td>EM2</td>\n",
       "      <td>293</td>\n",
       "      <td>559</td>\n",
       "      <td>388</td>\n",
       "      <td>1527</td>\n",
       "      <td>567</td>\n",
       "      <td>239</td>\n",
       "      <td>258</td>\n",
       "    </tr>\n",
       "    <tr>\n",
       "      <th>2</th>\n",
       "      <td>CA2</td>\n",
       "      <td>372</td>\n",
       "      <td>767</td>\n",
       "      <td>562</td>\n",
       "      <td>1948</td>\n",
       "      <td>927</td>\n",
       "      <td>235</td>\n",
       "      <td>433</td>\n",
       "    </tr>\n",
       "    <tr>\n",
       "      <th>3</th>\n",
       "      <td>MA3</td>\n",
       "      <td>406</td>\n",
       "      <td>563</td>\n",
       "      <td>341</td>\n",
       "      <td>1507</td>\n",
       "      <td>544</td>\n",
       "      <td>324</td>\n",
       "      <td>407</td>\n",
       "    </tr>\n",
       "    <tr>\n",
       "      <th>4</th>\n",
       "      <td>EM3</td>\n",
       "      <td>386</td>\n",
       "      <td>608</td>\n",
       "      <td>396</td>\n",
       "      <td>1501</td>\n",
       "      <td>558</td>\n",
       "      <td>319</td>\n",
       "      <td>363</td>\n",
       "    </tr>\n",
       "  </tbody>\n",
       "</table>\n",
       "</div>"
      ],
      "text/plain": [
       "  TYPE  BREAD  VEGETABLES  FRUITS  MEAT  POULTRY  MILK  WINE\n",
       "0  MA2    332         428     354  1437      526   247   427\n",
       "1  EM2    293         559     388  1527      567   239   258\n",
       "2  CA2    372         767     562  1948      927   235   433\n",
       "3  MA3    406         563     341  1507      544   324   407\n",
       "4  EM3    386         608     396  1501      558   319   363"
      ]
     },
     "execution_count": 2,
     "metadata": {},
     "output_type": "execute_result"
    }
   ],
   "source": [
    "data = pd.read_csv('FrenchFoodData.csv')\n",
    "data.head()"
   ]
  },
  {
   "cell_type": "code",
   "execution_count": 3,
   "metadata": {},
   "outputs": [],
   "source": [
    "data = pd.read_csv('FrenchFoodData.csv')\n",
    "data['TYPE'] = [item[:-1] for item in data['TYPE']]\n",
    "data.head()\n",
    "data_ch = pd.read_csv('FrenchFoodData.csv')\n",
    "data_ch['CHILD'] = [item[-1] for item in data_ch['TYPE']]\n",
    "data_ch.head()\n",
    "data_ch.drop(['TYPE'], inplace = True, axis = 1)"
   ]
  },
  {
   "cell_type": "code",
   "execution_count": 4,
   "metadata": {},
   "outputs": [
    {
     "data": {
      "text/html": [
       "<div>\n",
       "<style scoped>\n",
       "    .dataframe tbody tr th:only-of-type {\n",
       "        vertical-align: middle;\n",
       "    }\n",
       "\n",
       "    .dataframe tbody tr th {\n",
       "        vertical-align: top;\n",
       "    }\n",
       "\n",
       "    .dataframe thead th {\n",
       "        text-align: right;\n",
       "    }\n",
       "</style>\n",
       "<table border=\"1\" class=\"dataframe\">\n",
       "  <thead>\n",
       "    <tr style=\"text-align: right;\">\n",
       "      <th></th>\n",
       "      <th>BREAD</th>\n",
       "      <th>VEGETABLES</th>\n",
       "      <th>FRUITS</th>\n",
       "      <th>MEAT</th>\n",
       "      <th>POULTRY</th>\n",
       "      <th>MILK</th>\n",
       "      <th>WINE</th>\n",
       "    </tr>\n",
       "    <tr>\n",
       "      <th>TYPE</th>\n",
       "      <th></th>\n",
       "      <th></th>\n",
       "      <th></th>\n",
       "      <th></th>\n",
       "      <th></th>\n",
       "      <th></th>\n",
       "      <th></th>\n",
       "    </tr>\n",
       "  </thead>\n",
       "  <tbody>\n",
       "    <tr>\n",
       "      <th>MA</th>\n",
       "      <td>332</td>\n",
       "      <td>428</td>\n",
       "      <td>354</td>\n",
       "      <td>1437</td>\n",
       "      <td>526</td>\n",
       "      <td>247</td>\n",
       "      <td>427</td>\n",
       "    </tr>\n",
       "    <tr>\n",
       "      <th>EM</th>\n",
       "      <td>293</td>\n",
       "      <td>559</td>\n",
       "      <td>388</td>\n",
       "      <td>1527</td>\n",
       "      <td>567</td>\n",
       "      <td>239</td>\n",
       "      <td>258</td>\n",
       "    </tr>\n",
       "    <tr>\n",
       "      <th>CA</th>\n",
       "      <td>372</td>\n",
       "      <td>767</td>\n",
       "      <td>562</td>\n",
       "      <td>1948</td>\n",
       "      <td>927</td>\n",
       "      <td>235</td>\n",
       "      <td>433</td>\n",
       "    </tr>\n",
       "    <tr>\n",
       "      <th>MA</th>\n",
       "      <td>406</td>\n",
       "      <td>563</td>\n",
       "      <td>341</td>\n",
       "      <td>1507</td>\n",
       "      <td>544</td>\n",
       "      <td>324</td>\n",
       "      <td>407</td>\n",
       "    </tr>\n",
       "    <tr>\n",
       "      <th>EM</th>\n",
       "      <td>386</td>\n",
       "      <td>608</td>\n",
       "      <td>396</td>\n",
       "      <td>1501</td>\n",
       "      <td>558</td>\n",
       "      <td>319</td>\n",
       "      <td>363</td>\n",
       "    </tr>\n",
       "  </tbody>\n",
       "</table>\n",
       "</div>"
      ],
      "text/plain": [
       "      BREAD  VEGETABLES  FRUITS  MEAT  POULTRY  MILK  WINE\n",
       "TYPE                                                      \n",
       "MA      332         428     354  1437      526   247   427\n",
       "EM      293         559     388  1527      567   239   258\n",
       "CA      372         767     562  1948      927   235   433\n",
       "MA      406         563     341  1507      544   324   407\n",
       "EM      386         608     396  1501      558   319   363"
      ]
     },
     "execution_count": 4,
     "metadata": {},
     "output_type": "execute_result"
    }
   ],
   "source": [
    "df = data.set_index('TYPE').copy()\n",
    "df.head()"
   ]
  },
  {
   "cell_type": "markdown",
   "metadata": {},
   "source": [
    "df는 전체 데이터셋, df1은 육체노동자 데이터셋, df2는 회사원(화이트칼라?) 데이터셋, df3는 매니저 데이터셋"
   ]
  },
  {
   "cell_type": "code",
   "execution_count": 5,
   "metadata": {},
   "outputs": [
    {
     "data": {
      "image/png": "[encoded data removed]",
      "text/plain": [
       "<Figure size 576x432 with 2 Axes>"
      ]
     },
     "metadata": {
      "needs_background": "light"
     },
     "output_type": "display_data"
    }
   ],
   "source": [
    "corr_mat = df.corr()\n",
    "plt.figure(figsize = (8, 6))\n",
    "sns.heatmap(corr_mat, annot = True, cmap = 'coolwarm')\n",
    "plt.show()"
   ]
  },
  {
   "cell_type": "markdown",
   "metadata": {},
   "source": [
    "빵과 우유사이 높은 상관관계(주식) / 채소 - 과일 - 고기 - 가금류 - 와인 높은 상관관계 근데 와인만 음의 상관관계네용"
   ]
  },
  {
   "cell_type": "code",
   "execution_count": 6,
   "metadata": {},
   "outputs": [
    {
     "name": "stdout",
     "output_type": "stream",
     "text": [
      "FRUITS has an outlier, so we have imputed it as median\n"
     ]
    }
   ],
   "source": [
    "for i in range(7):\n",
    "    q1 = np.percentile(df.iloc[:,i], 25)\n",
    "    q3 = np.percentile(df.iloc[:,i], 75)\n",
    "    iqr = (q3 - q1) * 1.5\n",
    "    for j in range(df.shape[0]):\n",
    "        if df.iloc[:,i][j] < q1 - iqr or df.iloc[:,i][j] > q3 + iqr:\n",
    "            df.iloc[:,i][j] = np.percentile(df.iloc[:,i], 50)\n",
    "            print('{} has an outlier, so we have imputed it as median'.format(df.columns[i]))"
   ]
  },
  {
   "cell_type": "code",
   "execution_count": 7,
   "metadata": {},
   "outputs": [
    {
     "data": {
      "image/png": "[encoded data removed]",
      "text/plain": [
       "<Figure size 864x432 with 2 Axes>"
      ]
     },
     "metadata": {
      "needs_background": "light"
     },
     "output_type": "display_data"
    }
   ],
   "source": [
    "from sklearn.preprocessing import StandardScaler\n",
    "from sklearn.decomposition import PCA\n",
    "scaler = StandardScaler()\n",
    "scaler.fit(df)\n",
    "df_scaled = scaler.transform(df)\n",
    "pca = PCA()\n",
    "pca.fit(df)\n",
    "plt.figure(figsize = (12,6))\n",
    "plt.style.use('seaborn')\n",
    "lambdas = pca.explained_variance_ratio_\n",
    "plt.subplot(1, 2, 1)\n",
    "sns.lineplot(x = [1,2,3,4,5,6,7],y  = lambdas, marker = 'o')\n",
    "plt.xlabel('Principal Component')\n",
    "plt.ylabel('Explained Variance')\n",
    "plt.ylim((0, 1))\n",
    "plt.title('Explained Variance of PCs')\n",
    "plt.grid(True)\n",
    "\n",
    "fa = FactorAnalyzer(n_factors = 2, rotation = 'varimax', bounds = (0, 1), method = 'principal')\n",
    "fa.fit(df_scaled)\n",
    "plt.subplot(1, 2, 2)\n",
    "ev, v = fa.get_eigenvalues()\n",
    "plt.scatter(range(1,df.shape[1]+1),v)\n",
    "plt.plot(range(1,df.shape[1]+1),v)\n",
    "plt.title('Scree Plot')\n",
    "plt.xlabel('Factors')\n",
    "plt.ylabel('Eigenvalue')\n",
    "plt.grid(True)\n",
    "plt.style.use('seaborn')\n",
    "\n",
    "plt.savefig('screeplot.png')\n",
    "plt.show()"
   ]
  },
  {
   "cell_type": "code",
   "execution_count": 8,
   "metadata": {},
   "outputs": [
    {
     "data": {
      "text/html": [
       "<div>\n",
       "<style scoped>\n",
       "    .dataframe tbody tr th:only-of-type {\n",
       "        vertical-align: middle;\n",
       "    }\n",
       "\n",
       "    .dataframe tbody tr th {\n",
       "        vertical-align: top;\n",
       "    }\n",
       "\n",
       "    .dataframe thead th {\n",
       "        text-align: right;\n",
       "    }\n",
       "</style>\n",
       "<table border=\"1\" class=\"dataframe\">\n",
       "  <thead>\n",
       "    <tr style=\"text-align: right;\">\n",
       "      <th></th>\n",
       "      <th>빵 섭취량</th>\n",
       "      <th>야채 섭취량</th>\n",
       "      <th>과일 섭취량</th>\n",
       "      <th>육류 섭취량</th>\n",
       "      <th>가금류 섭취량</th>\n",
       "      <th>우유 섭취량</th>\n",
       "      <th>와인 섭취량</th>\n",
       "    </tr>\n",
       "  </thead>\n",
       "  <tbody>\n",
       "    <tr>\n",
       "      <th>Loading1</th>\n",
       "      <td>0.02</td>\n",
       "      <td>0.74</td>\n",
       "      <td>0.87</td>\n",
       "      <td>0.92</td>\n",
       "      <td>0.95</td>\n",
       "      <td>0.06</td>\n",
       "      <td>-0.63</td>\n",
       "    </tr>\n",
       "    <tr>\n",
       "      <th>Loading2</th>\n",
       "      <td>0.96</td>\n",
       "      <td>0.63</td>\n",
       "      <td>-0.05</td>\n",
       "      <td>0.34</td>\n",
       "      <td>0.24</td>\n",
       "      <td>0.94</td>\n",
       "      <td>0.26</td>\n",
       "    </tr>\n",
       "    <tr>\n",
       "      <th>Communality</th>\n",
       "      <td>0.93</td>\n",
       "      <td>0.95</td>\n",
       "      <td>0.76</td>\n",
       "      <td>0.96</td>\n",
       "      <td>0.95</td>\n",
       "      <td>0.89</td>\n",
       "      <td>0.46</td>\n",
       "    </tr>\n",
       "  </tbody>\n",
       "</table>\n",
       "</div>"
      ],
      "text/plain": [
       "             빵 섭취량  야채 섭취량  과일 섭취량  육류 섭취량  가금류 섭취량  우유 섭취량  와인 섭취량\n",
       "Loading1      0.02    0.74    0.87    0.92     0.95    0.06   -0.63\n",
       "Loading2      0.96    0.63   -0.05    0.34     0.24    0.94    0.26\n",
       "Communality   0.93    0.95    0.76    0.96     0.95    0.89    0.46"
      ]
     },
     "execution_count": 8,
     "metadata": {},
     "output_type": "execute_result"
    }
   ],
   "source": [
    "x = pd.DataFrame(np.round(fa.loadings_.T, 2), columns = df.columns)\n",
    "x.columns = ['빵 섭취량','야채 섭취량', '과일 섭취량', '육류 섭취량', '가금류 섭취량', '우유 섭취량', '와인 섭취량']\n",
    "x\n",
    "new = np.array([x.values[0], x.values[1],np.round(fa.get_communalities(),2)])\n",
    "new = pd.DataFrame(new, columns = x.columns)\n",
    "new.index = ['Loading1','Loading2','Communality']\n",
    "new"
   ]
  },
  {
   "cell_type": "code",
   "execution_count": 9,
   "metadata": {},
   "outputs": [
    {
     "name": "stdout",
     "output_type": "stream",
     "text": [
      "0.4645\n"
     ]
    }
   ],
   "source": [
    "print(0.63**2+0.26**2)"
   ]
  },
  {
   "cell_type": "code",
   "execution_count": 10,
   "metadata": {},
   "outputs": [
    {
     "data": {
      "text/plain": [
       "BREAD         0.93\n",
       "VEGETABLES    0.95\n",
       "FRUITS        0.76\n",
       "MEAT          0.96\n",
       "POULTRY       0.95\n",
       "MILK          0.89\n",
       "WINE          0.46\n",
       "dtype: float64"
      ]
     },
     "execution_count": 10,
     "metadata": {},
     "output_type": "execute_result"
    }
   ],
   "source": [
    "pd.Series(np.round(fa.get_communalities(),2), index = df.columns)"
   ]
  },
  {
   "cell_type": "code",
   "execution_count": 11,
   "metadata": {},
   "outputs": [
    {
     "data": {
      "text/plain": [
       "<matplotlib.legend.Legend at 0x2522e68e940>"
      ]
     },
     "execution_count": 11,
     "metadata": {},
     "output_type": "execute_result"
    },
    {
     "data": {
      "image/png": "[encoded data removed]",
      "text/plain": [
       "<Figure size 576x432 with 1 Axes>"
      ]
     },
     "metadata": {},
     "output_type": "display_data"
    }
   ],
   "source": [
    "plt.figure(figsize = (8, 6))\n",
    "for i in range(7):\n",
    "    if i == 0:\n",
    "        plt.arrow(0, 0, fa.loadings_.T[0,i], fa.loadings_.T[1,i])\n",
    "        plt.text(fa.loadings_.T[0,i] * 0.7, fa.loadings_.T[1,i], s = df.columns[i])\n",
    "    else:\n",
    "        plt.arrow(0, 0, fa.loadings_.T[0,i], fa.loadings_.T[1,i])\n",
    "        plt.text(fa.loadings_.T[0,i] , fa.loadings_.T[1,i], s = df.columns[i])\n",
    "        \n",
    "\n",
    "plt.axvline(x =0, color = 'skyblue', linewidth = .8)\n",
    "plt.axhline(y =0, color = 'skyblue', linewidth = .8)\n",
    "plt.xlabel('Factor1')\n",
    "plt.ylabel('Factor2')\n",
    "\n",
    "fa_df = fa.fit_transform(df_scaled)[:,0:2]\n",
    "fa_df = pd.DataFrame(data = fa_df\n",
    "             , columns = ['Factor 1', 'Factor 2'])\n",
    "status = data.loc[:,'TYPE']\n",
    "status = pd.DataFrame(status, columns = ['TYPE'])\n",
    "fa_df['TYPE'] = status\n",
    "sns.scatterplot(x = 'Factor 1', y = 'Factor 2', data = fa_df, hue = 'TYPE', palette = 'plasma')\n",
    "plt.legend(loc = 'lower right')\n"
   ]
  },
  {
   "cell_type": "code",
   "execution_count": 12,
   "metadata": {},
   "outputs": [
    {
     "name": "stdout",
     "output_type": "stream",
     "text": [
      "<class 'pandas.core.frame.DataFrame'>\n",
      "RangeIndex: 12 entries, 0 to 11\n",
      "Data columns (total 3 columns):\n",
      "Factor 1    12 non-null float64\n",
      "Factor 2    12 non-null float64\n",
      "TYPE        12 non-null object\n",
      "dtypes: float64(2), object(1)\n",
      "memory usage: 368.0+ bytes\n"
     ]
    }
   ],
   "source": [
    "fa_df.info()"
   ]
  },
  {
   "cell_type": "code",
   "execution_count": 13,
   "metadata": {},
   "outputs": [
    {
     "data": {
      "image/png": "[encoded data removed]",
      "text/plain": [
       "<Figure size 864x648 with 1 Axes>"
      ]
     },
     "metadata": {},
     "output_type": "display_data"
    },
    {
     "data": {
      "text/plain": [
       "<Figure size 576x396 with 0 Axes>"
      ]
     },
     "metadata": {},
     "output_type": "display_data"
    }
   ],
   "source": [
    "plt.figure(figsize = (12, 9))\n",
    "for i in range(7):\n",
    "    if i == 0:\n",
    "        plt.arrow(0, 0, fa.loadings_.T[0,i], fa.loadings_.T[1,i])\n",
    "        plt.text(fa.loadings_.T[0,i] * 0.7, fa.loadings_.T[1,i], s = df.columns[i])\n",
    "    else:\n",
    "        plt.arrow(0, 0, fa.loadings_.T[0,i], fa.loadings_.T[1,i])\n",
    "        plt.text(fa.loadings_.T[0,i] , fa.loadings_.T[1,i], s = df.columns[i])\n",
    "        \n",
    "plt.axvline(x =0, color = 'skyblue', linewidth = .8)\n",
    "plt.axhline(y =0, color = 'skyblue', linewidth = .8)\n",
    "plt.xlabel('Factor1')\n",
    "plt.ylabel('Factor2')\n",
    "\n",
    "fa_df2 = fa.fit_transform(df_scaled)[:,0:2]\n",
    "fa_df2 = pd.DataFrame(data = fa_df2\n",
    "             , columns = ['Factor 1', 'Factor 2'])\n",
    "child = data_ch.loc[:,'CHILD']\n",
    "child = pd.DataFrame(child, columns = ['CHILD'])\n",
    "fa_df2['CHILD'] = child\n",
    "fa_df2['CHILD'] = fa_df2['CHILD'].astype('int32')\n",
    "sns.scatterplot(x = 'Factor 1', y = 'Factor 2', data = fa_df2, palette = 'plasma', hue = 'CHILD')\n",
    "plt.show()\n",
    "plt.savefig('biplot2.png', dpi = 2000)"
   ]
  },
  {
   "cell_type": "code",
   "execution_count": 14,
   "metadata": {},
   "outputs": [
    {
     "data": {
      "text/html": [
       "<div>\n",
       "<style scoped>\n",
       "    .dataframe tbody tr th:only-of-type {\n",
       "        vertical-align: middle;\n",
       "    }\n",
       "\n",
       "    .dataframe tbody tr th {\n",
       "        vertical-align: top;\n",
       "    }\n",
       "\n",
       "    .dataframe thead th {\n",
       "        text-align: right;\n",
       "    }\n",
       "</style>\n",
       "<table border=\"1\" class=\"dataframe\">\n",
       "  <thead>\n",
       "    <tr style=\"text-align: right;\">\n",
       "      <th></th>\n",
       "      <th>BREAD</th>\n",
       "      <th>VEGETABLES</th>\n",
       "      <th>FRUITS</th>\n",
       "      <th>MEAT</th>\n",
       "      <th>POULTRY</th>\n",
       "      <th>MILK</th>\n",
       "      <th>WINE</th>\n",
       "      <th>CHILD</th>\n",
       "    </tr>\n",
       "  </thead>\n",
       "  <tbody>\n",
       "    <tr>\n",
       "      <th>0</th>\n",
       "      <td>332</td>\n",
       "      <td>428</td>\n",
       "      <td>354</td>\n",
       "      <td>1437</td>\n",
       "      <td>526</td>\n",
       "      <td>247</td>\n",
       "      <td>427</td>\n",
       "      <td>2</td>\n",
       "    </tr>\n",
       "    <tr>\n",
       "      <th>1</th>\n",
       "      <td>293</td>\n",
       "      <td>559</td>\n",
       "      <td>388</td>\n",
       "      <td>1527</td>\n",
       "      <td>567</td>\n",
       "      <td>239</td>\n",
       "      <td>258</td>\n",
       "      <td>2</td>\n",
       "    </tr>\n",
       "    <tr>\n",
       "      <th>2</th>\n",
       "      <td>372</td>\n",
       "      <td>767</td>\n",
       "      <td>562</td>\n",
       "      <td>1948</td>\n",
       "      <td>927</td>\n",
       "      <td>235</td>\n",
       "      <td>433</td>\n",
       "      <td>2</td>\n",
       "    </tr>\n",
       "    <tr>\n",
       "      <th>3</th>\n",
       "      <td>406</td>\n",
       "      <td>563</td>\n",
       "      <td>341</td>\n",
       "      <td>1507</td>\n",
       "      <td>544</td>\n",
       "      <td>324</td>\n",
       "      <td>407</td>\n",
       "      <td>3</td>\n",
       "    </tr>\n",
       "    <tr>\n",
       "      <th>4</th>\n",
       "      <td>386</td>\n",
       "      <td>608</td>\n",
       "      <td>396</td>\n",
       "      <td>1501</td>\n",
       "      <td>558</td>\n",
       "      <td>319</td>\n",
       "      <td>363</td>\n",
       "      <td>3</td>\n",
       "    </tr>\n",
       "    <tr>\n",
       "      <th>5</th>\n",
       "      <td>438</td>\n",
       "      <td>843</td>\n",
       "      <td>689</td>\n",
       "      <td>2345</td>\n",
       "      <td>1148</td>\n",
       "      <td>243</td>\n",
       "      <td>341</td>\n",
       "      <td>3</td>\n",
       "    </tr>\n",
       "    <tr>\n",
       "      <th>6</th>\n",
       "      <td>534</td>\n",
       "      <td>660</td>\n",
       "      <td>367</td>\n",
       "      <td>1620</td>\n",
       "      <td>638</td>\n",
       "      <td>414</td>\n",
       "      <td>407</td>\n",
       "      <td>4</td>\n",
       "    </tr>\n",
       "    <tr>\n",
       "      <th>7</th>\n",
       "      <td>460</td>\n",
       "      <td>699</td>\n",
       "      <td>484</td>\n",
       "      <td>1856</td>\n",
       "      <td>762</td>\n",
       "      <td>400</td>\n",
       "      <td>416</td>\n",
       "      <td>4</td>\n",
       "    </tr>\n",
       "    <tr>\n",
       "      <th>8</th>\n",
       "      <td>385</td>\n",
       "      <td>789</td>\n",
       "      <td>621</td>\n",
       "      <td>2366</td>\n",
       "      <td>1149</td>\n",
       "      <td>304</td>\n",
       "      <td>282</td>\n",
       "      <td>4</td>\n",
       "    </tr>\n",
       "    <tr>\n",
       "      <th>9</th>\n",
       "      <td>655</td>\n",
       "      <td>776</td>\n",
       "      <td>423</td>\n",
       "      <td>1848</td>\n",
       "      <td>759</td>\n",
       "      <td>495</td>\n",
       "      <td>486</td>\n",
       "      <td>5</td>\n",
       "    </tr>\n",
       "    <tr>\n",
       "      <th>10</th>\n",
       "      <td>584</td>\n",
       "      <td>995</td>\n",
       "      <td>548</td>\n",
       "      <td>2056</td>\n",
       "      <td>893</td>\n",
       "      <td>518</td>\n",
       "      <td>319</td>\n",
       "      <td>5</td>\n",
       "    </tr>\n",
       "    <tr>\n",
       "      <th>11</th>\n",
       "      <td>515</td>\n",
       "      <td>1097</td>\n",
       "      <td>887</td>\n",
       "      <td>2630</td>\n",
       "      <td>1167</td>\n",
       "      <td>561</td>\n",
       "      <td>284</td>\n",
       "      <td>5</td>\n",
       "    </tr>\n",
       "  </tbody>\n",
       "</table>\n",
       "</div>"
      ],
      "text/plain": [
       "    BREAD  VEGETABLES  FRUITS  MEAT  POULTRY  MILK  WINE CHILD\n",
       "0     332         428     354  1437      526   247   427     2\n",
       "1     293         559     388  1527      567   239   258     2\n",
       "2     372         767     562  1948      927   235   433     2\n",
       "3     406         563     341  1507      544   324   407     3\n",
       "4     386         608     396  1501      558   319   363     3\n",
       "5     438         843     689  2345     1148   243   341     3\n",
       "6     534         660     367  1620      638   414   407     4\n",
       "7     460         699     484  1856      762   400   416     4\n",
       "8     385         789     621  2366     1149   304   282     4\n",
       "9     655         776     423  1848      759   495   486     5\n",
       "10    584         995     548  2056      893   518   319     5\n",
       "11    515        1097     887  2630     1167   561   284     5"
      ]
     },
     "execution_count": 14,
     "metadata": {},
     "output_type": "execute_result"
    }
   ],
   "source": [
    "data_ch"
   ]
  },
  {
   "cell_type": "code",
   "execution_count": 15,
   "metadata": {},
   "outputs": [
    {
     "name": "stdout",
     "output_type": "stream",
     "text": [
      "<class 'pandas.core.frame.DataFrame'>\n",
      "RangeIndex: 12 entries, 0 to 11\n",
      "Data columns (total 3 columns):\n",
      "Factor 1    12 non-null float64\n",
      "Factor 2    12 non-null float64\n",
      "CHILD       12 non-null int32\n",
      "dtypes: float64(2), int32(1)\n",
      "memory usage: 320.0 bytes\n"
     ]
    }
   ],
   "source": [
    "fa_df2.info()"
   ]
  },
  {
   "cell_type": "code",
   "execution_count": null,
   "metadata": {},
   "outputs": [],
   "source": []
  }
 ],
 "metadata": {
  "kernelspec": {
   "display_name": "Python 3",
   "language": "python",
   "name": "python3"
  },
  "language_info": {
   "codemirror_mode": {
    "name": "ipython",
    "version": 3
   },
   "file_extension": ".py",
   "mimetype": "text/x-python",
   "name": "python",
   "nbconvert_exporter": "python",
   "pygments_lexer": "ipython3",
   "version": "3.7.3"
  }
 },
 "nbformat": 4,
 "nbformat_minor": 4
}
