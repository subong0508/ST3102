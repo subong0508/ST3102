{
 "cells": [
  {
   "cell_type": "code",
   "execution_count": 1,
   "metadata": {},
   "outputs": [
    {
     "data": {
      "text/html": [
       "<div>\n",
       "<style scoped>\n",
       "    .dataframe tbody tr th:only-of-type {\n",
       "        vertical-align: middle;\n",
       "    }\n",
       "\n",
       "    .dataframe tbody tr th {\n",
       "        vertical-align: top;\n",
       "    }\n",
       "\n",
       "    .dataframe thead th {\n",
       "        text-align: right;\n",
       "    }\n",
       "</style>\n",
       "<table border=\"1\" class=\"dataframe\">\n",
       "  <thead>\n",
       "    <tr style=\"text-align: right;\">\n",
       "      <th></th>\n",
       "      <th>LANDAREA</th>\n",
       "      <th>POPU1985</th>\n",
       "      <th>MURD</th>\n",
       "      <th>RAPE</th>\n",
       "      <th>ROB</th>\n",
       "      <th>ASSA</th>\n",
       "      <th>BURG</th>\n",
       "      <th>LARC</th>\n",
       "      <th>AUTO</th>\n",
       "      <th>REG</th>\n",
       "      <th>DIV</th>\n",
       "    </tr>\n",
       "  </thead>\n",
       "  <tbody>\n",
       "    <tr>\n",
       "      <th>0</th>\n",
       "      <td>33265</td>\n",
       "      <td>1164</td>\n",
       "      <td>1.5</td>\n",
       "      <td>7.0</td>\n",
       "      <td>12.6</td>\n",
       "      <td>62</td>\n",
       "      <td>562</td>\n",
       "      <td>1055</td>\n",
       "      <td>146</td>\n",
       "      <td>1</td>\n",
       "      <td>1</td>\n",
       "    </tr>\n",
       "    <tr>\n",
       "      <th>1</th>\n",
       "      <td>9279</td>\n",
       "      <td>998</td>\n",
       "      <td>2.0</td>\n",
       "      <td>6.0</td>\n",
       "      <td>12.1</td>\n",
       "      <td>36</td>\n",
       "      <td>566</td>\n",
       "      <td>929</td>\n",
       "      <td>172</td>\n",
       "      <td>1</td>\n",
       "      <td>1</td>\n",
       "    </tr>\n",
       "    <tr>\n",
       "      <th>2</th>\n",
       "      <td>9614</td>\n",
       "      <td>535</td>\n",
       "      <td>1.3</td>\n",
       "      <td>10.3</td>\n",
       "      <td>7.6</td>\n",
       "      <td>55</td>\n",
       "      <td>731</td>\n",
       "      <td>969</td>\n",
       "      <td>124</td>\n",
       "      <td>1</td>\n",
       "      <td>1</td>\n",
       "    </tr>\n",
       "    <tr>\n",
       "      <th>3</th>\n",
       "      <td>8284</td>\n",
       "      <td>5822</td>\n",
       "      <td>3.5</td>\n",
       "      <td>12.0</td>\n",
       "      <td>99.5</td>\n",
       "      <td>88</td>\n",
       "      <td>1134</td>\n",
       "      <td>1531</td>\n",
       "      <td>878</td>\n",
       "      <td>1</td>\n",
       "      <td>1</td>\n",
       "    </tr>\n",
       "    <tr>\n",
       "      <th>4</th>\n",
       "      <td>1212</td>\n",
       "      <td>968</td>\n",
       "      <td>3.2</td>\n",
       "      <td>3.6</td>\n",
       "      <td>78.3</td>\n",
       "      <td>120</td>\n",
       "      <td>1019</td>\n",
       "      <td>2186</td>\n",
       "      <td>859</td>\n",
       "      <td>1</td>\n",
       "      <td>1</td>\n",
       "    </tr>\n",
       "  </tbody>\n",
       "</table>\n",
       "</div>"
      ],
      "text/plain": [
       "   LANDAREA  POPU1985  MURD  RAPE   ROB  ASSA  BURG  LARC  AUTO  REG  DIV\n",
       "0     33265      1164   1.5   7.0  12.6    62   562  1055   146    1    1\n",
       "1      9279       998   2.0   6.0  12.1    36   566   929   172    1    1\n",
       "2      9614       535   1.3  10.3   7.6    55   731   969   124    1    1\n",
       "3      8284      5822   3.5  12.0  99.5    88  1134  1531   878    1    1\n",
       "4      1212       968   3.2   3.6  78.3   120  1019  2186   859    1    1"
      ]
     },
     "execution_count": 1,
     "metadata": {},
     "output_type": "execute_result"
    }
   ],
   "source": [
    "import numpy as np\n",
    "import pandas as pd\n",
    "import matplotlib.pyplot as plt\n",
    "import seaborn as sns\n",
    "%matplotlib inline\n",
    "crime = pd.read_csv('US_Crime.csv')\n",
    "crime.head()"
   ]
  },
  {
   "cell_type": "code",
   "execution_count": 2,
   "metadata": {},
   "outputs": [
    {
     "name": "stdout",
     "output_type": "stream",
     "text": [
      "<class 'pandas.core.frame.DataFrame'>\n",
      "RangeIndex: 50 entries, 0 to 49\n",
      "Data columns (total 11 columns):\n",
      "LANDAREA    50 non-null int64\n",
      "POPU1985    50 non-null int64\n",
      "MURD        50 non-null float64\n",
      "RAPE        50 non-null float64\n",
      "ROB         50 non-null float64\n",
      "ASSA        50 non-null int64\n",
      "BURG        50 non-null int64\n",
      "LARC        50 non-null int64\n",
      "AUTO        50 non-null int64\n",
      "REG         50 non-null int64\n",
      "DIV         50 non-null int64\n",
      "dtypes: float64(3), int64(8)\n",
      "memory usage: 4.4 KB\n"
     ]
    }
   ],
   "source": [
    "crime.info()"
   ]
  },
  {
   "cell_type": "markdown",
   "metadata": {},
   "source": [
    "결측값이 없는 좋은 데이터"
   ]
  },
  {
   "cell_type": "code",
   "execution_count": 3,
   "metadata": {},
   "outputs": [
    {
     "data": {
      "text/plain": [
       "1     9\n",
       "2    12\n",
       "3    16\n",
       "4    13\n",
       "Name: REG, dtype: int64"
      ]
     },
     "execution_count": 3,
     "metadata": {},
     "output_type": "execute_result"
    }
   ],
   "source": [
    "crime['REG'].value_counts().sort_index()"
   ]
  },
  {
   "cell_type": "code",
   "execution_count": 4,
   "metadata": {},
   "outputs": [
    {
     "data": {
      "text/plain": [
       "REG  DIV\n",
       "1    1      6\n",
       "     2      3\n",
       "2    3      5\n",
       "     4      7\n",
       "3    5      8\n",
       "     6      4\n",
       "     7      4\n",
       "4    8      8\n",
       "     9      5\n",
       "dtype: int64"
      ]
     },
     "execution_count": 4,
     "metadata": {},
     "output_type": "execute_result"
    }
   ],
   "source": [
    "crime.groupby(['REG', 'DIV']).size()"
   ]
  },
  {
   "cell_type": "markdown",
   "metadata": {},
   "source": [
    "![reg](https://study.com/cimages/multimages/16/regions.gif)\n",
    "\n",
    "즉 이렇게 네 가지로 Region을 나누고, Region1은 Northeast, Region2는 South, Region3은 MidWest, Region4는 West  \n",
    "Division은 Region안에서 더 세부적으로 나눈 것에 해당한다\n",
    "\n",
    "나머지 변수 설명을 해보자면 다음과 같다. <br>\n",
    "- LANDAREA: 땅 면적\n",
    "- POPU1985: 1985년 인구수\n",
    "- MURD: 살인 발생수\n",
    "- RAPE: 강간 발생수\n",
    "- ROB: 강도 발생수\n",
    "- ASSA: 폭행 발생수\n",
    "- BURG: 강도 발생수(폭행X)\n",
    "- LARC: 절도 발생수\n",
    "- AUTO: 차량 절도 <br>\n",
    "\n",
    "단위는 모르겠으나 PCA에서는 scaling이 필수적이므로 몰라도 된다 <br>\n",
    "REG, DIV 변수는 category 변수이므로 변환해주고 나머지 변수도 연산이 쉽게 실수형 변수로 바꿔주도록 하자"
   ]
  },
  {
   "cell_type": "code",
   "execution_count": 5,
   "metadata": {},
   "outputs": [
    {
     "data": {
      "text/plain": [
       "Index(['LANDAREA', 'POPU1985', 'MURD', 'RAPE', 'ROB', 'ASSA', 'BURG', 'LARC',\n",
       "       'AUTO', 'REG', 'DIV'],\n",
       "      dtype='object')"
      ]
     },
     "execution_count": 5,
     "metadata": {},
     "output_type": "execute_result"
    }
   ],
   "source": [
    "crime.columns"
   ]
  },
  {
   "cell_type": "code",
   "execution_count": 6,
   "metadata": {},
   "outputs": [
    {
     "name": "stdout",
     "output_type": "stream",
     "text": [
      "<class 'pandas.core.frame.DataFrame'>\n",
      "RangeIndex: 50 entries, 0 to 49\n",
      "Data columns (total 11 columns):\n",
      "LANDAREA    50 non-null float64\n",
      "POPU1985    50 non-null float64\n",
      "MURD        50 non-null float64\n",
      "RAPE        50 non-null float64\n",
      "ROB         50 non-null float64\n",
      "ASSA        50 non-null float64\n",
      "BURG        50 non-null float64\n",
      "LARC        50 non-null float64\n",
      "AUTO        50 non-null float64\n",
      "REG         50 non-null category\n",
      "DIV         50 non-null category\n",
      "dtypes: category(2), float64(9)\n",
      "memory usage: 4.3 KB\n"
     ]
    }
   ],
   "source": [
    "for name in crime.columns[:9]:\n",
    "    crime[name] = crime[name].astype('float64')\n",
    "    \n",
    "for name in crime.columns[9:]:\n",
    "    crime[name] = crime[name].astype('category')\n",
    "    \n",
    "crime.info()"
   ]
  },
  {
   "cell_type": "code",
   "execution_count": 7,
   "metadata": {},
   "outputs": [
    {
     "data": {
      "image/png": "[encoded data removed]",
      "text/plain": [
       "<Figure size 576x432 with 2 Axes>"
      ]
     },
     "metadata": {
      "needs_background": "light"
     },
     "output_type": "display_data"
    }
   ],
   "source": [
    "cor = crime.loc[:,'LANDAREA':'AUTO'].corr()\n",
    "plt.figure(figsize = (8,6))\n",
    "sns.heatmap(cor, annot = True, vmin = -1,vmax = 1, cmap = 'coolwarm')\n",
    "plt.show()"
   ]
  },
  {
   "cell_type": "markdown",
   "metadata": {},
   "source": [
    "여러 범죄간 강한 상관관계 존재 <br>\n",
    "POPU1985와 여러 범죄 발생간 양의 상관관계 존재 - 인구수가 많으면 당연히 범죄수도 많겠지? <br>\n",
    "LANDAREA와 여러 범죄는 다양한 상관관계 존재 - 흥미로운 점은 살인, 강간, 절도와 뚜렷한 양의 상관관계가 보인다는 점 <br>\n",
    "그리고 인구수와 땅 면적의 상관관계가 0에 가까운 것으로 보았을 때 면적과 인구는 비례하지 않음을 알 수 있다. <br>\n",
    "우리나라만 생각해봐도 작은 서울에 사람이 바글바글 <br>"
   ]
  },
  {
   "cell_type": "markdown",
   "metadata": {},
   "source": [
    "<h1> 분석을 두 가지로 나눠서 해보자 ! </h1>\n",
    "<h2> 1. 전체 데이터에 대한 PCA를 하고 loadings를 보기 </h2>"
   ]
  },
  {
   "cell_type": "code",
   "execution_count": 8,
   "metadata": {},
   "outputs": [],
   "source": [
    "df = crime.loc[:,'LANDAREA':'AUTO'].copy()"
   ]
  },
  {
   "cell_type": "markdown",
   "metadata": {},
   "source": [
    "PCA는 숫자형 변수에만 할 수 있으니 REG, DIV 변수는 빼준다"
   ]
  },
  {
   "cell_type": "code",
   "execution_count": 9,
   "metadata": {},
   "outputs": [
    {
     "data": {
      "text/html": [
       "<div>\n",
       "<style scoped>\n",
       "    .dataframe tbody tr th:only-of-type {\n",
       "        vertical-align: middle;\n",
       "    }\n",
       "\n",
       "    .dataframe tbody tr th {\n",
       "        vertical-align: top;\n",
       "    }\n",
       "\n",
       "    .dataframe thead th {\n",
       "        text-align: right;\n",
       "    }\n",
       "</style>\n",
       "<table border=\"1\" class=\"dataframe\">\n",
       "  <thead>\n",
       "    <tr style=\"text-align: right;\">\n",
       "      <th></th>\n",
       "      <th>LANDAREA</th>\n",
       "      <th>POPU1985</th>\n",
       "      <th>MURD</th>\n",
       "      <th>RAPE</th>\n",
       "      <th>ROB</th>\n",
       "      <th>ASSA</th>\n",
       "      <th>BURG</th>\n",
       "      <th>LARC</th>\n",
       "      <th>AUTO</th>\n",
       "    </tr>\n",
       "  </thead>\n",
       "  <tbody>\n",
       "    <tr>\n",
       "      <th>0</th>\n",
       "      <td>33265.0</td>\n",
       "      <td>1164.0</td>\n",
       "      <td>1.5</td>\n",
       "      <td>7.0</td>\n",
       "      <td>12.6</td>\n",
       "      <td>62.0</td>\n",
       "      <td>562.0</td>\n",
       "      <td>1055.0</td>\n",
       "      <td>146.0</td>\n",
       "    </tr>\n",
       "    <tr>\n",
       "      <th>1</th>\n",
       "      <td>9279.0</td>\n",
       "      <td>998.0</td>\n",
       "      <td>2.0</td>\n",
       "      <td>6.0</td>\n",
       "      <td>12.1</td>\n",
       "      <td>36.0</td>\n",
       "      <td>566.0</td>\n",
       "      <td>929.0</td>\n",
       "      <td>172.0</td>\n",
       "    </tr>\n",
       "    <tr>\n",
       "      <th>2</th>\n",
       "      <td>9614.0</td>\n",
       "      <td>535.0</td>\n",
       "      <td>1.3</td>\n",
       "      <td>10.3</td>\n",
       "      <td>7.6</td>\n",
       "      <td>55.0</td>\n",
       "      <td>731.0</td>\n",
       "      <td>969.0</td>\n",
       "      <td>124.0</td>\n",
       "    </tr>\n",
       "    <tr>\n",
       "      <th>3</th>\n",
       "      <td>8284.0</td>\n",
       "      <td>5822.0</td>\n",
       "      <td>3.5</td>\n",
       "      <td>12.0</td>\n",
       "      <td>99.5</td>\n",
       "      <td>88.0</td>\n",
       "      <td>1134.0</td>\n",
       "      <td>1531.0</td>\n",
       "      <td>878.0</td>\n",
       "    </tr>\n",
       "    <tr>\n",
       "      <th>4</th>\n",
       "      <td>1212.0</td>\n",
       "      <td>968.0</td>\n",
       "      <td>3.2</td>\n",
       "      <td>3.6</td>\n",
       "      <td>78.3</td>\n",
       "      <td>120.0</td>\n",
       "      <td>1019.0</td>\n",
       "      <td>2186.0</td>\n",
       "      <td>859.0</td>\n",
       "    </tr>\n",
       "  </tbody>\n",
       "</table>\n",
       "</div>"
      ],
      "text/plain": [
       "   LANDAREA  POPU1985  MURD  RAPE   ROB   ASSA    BURG    LARC   AUTO\n",
       "0   33265.0    1164.0   1.5   7.0  12.6   62.0   562.0  1055.0  146.0\n",
       "1    9279.0     998.0   2.0   6.0  12.1   36.0   566.0   929.0  172.0\n",
       "2    9614.0     535.0   1.3  10.3   7.6   55.0   731.0   969.0  124.0\n",
       "3    8284.0    5822.0   3.5  12.0  99.5   88.0  1134.0  1531.0  878.0\n",
       "4    1212.0     968.0   3.2   3.6  78.3  120.0  1019.0  2186.0  859.0"
      ]
     },
     "execution_count": 9,
     "metadata": {},
     "output_type": "execute_result"
    }
   ],
   "source": [
    "df.head()"
   ]
  },
  {
   "cell_type": "code",
   "execution_count": 10,
   "metadata": {},
   "outputs": [],
   "source": [
    "from sklearn.preprocessing import StandardScaler"
   ]
  },
  {
   "cell_type": "code",
   "execution_count": 11,
   "metadata": {},
   "outputs": [],
   "source": [
    "scaler = StandardScaler()"
   ]
  },
  {
   "cell_type": "code",
   "execution_count": 12,
   "metadata": {},
   "outputs": [
    {
     "data": {
      "text/plain": [
       "StandardScaler(copy=True, with_mean=True, with_std=True)"
      ]
     },
     "execution_count": 12,
     "metadata": {},
     "output_type": "execute_result"
    }
   ],
   "source": [
    "scaler.fit(df)"
   ]
  },
  {
   "cell_type": "code",
   "execution_count": 13,
   "metadata": {},
   "outputs": [],
   "source": [
    "df_scaled = scaler.transform(df)"
   ]
  },
  {
   "cell_type": "code",
   "execution_count": 14,
   "metadata": {},
   "outputs": [
    {
     "data": {
      "text/html": [
       "<div>\n",
       "<style scoped>\n",
       "    .dataframe tbody tr th:only-of-type {\n",
       "        vertical-align: middle;\n",
       "    }\n",
       "\n",
       "    .dataframe tbody tr th {\n",
       "        vertical-align: top;\n",
       "    }\n",
       "\n",
       "    .dataframe thead th {\n",
       "        text-align: right;\n",
       "    }\n",
       "</style>\n",
       "<table border=\"1\" class=\"dataframe\">\n",
       "  <thead>\n",
       "    <tr style=\"text-align: right;\">\n",
       "      <th></th>\n",
       "      <th>LANDAREA</th>\n",
       "      <th>POPU1985</th>\n",
       "      <th>MURD</th>\n",
       "      <th>RAPE</th>\n",
       "      <th>ROB</th>\n",
       "      <th>ASSA</th>\n",
       "      <th>BURG</th>\n",
       "      <th>LARC</th>\n",
       "      <th>AUTO</th>\n",
       "    </tr>\n",
       "  </thead>\n",
       "  <tbody>\n",
       "    <tr>\n",
       "      <th>mean</th>\n",
       "      <td>-2.664535e-17</td>\n",
       "      <td>-9.103829e-17</td>\n",
       "      <td>-2.020606e-16</td>\n",
       "      <td>-1.265654e-16</td>\n",
       "      <td>-5.662137e-17</td>\n",
       "      <td>1.820766e-16</td>\n",
       "      <td>1.154632e-16</td>\n",
       "      <td>-1.554312e-16</td>\n",
       "      <td>-6.661338e-17</td>\n",
       "    </tr>\n",
       "    <tr>\n",
       "      <th>std</th>\n",
       "      <td>1.010153e+00</td>\n",
       "      <td>1.010153e+00</td>\n",
       "      <td>1.010153e+00</td>\n",
       "      <td>1.010153e+00</td>\n",
       "      <td>1.010153e+00</td>\n",
       "      <td>1.010153e+00</td>\n",
       "      <td>1.010153e+00</td>\n",
       "      <td>1.010153e+00</td>\n",
       "      <td>1.010153e+00</td>\n",
       "    </tr>\n",
       "  </tbody>\n",
       "</table>\n",
       "</div>"
      ],
      "text/plain": [
       "          LANDAREA      POPU1985          MURD          RAPE           ROB  \\\n",
       "mean -2.664535e-17 -9.103829e-17 -2.020606e-16 -1.265654e-16 -5.662137e-17   \n",
       "std   1.010153e+00  1.010153e+00  1.010153e+00  1.010153e+00  1.010153e+00   \n",
       "\n",
       "              ASSA          BURG          LARC          AUTO  \n",
       "mean  1.820766e-16  1.154632e-16 -1.554312e-16 -6.661338e-17  \n",
       "std   1.010153e+00  1.010153e+00  1.010153e+00  1.010153e+00  "
      ]
     },
     "execution_count": 14,
     "metadata": {},
     "output_type": "execute_result"
    }
   ],
   "source": [
    "pd.DataFrame(df_scaled, columns = df.columns).describe().loc[['mean', 'std']]"
   ]
  },
  {
   "cell_type": "markdown",
   "metadata": {},
   "source": [
    "scaling이 잘 되었음을 알 수 있다"
   ]
  },
  {
   "cell_type": "code",
   "execution_count": 15,
   "metadata": {},
   "outputs": [],
   "source": [
    "from sklearn.decomposition import PCA"
   ]
  },
  {
   "cell_type": "code",
   "execution_count": 16,
   "metadata": {},
   "outputs": [],
   "source": [
    "pca = PCA()"
   ]
  },
  {
   "cell_type": "code",
   "execution_count": 17,
   "metadata": {},
   "outputs": [
    {
     "data": {
      "text/plain": [
       "PCA(copy=True, iterated_power='auto', n_components=None, random_state=None,\n",
       "    svd_solver='auto', tol=0.0, whiten=False)"
      ]
     },
     "execution_count": 17,
     "metadata": {},
     "output_type": "execute_result"
    }
   ],
   "source": [
    "pca.fit(df_scaled)"
   ]
  },
  {
   "cell_type": "code",
   "execution_count": 18,
   "metadata": {},
   "outputs": [],
   "source": [
    "x_pca = pca.transform(df_scaled)"
   ]
  },
  {
   "cell_type": "code",
   "execution_count": 19,
   "metadata": {},
   "outputs": [
    {
     "name": "stdout",
     "output_type": "stream",
     "text": [
      "1 번째 PC까지 사용했을 때 설명되는 분산의 비율: 49.58%\n",
      "2 번째 PC까지 사용했을 때 설명되는 분산의 비율: 65.90%\n",
      "3 번째 PC까지 사용했을 때 설명되는 분산의 비율: 78.73%\n",
      "4 번째 PC까지 사용했을 때 설명되는 분산의 비율: 86.83%\n",
      "5 번째 PC까지 사용했을 때 설명되는 분산의 비율: 91.86%\n",
      "6 번째 PC까지 사용했을 때 설명되는 분산의 비율: 94.94%\n",
      "7 번째 PC까지 사용했을 때 설명되는 분산의 비율: 97.44%\n",
      "8 번째 PC까지 사용했을 때 설명되는 분산의 비율: 98.92%\n",
      "9 번째 PC까지 사용했을 때 설명되는 분산의 비율: 100.00%\n"
     ]
    }
   ],
   "source": [
    "lambdas = pca.explained_variance_ratio_\n",
    "var = 0\n",
    "j = 0\n",
    "for i in lambdas:\n",
    "    var += i \n",
    "    percent = format(var * 100, '.2f')\n",
    "    j += 1\n",
    "    print('{} 번째 PC까지 사용했을 때 설명되는 분산의 비율: {}%'.format(j, percent)) "
   ]
  },
  {
   "cell_type": "code",
   "execution_count": 20,
   "metadata": {},
   "outputs": [
    {
     "data": {
      "image/png": "[encoded data removed]",
      "text/plain": [
       "<Figure size 576x432 with 1 Axes>"
      ]
     },
     "metadata": {
      "needs_background": "light"
     },
     "output_type": "display_data"
    }
   ],
   "source": [
    "plt.figure(figsize = (8,6))\n",
    "plt.style.use('ggplot')\n",
    "sns.lineplot(data = lambdas, marker = 'o')\n",
    "plt.xlabel('Principal Component')\n",
    "plt.ylabel('Explained Variance')\n",
    "plt.ylim((0, .55))\n",
    "plt.show()"
   ]
  },
  {
   "cell_type": "code",
   "execution_count": 21,
   "metadata": {},
   "outputs": [
    {
     "data": {
      "text/plain": [
       "(50, 2)"
      ]
     },
     "execution_count": 21,
     "metadata": {},
     "output_type": "execute_result"
    }
   ],
   "source": [
    "principalComponents = pca.fit_transform(df_scaled)[:,0:2]\n",
    "principalComponents.shape"
   ]
  },
  {
   "cell_type": "code",
   "execution_count": 22,
   "metadata": {},
   "outputs": [
    {
     "data": {
      "image/png": "[encoded data removed]",
      "text/plain": [
       "<Figure size 576x432 with 1 Axes>"
      ]
     },
     "metadata": {},
     "output_type": "display_data"
    }
   ],
   "source": [
    "principalDf = pd.DataFrame(data = principalComponents\n",
    "             , columns = ['principal component 1', 'principal component 2'])\n",
    "reg = crime.loc[:,'REG']\n",
    "reg = pd.DataFrame(reg, columns = ['REG'])\n",
    "finalDF = principalDf\n",
    "finalDF['REG'] = reg\n",
    "plt.figure(figsize= (8, 6))\n",
    "sns.scatterplot(x = 'principal component 1', y = 'principal component 2', data = finalDF, hue = 'REG', palette = 'plasma')\n",
    "plt.legend()\n",
    "\n",
    "for i in range(9):\n",
    "    plt.arrow(0, 0, pca.components_[i,0], pca.components_[i,1], color = 'r')\n",
    "    plt.text(pca.components_[i,0] * 1.5, pca.components_[i,1] * 1.5, 'var' + str(i+1), ha = 'center', va = 'center')\n",
    "    \n",
    "plt.show()"
   ]
  },
  {
   "cell_type": "markdown",
   "metadata": {},
   "source": [
    "첫 번째 PC에서는 여러 범죄들과 땅의 면적, 인구수의 회귀계수가 모두 + 이고 눈에 띄는 값은 크게 없다.   \n",
    "두 번째 PC에서는 살인 변수가 눈에 띈다   \n",
    "세 번째 PC에서는 땅의 면적이 눈에 띈다  \n",
    "네 번째 PC에서는 인구가눈에 띈다   \n",
    "다섯 번째 PC에서는 차량강도가 눈에 띈다"
   ]
  },
  {
   "cell_type": "markdown",
   "metadata": {},
   "source": [
    "<h2> 2. REG변수(지역변수) 별로 PCA를 하고 loadings를 보기 </h2>"
   ]
  },
  {
   "cell_type": "code",
   "execution_count": 23,
   "metadata": {},
   "outputs": [],
   "source": [
    "region = crime.groupby('REG')"
   ]
  },
  {
   "cell_type": "code",
   "execution_count": 24,
   "metadata": {},
   "outputs": [],
   "source": [
    "region1 = region.get_group(1)\n",
    "region2 = region.get_group(2)\n",
    "region3 = region.get_group(3)\n",
    "region4 = region.get_group(4)"
   ]
  },
  {
   "cell_type": "code",
   "execution_count": 25,
   "metadata": {},
   "outputs": [
    {
     "data": {
      "text/html": [
       "<div>\n",
       "<style scoped>\n",
       "    .dataframe tbody tr th:only-of-type {\n",
       "        vertical-align: middle;\n",
       "    }\n",
       "\n",
       "    .dataframe tbody tr th {\n",
       "        vertical-align: top;\n",
       "    }\n",
       "\n",
       "    .dataframe thead th {\n",
       "        text-align: right;\n",
       "    }\n",
       "</style>\n",
       "<table border=\"1\" class=\"dataframe\">\n",
       "  <thead>\n",
       "    <tr style=\"text-align: right;\">\n",
       "      <th></th>\n",
       "      <th>LANDAREA</th>\n",
       "      <th>POPU1985</th>\n",
       "      <th>MURD</th>\n",
       "      <th>RAPE</th>\n",
       "      <th>ROB</th>\n",
       "      <th>ASSA</th>\n",
       "      <th>BURG</th>\n",
       "      <th>LARC</th>\n",
       "      <th>AUTO</th>\n",
       "      <th>REG</th>\n",
       "      <th>DIV</th>\n",
       "    </tr>\n",
       "  </thead>\n",
       "  <tbody>\n",
       "    <tr>\n",
       "      <th>0</th>\n",
       "      <td>33265.0</td>\n",
       "      <td>1164.0</td>\n",
       "      <td>1.5</td>\n",
       "      <td>7.0</td>\n",
       "      <td>12.6</td>\n",
       "      <td>62.0</td>\n",
       "      <td>562.0</td>\n",
       "      <td>1055.0</td>\n",
       "      <td>146.0</td>\n",
       "      <td>1</td>\n",
       "      <td>1</td>\n",
       "    </tr>\n",
       "    <tr>\n",
       "      <th>1</th>\n",
       "      <td>9279.0</td>\n",
       "      <td>998.0</td>\n",
       "      <td>2.0</td>\n",
       "      <td>6.0</td>\n",
       "      <td>12.1</td>\n",
       "      <td>36.0</td>\n",
       "      <td>566.0</td>\n",
       "      <td>929.0</td>\n",
       "      <td>172.0</td>\n",
       "      <td>1</td>\n",
       "      <td>1</td>\n",
       "    </tr>\n",
       "    <tr>\n",
       "      <th>2</th>\n",
       "      <td>9614.0</td>\n",
       "      <td>535.0</td>\n",
       "      <td>1.3</td>\n",
       "      <td>10.3</td>\n",
       "      <td>7.6</td>\n",
       "      <td>55.0</td>\n",
       "      <td>731.0</td>\n",
       "      <td>969.0</td>\n",
       "      <td>124.0</td>\n",
       "      <td>1</td>\n",
       "      <td>1</td>\n",
       "    </tr>\n",
       "    <tr>\n",
       "      <th>3</th>\n",
       "      <td>8284.0</td>\n",
       "      <td>5822.0</td>\n",
       "      <td>3.5</td>\n",
       "      <td>12.0</td>\n",
       "      <td>99.5</td>\n",
       "      <td>88.0</td>\n",
       "      <td>1134.0</td>\n",
       "      <td>1531.0</td>\n",
       "      <td>878.0</td>\n",
       "      <td>1</td>\n",
       "      <td>1</td>\n",
       "    </tr>\n",
       "    <tr>\n",
       "      <th>4</th>\n",
       "      <td>1212.0</td>\n",
       "      <td>968.0</td>\n",
       "      <td>3.2</td>\n",
       "      <td>3.6</td>\n",
       "      <td>78.3</td>\n",
       "      <td>120.0</td>\n",
       "      <td>1019.0</td>\n",
       "      <td>2186.0</td>\n",
       "      <td>859.0</td>\n",
       "      <td>1</td>\n",
       "      <td>1</td>\n",
       "    </tr>\n",
       "  </tbody>\n",
       "</table>\n",
       "</div>"
      ],
      "text/plain": [
       "   LANDAREA  POPU1985  MURD  RAPE   ROB   ASSA    BURG    LARC   AUTO REG DIV\n",
       "0   33265.0    1164.0   1.5   7.0  12.6   62.0   562.0  1055.0  146.0   1   1\n",
       "1    9279.0     998.0   2.0   6.0  12.1   36.0   566.0   929.0  172.0   1   1\n",
       "2    9614.0     535.0   1.3  10.3   7.6   55.0   731.0   969.0  124.0   1   1\n",
       "3    8284.0    5822.0   3.5  12.0  99.5   88.0  1134.0  1531.0  878.0   1   1\n",
       "4    1212.0     968.0   3.2   3.6  78.3  120.0  1019.0  2186.0  859.0   1   1"
      ]
     },
     "execution_count": 25,
     "metadata": {},
     "output_type": "execute_result"
    }
   ],
   "source": [
    "region1.head()"
   ]
  },
  {
   "cell_type": "code",
   "execution_count": 26,
   "metadata": {},
   "outputs": [],
   "source": [
    "region1 = region1.drop(columns = ['REG', 'DIV'])\n",
    "region2 = region2.drop(columns = ['REG', 'DIV'])\n",
    "region3 = region3.drop(columns = ['REG', 'DIV'])\n",
    "region4 = region4.drop(columns = ['REG', 'DIV'])"
   ]
  },
  {
   "cell_type": "code",
   "execution_count": 27,
   "metadata": {},
   "outputs": [
    {
     "data": {
      "text/html": [
       "<div>\n",
       "<style scoped>\n",
       "    .dataframe tbody tr th:only-of-type {\n",
       "        vertical-align: middle;\n",
       "    }\n",
       "\n",
       "    .dataframe tbody tr th {\n",
       "        vertical-align: top;\n",
       "    }\n",
       "\n",
       "    .dataframe thead th {\n",
       "        text-align: right;\n",
       "    }\n",
       "</style>\n",
       "<table border=\"1\" class=\"dataframe\">\n",
       "  <thead>\n",
       "    <tr style=\"text-align: right;\">\n",
       "      <th></th>\n",
       "      <th>LANDAREA</th>\n",
       "      <th>POPU1985</th>\n",
       "      <th>MURD</th>\n",
       "      <th>RAPE</th>\n",
       "      <th>ROB</th>\n",
       "      <th>ASSA</th>\n",
       "      <th>BURG</th>\n",
       "      <th>LARC</th>\n",
       "      <th>AUTO</th>\n",
       "    </tr>\n",
       "  </thead>\n",
       "  <tbody>\n",
       "    <tr>\n",
       "      <th>0</th>\n",
       "      <td>33265.0</td>\n",
       "      <td>1164.0</td>\n",
       "      <td>1.5</td>\n",
       "      <td>7.0</td>\n",
       "      <td>12.6</td>\n",
       "      <td>62.0</td>\n",
       "      <td>562.0</td>\n",
       "      <td>1055.0</td>\n",
       "      <td>146.0</td>\n",
       "    </tr>\n",
       "    <tr>\n",
       "      <th>1</th>\n",
       "      <td>9279.0</td>\n",
       "      <td>998.0</td>\n",
       "      <td>2.0</td>\n",
       "      <td>6.0</td>\n",
       "      <td>12.1</td>\n",
       "      <td>36.0</td>\n",
       "      <td>566.0</td>\n",
       "      <td>929.0</td>\n",
       "      <td>172.0</td>\n",
       "    </tr>\n",
       "    <tr>\n",
       "      <th>2</th>\n",
       "      <td>9614.0</td>\n",
       "      <td>535.0</td>\n",
       "      <td>1.3</td>\n",
       "      <td>10.3</td>\n",
       "      <td>7.6</td>\n",
       "      <td>55.0</td>\n",
       "      <td>731.0</td>\n",
       "      <td>969.0</td>\n",
       "      <td>124.0</td>\n",
       "    </tr>\n",
       "    <tr>\n",
       "      <th>3</th>\n",
       "      <td>8284.0</td>\n",
       "      <td>5822.0</td>\n",
       "      <td>3.5</td>\n",
       "      <td>12.0</td>\n",
       "      <td>99.5</td>\n",
       "      <td>88.0</td>\n",
       "      <td>1134.0</td>\n",
       "      <td>1531.0</td>\n",
       "      <td>878.0</td>\n",
       "    </tr>\n",
       "    <tr>\n",
       "      <th>4</th>\n",
       "      <td>1212.0</td>\n",
       "      <td>968.0</td>\n",
       "      <td>3.2</td>\n",
       "      <td>3.6</td>\n",
       "      <td>78.3</td>\n",
       "      <td>120.0</td>\n",
       "      <td>1019.0</td>\n",
       "      <td>2186.0</td>\n",
       "      <td>859.0</td>\n",
       "    </tr>\n",
       "  </tbody>\n",
       "</table>\n",
       "</div>"
      ],
      "text/plain": [
       "   LANDAREA  POPU1985  MURD  RAPE   ROB   ASSA    BURG    LARC   AUTO\n",
       "0   33265.0    1164.0   1.5   7.0  12.6   62.0   562.0  1055.0  146.0\n",
       "1    9279.0     998.0   2.0   6.0  12.1   36.0   566.0   929.0  172.0\n",
       "2    9614.0     535.0   1.3  10.3   7.6   55.0   731.0   969.0  124.0\n",
       "3    8284.0    5822.0   3.5  12.0  99.5   88.0  1134.0  1531.0  878.0\n",
       "4    1212.0     968.0   3.2   3.6  78.3  120.0  1019.0  2186.0  859.0"
      ]
     },
     "execution_count": 27,
     "metadata": {},
     "output_type": "execute_result"
    }
   ],
   "source": [
    "region1.head()"
   ]
  },
  {
   "cell_type": "code",
   "execution_count": 28,
   "metadata": {},
   "outputs": [
    {
     "data": {
      "text/html": [
       "<div>\n",
       "<style scoped>\n",
       "    .dataframe tbody tr th:only-of-type {\n",
       "        vertical-align: middle;\n",
       "    }\n",
       "\n",
       "    .dataframe tbody tr th {\n",
       "        vertical-align: top;\n",
       "    }\n",
       "\n",
       "    .dataframe thead th {\n",
       "        text-align: right;\n",
       "    }\n",
       "</style>\n",
       "<table border=\"1\" class=\"dataframe\">\n",
       "  <thead>\n",
       "    <tr style=\"text-align: right;\">\n",
       "      <th></th>\n",
       "      <th>LANDAREA</th>\n",
       "      <th>POPU1985</th>\n",
       "      <th>MURD</th>\n",
       "      <th>RAPE</th>\n",
       "      <th>ROB</th>\n",
       "      <th>ASSA</th>\n",
       "      <th>BURG</th>\n",
       "      <th>LARC</th>\n",
       "      <th>AUTO</th>\n",
       "    </tr>\n",
       "  </thead>\n",
       "  <tbody>\n",
       "    <tr>\n",
       "      <th>9</th>\n",
       "      <td>41330.0</td>\n",
       "      <td>10744.0</td>\n",
       "      <td>6.6</td>\n",
       "      <td>16.0</td>\n",
       "      <td>145.9</td>\n",
       "      <td>116.0</td>\n",
       "      <td>854.0</td>\n",
       "      <td>1944.0</td>\n",
       "      <td>493.0</td>\n",
       "    </tr>\n",
       "    <tr>\n",
       "      <th>10</th>\n",
       "      <td>36185.0</td>\n",
       "      <td>5499.0</td>\n",
       "      <td>4.8</td>\n",
       "      <td>17.9</td>\n",
       "      <td>107.5</td>\n",
       "      <td>95.0</td>\n",
       "      <td>860.0</td>\n",
       "      <td>1791.0</td>\n",
       "      <td>429.0</td>\n",
       "    </tr>\n",
       "    <tr>\n",
       "      <th>11</th>\n",
       "      <td>56345.0</td>\n",
       "      <td>11535.0</td>\n",
       "      <td>9.6</td>\n",
       "      <td>20.4</td>\n",
       "      <td>251.1</td>\n",
       "      <td>187.0</td>\n",
       "      <td>765.0</td>\n",
       "      <td>2028.0</td>\n",
       "      <td>518.0</td>\n",
       "    </tr>\n",
       "    <tr>\n",
       "      <th>12</th>\n",
       "      <td>58527.0</td>\n",
       "      <td>9088.0</td>\n",
       "      <td>9.4</td>\n",
       "      <td>27.1</td>\n",
       "      <td>346.6</td>\n",
       "      <td>193.0</td>\n",
       "      <td>1571.0</td>\n",
       "      <td>2897.0</td>\n",
       "      <td>464.0</td>\n",
       "    </tr>\n",
       "    <tr>\n",
       "      <th>13</th>\n",
       "      <td>56153.0</td>\n",
       "      <td>4775.0</td>\n",
       "      <td>2.0</td>\n",
       "      <td>6.7</td>\n",
       "      <td>33.1</td>\n",
       "      <td>44.0</td>\n",
       "      <td>539.0</td>\n",
       "      <td>1860.0</td>\n",
       "      <td>218.0</td>\n",
       "    </tr>\n",
       "  </tbody>\n",
       "</table>\n",
       "</div>"
      ],
      "text/plain": [
       "    LANDAREA  POPU1985  MURD  RAPE    ROB   ASSA    BURG    LARC   AUTO\n",
       "9    41330.0   10744.0   6.6  16.0  145.9  116.0   854.0  1944.0  493.0\n",
       "10   36185.0    5499.0   4.8  17.9  107.5   95.0   860.0  1791.0  429.0\n",
       "11   56345.0   11535.0   9.6  20.4  251.1  187.0   765.0  2028.0  518.0\n",
       "12   58527.0    9088.0   9.4  27.1  346.6  193.0  1571.0  2897.0  464.0\n",
       "13   56153.0    4775.0   2.0   6.7   33.1   44.0   539.0  1860.0  218.0"
      ]
     },
     "execution_count": 28,
     "metadata": {},
     "output_type": "execute_result"
    }
   ],
   "source": [
    "region2.head()"
   ]
  },
  {
   "cell_type": "markdown",
   "metadata": {},
   "source": [
    "마찬가지로 범주형 변수 삭제"
   ]
  },
  {
   "cell_type": "markdown",
   "metadata": {},
   "source": [
    "<h3><b>1) Region Number 1: Northeast </b><br><br>\n",
    "1985년 전체 미국의 가계 평균 소득은 29,066 달러! Northeast는 31,146 달러</h3>"
   ]
  },
  {
   "cell_type": "code",
   "execution_count": 29,
   "metadata": {},
   "outputs": [
    {
     "name": "stdout",
     "output_type": "stream",
     "text": [
      "1 번째 PC까지 사용했을 때 설명되는 분산의 비율: 64.68%\n",
      "2 번째 PC까지 사용했을 때 설명되는 분산의 비율: 88.40%\n",
      "3 번째 PC까지 사용했을 때 설명되는 분산의 비율: 94.76%\n",
      "4 번째 PC까지 사용했을 때 설명되는 분산의 비율: 97.51%\n",
      "5 번째 PC까지 사용했을 때 설명되는 분산의 비율: 99.25%\n",
      "6 번째 PC까지 사용했을 때 설명되는 분산의 비율: 99.71%\n",
      "7 번째 PC까지 사용했을 때 설명되는 분산의 비율: 99.86%\n",
      "8 번째 PC까지 사용했을 때 설명되는 분산의 비율: 100.00%\n",
      "9 번째 PC까지 사용했을 때 설명되는 분산의 비율: 100.00%\n"
     ]
    }
   ],
   "source": [
    "scaler = StandardScaler()\n",
    "scaler.fit(region1)\n",
    "region1_scaled = scaler.transform(region1)\n",
    "pca = PCA()\n",
    "pca.fit(region1_scaled)\n",
    "lambdas = pca.explained_variance_ratio_\n",
    "var = 0\n",
    "j = 0\n",
    "for i in lambdas:\n",
    "    var += i \n",
    "    percent = format(var * 100, '.2f')\n",
    "    j += 1\n",
    "    print('{} 번째 PC까지 사용했을 때 설명되는 분산의 비율: {}%'.format(j, percent)) "
   ]
  },
  {
   "cell_type": "code",
   "execution_count": 30,
   "metadata": {},
   "outputs": [
    {
     "data": {
      "image/png": "[encoded data removed]",
      "text/plain": [
       "<Figure size 576x432 with 1 Axes>"
      ]
     },
     "metadata": {},
     "output_type": "display_data"
    }
   ],
   "source": [
    "plt.figure(figsize = (8,6))\n",
    "plt.style.use('ggplot')\n",
    "sns.lineplot(data = lambdas, marker = 'o')\n",
    "plt.xlabel('Principal Component')\n",
    "plt.ylabel('Explained Variance')\n",
    "plt.ylim((0, .7))\n",
    "plt.show()"
   ]
  },
  {
   "cell_type": "code",
   "execution_count": 31,
   "metadata": {},
   "outputs": [
    {
     "data": {
      "text/html": [
       "<div>\n",
       "<style scoped>\n",
       "    .dataframe tbody tr th:only-of-type {\n",
       "        vertical-align: middle;\n",
       "    }\n",
       "\n",
       "    .dataframe tbody tr th {\n",
       "        vertical-align: top;\n",
       "    }\n",
       "\n",
       "    .dataframe thead th {\n",
       "        text-align: right;\n",
       "    }\n",
       "</style>\n",
       "<table border=\"1\" class=\"dataframe\">\n",
       "  <thead>\n",
       "    <tr style=\"text-align: right;\">\n",
       "      <th></th>\n",
       "      <th>LANDAREA</th>\n",
       "      <th>POPU1985</th>\n",
       "      <th>MURD</th>\n",
       "      <th>RAPE</th>\n",
       "      <th>ROB</th>\n",
       "      <th>ASSA</th>\n",
       "      <th>BURG</th>\n",
       "      <th>LARC</th>\n",
       "      <th>AUTO</th>\n",
       "    </tr>\n",
       "  </thead>\n",
       "  <tbody>\n",
       "    <tr>\n",
       "      <th>0</th>\n",
       "      <td>0.190740</td>\n",
       "      <td>0.367148</td>\n",
       "      <td>0.388946</td>\n",
       "      <td>0.293935</td>\n",
       "      <td>0.400459</td>\n",
       "      <td>0.391775</td>\n",
       "      <td>0.348867</td>\n",
       "      <td>0.287818</td>\n",
       "      <td>0.269706</td>\n",
       "    </tr>\n",
       "    <tr>\n",
       "      <th>1</th>\n",
       "      <td>-0.540339</td>\n",
       "      <td>-0.295672</td>\n",
       "      <td>-0.114739</td>\n",
       "      <td>-0.291212</td>\n",
       "      <td>-0.094380</td>\n",
       "      <td>0.043289</td>\n",
       "      <td>0.311481</td>\n",
       "      <td>0.462684</td>\n",
       "      <td>0.448066</td>\n",
       "    </tr>\n",
       "    <tr>\n",
       "      <th>2</th>\n",
       "      <td>0.477119</td>\n",
       "      <td>-0.016417</td>\n",
       "      <td>-0.028797</td>\n",
       "      <td>-0.724748</td>\n",
       "      <td>0.058899</td>\n",
       "      <td>0.350010</td>\n",
       "      <td>-0.254708</td>\n",
       "      <td>0.234832</td>\n",
       "      <td>-0.000708</td>\n",
       "    </tr>\n",
       "    <tr>\n",
       "      <th>3</th>\n",
       "      <td>0.061941</td>\n",
       "      <td>0.298039</td>\n",
       "      <td>0.300005</td>\n",
       "      <td>-0.068469</td>\n",
       "      <td>-0.300100</td>\n",
       "      <td>-0.281266</td>\n",
       "      <td>-0.359450</td>\n",
       "      <td>-0.172820</td>\n",
       "      <td>0.695990</td>\n",
       "    </tr>\n",
       "    <tr>\n",
       "      <th>4</th>\n",
       "      <td>0.417228</td>\n",
       "      <td>-0.123486</td>\n",
       "      <td>-0.657073</td>\n",
       "      <td>0.228269</td>\n",
       "      <td>-0.130426</td>\n",
       "      <td>0.187552</td>\n",
       "      <td>0.241244</td>\n",
       "      <td>-0.216341</td>\n",
       "      <td>0.411864</td>\n",
       "    </tr>\n",
       "    <tr>\n",
       "      <th>5</th>\n",
       "      <td>-0.324252</td>\n",
       "      <td>0.125729</td>\n",
       "      <td>-0.147496</td>\n",
       "      <td>-0.308922</td>\n",
       "      <td>0.633798</td>\n",
       "      <td>0.073125</td>\n",
       "      <td>0.000251</td>\n",
       "      <td>-0.571080</td>\n",
       "      <td>0.169365</td>\n",
       "    </tr>\n",
       "    <tr>\n",
       "      <th>6</th>\n",
       "      <td>-0.322978</td>\n",
       "      <td>-0.094398</td>\n",
       "      <td>-0.067851</td>\n",
       "      <td>0.312390</td>\n",
       "      <td>-0.084938</td>\n",
       "      <td>0.648776</td>\n",
       "      <td>-0.594647</td>\n",
       "      <td>0.014899</td>\n",
       "      <td>0.051298</td>\n",
       "    </tr>\n",
       "    <tr>\n",
       "      <th>7</th>\n",
       "      <td>0.209493</td>\n",
       "      <td>-0.521992</td>\n",
       "      <td>0.014058</td>\n",
       "      <td>0.226778</td>\n",
       "      <td>0.537314</td>\n",
       "      <td>-0.350104</td>\n",
       "      <td>-0.349276</td>\n",
       "      <td>0.248284</td>\n",
       "      <td>0.192596</td>\n",
       "    </tr>\n",
       "    <tr>\n",
       "      <th>8</th>\n",
       "      <td>0.112924</td>\n",
       "      <td>-0.613384</td>\n",
       "      <td>0.535184</td>\n",
       "      <td>-0.047901</td>\n",
       "      <td>-0.150213</td>\n",
       "      <td>0.242927</td>\n",
       "      <td>0.231071</td>\n",
       "      <td>-0.428099</td>\n",
       "      <td>0.063654</td>\n",
       "    </tr>\n",
       "  </tbody>\n",
       "</table>\n",
       "</div>"
      ],
      "text/plain": [
       "   LANDAREA  POPU1985      MURD      RAPE       ROB      ASSA      BURG  \\\n",
       "0  0.190740  0.367148  0.388946  0.293935  0.400459  0.391775  0.348867   \n",
       "1 -0.540339 -0.295672 -0.114739 -0.291212 -0.094380  0.043289  0.311481   \n",
       "2  0.477119 -0.016417 -0.028797 -0.724748  0.058899  0.350010 -0.254708   \n",
       "3  0.061941  0.298039  0.300005 -0.068469 -0.300100 -0.281266 -0.359450   \n",
       "4  0.417228 -0.123486 -0.657073  0.228269 -0.130426  0.187552  0.241244   \n",
       "5 -0.324252  0.125729 -0.147496 -0.308922  0.633798  0.073125  0.000251   \n",
       "6 -0.322978 -0.094398 -0.067851  0.312390 -0.084938  0.648776 -0.594647   \n",
       "7  0.209493 -0.521992  0.014058  0.226778  0.537314 -0.350104 -0.349276   \n",
       "8  0.112924 -0.613384  0.535184 -0.047901 -0.150213  0.242927  0.231071   \n",
       "\n",
       "       LARC      AUTO  \n",
       "0  0.287818  0.269706  \n",
       "1  0.462684  0.448066  \n",
       "2  0.234832 -0.000708  \n",
       "3 -0.172820  0.695990  \n",
       "4 -0.216341  0.411864  \n",
       "5 -0.571080  0.169365  \n",
       "6  0.014899  0.051298  \n",
       "7  0.248284  0.192596  \n",
       "8 -0.428099  0.063654  "
      ]
     },
     "execution_count": 31,
     "metadata": {},
     "output_type": "execute_result"
    }
   ],
   "source": [
    "pd.DataFrame(pca.components_, columns = region1.columns)"
   ]
  },
  {
   "cell_type": "code",
   "execution_count": 32,
   "metadata": {},
   "outputs": [
    {
     "data": {
      "image/png": "[encoded data removed]",
      "text/plain": [
       "<Figure size 432x288 with 1 Axes>"
      ]
     },
     "metadata": {},
     "output_type": "display_data"
    }
   ],
   "source": [
    "hi = pd.DataFrame(pca.components_, columns = region1.columns)\n",
    "color = ('red', 'orange', 'yellow', 'green', 'blue', 'grey', 'violet', 'black', 'pink')\n",
    "for i in range(9):\n",
    "    x = pca.components_[:,0][i]\n",
    "    y = pca.components_[:,1][i]\n",
    "    plt.scatter(x, y , c=color[i] , label = 'variable' + str(i+1))\n",
    "    plt.legend(loc = 'lower right')\n",
    "    plt.xlim((-1,1))\n",
    "    plt.ylim((-1,1))"
   ]
  },
  {
   "cell_type": "markdown",
   "metadata": {},
   "source": [
    "첫 번째 PC에서는 전체 데이터로 한 결과와 비슷하다  \n",
    "두번째 PC에서는 절도, 차량절도 빼고는 회귀계수가 마이너스 거나 매우 작다  \n",
    "특히 인상적인 점은 땅 면적, 인구수에 -가 붙은 것으로 보아 매우 작은 지역임을 추론할 수 있고 실제로 그렇다   \n",
    "또한 평균소득이 높은 도시답게 살인, 강간 등 중범죄와 음의 상관관계를 갖는데 비해 절도 범죄와는 양의 상관관계를 갖는다"
   ]
  },
  {
   "cell_type": "markdown",
   "metadata": {},
   "source": [
    "<h3><b>2) Region Number 2: South </b><br><br>\n",
    "1985년 전체 미국의 가계 평균 소득은 29,066 달러! Northeast는 27,044 달러</h3>"
   ]
  },
  {
   "cell_type": "code",
   "execution_count": 33,
   "metadata": {},
   "outputs": [
    {
     "name": "stdout",
     "output_type": "stream",
     "text": [
      "1 번째 PC까지 사용했을 때 설명되는 분산의 비율: 74.04%\n",
      "2 번째 PC까지 사용했을 때 설명되는 분산의 비율: 87.32%\n",
      "3 번째 PC까지 사용했을 때 설명되는 분산의 비율: 92.99%\n",
      "4 번째 PC까지 사용했을 때 설명되는 분산의 비율: 96.26%\n",
      "5 번째 PC까지 사용했을 때 설명되는 분산의 비율: 98.24%\n",
      "6 번째 PC까지 사용했을 때 설명되는 분산의 비율: 99.16%\n",
      "7 번째 PC까지 사용했을 때 설명되는 분산의 비율: 99.85%\n",
      "8 번째 PC까지 사용했을 때 설명되는 분산의 비율: 99.94%\n",
      "9 번째 PC까지 사용했을 때 설명되는 분산의 비율: 100.00%\n"
     ]
    }
   ],
   "source": [
    "scaler = StandardScaler()\n",
    "scaler.fit(region2)\n",
    "region2_scaled = scaler.transform(region2)\n",
    "pca = PCA()\n",
    "pca.fit(region2_scaled)\n",
    "lambdas = pca.explained_variance_ratio_\n",
    "var = 0\n",
    "j = 0\n",
    "for i in lambdas:\n",
    "    var += i \n",
    "    percent = format(var * 100, '.2f')\n",
    "    j += 1\n",
    "    print('{} 번째 PC까지 사용했을 때 설명되는 분산의 비율: {}%'.format(j, percent)) "
   ]
  },
  {
   "cell_type": "code",
   "execution_count": 34,
   "metadata": {},
   "outputs": [
    {
     "data": {
      "image/png": "[encoded data removed]",
      "text/plain": [
       "<Figure size 576x432 with 1 Axes>"
      ]
     },
     "metadata": {},
     "output_type": "display_data"
    }
   ],
   "source": [
    "plt.figure(figsize = (8,6))\n",
    "plt.style.use('ggplot')\n",
    "sns.lineplot(data = lambdas, marker = 'o')\n",
    "plt.xlabel('Principal Component')\n",
    "plt.ylabel('Explained Variance')\n",
    "plt.ylim((0, .8))\n",
    "plt.show()"
   ]
  },
  {
   "cell_type": "code",
   "execution_count": 35,
   "metadata": {},
   "outputs": [
    {
     "data": {
      "text/html": [
       "<div>\n",
       "<style scoped>\n",
       "    .dataframe tbody tr th:only-of-type {\n",
       "        vertical-align: middle;\n",
       "    }\n",
       "\n",
       "    .dataframe tbody tr th {\n",
       "        vertical-align: top;\n",
       "    }\n",
       "\n",
       "    .dataframe thead th {\n",
       "        text-align: right;\n",
       "    }\n",
       "</style>\n",
       "<table border=\"1\" class=\"dataframe\">\n",
       "  <thead>\n",
       "    <tr style=\"text-align: right;\">\n",
       "      <th></th>\n",
       "      <th>LANDAREA</th>\n",
       "      <th>POPU1985</th>\n",
       "      <th>MURD</th>\n",
       "      <th>RAPE</th>\n",
       "      <th>ROB</th>\n",
       "      <th>ASSA</th>\n",
       "      <th>BURG</th>\n",
       "      <th>LARC</th>\n",
       "      <th>AUTO</th>\n",
       "    </tr>\n",
       "  </thead>\n",
       "  <tbody>\n",
       "    <tr>\n",
       "      <th>0</th>\n",
       "      <td>-0.140104</td>\n",
       "      <td>0.316085</td>\n",
       "      <td>0.362925</td>\n",
       "      <td>0.363902</td>\n",
       "      <td>0.374385</td>\n",
       "      <td>0.360259</td>\n",
       "      <td>0.349273</td>\n",
       "      <td>0.318639</td>\n",
       "      <td>0.350498</td>\n",
       "    </tr>\n",
       "    <tr>\n",
       "      <th>1</th>\n",
       "      <td>-0.806436</td>\n",
       "      <td>0.415423</td>\n",
       "      <td>-0.072993</td>\n",
       "      <td>-0.141231</td>\n",
       "      <td>-0.058702</td>\n",
       "      <td>-0.126954</td>\n",
       "      <td>-0.229244</td>\n",
       "      <td>-0.233301</td>\n",
       "      <td>0.158953</td>\n",
       "    </tr>\n",
       "    <tr>\n",
       "      <th>2</th>\n",
       "      <td>-0.196408</td>\n",
       "      <td>0.062001</td>\n",
       "      <td>-0.390834</td>\n",
       "      <td>-0.211889</td>\n",
       "      <td>0.047355</td>\n",
       "      <td>-0.321989</td>\n",
       "      <td>0.378685</td>\n",
       "      <td>0.678653</td>\n",
       "      <td>-0.223695</td>\n",
       "    </tr>\n",
       "    <tr>\n",
       "      <th>3</th>\n",
       "      <td>-0.468072</td>\n",
       "      <td>-0.613509</td>\n",
       "      <td>0.144671</td>\n",
       "      <td>0.453844</td>\n",
       "      <td>-0.168535</td>\n",
       "      <td>-0.099394</td>\n",
       "      <td>0.308970</td>\n",
       "      <td>-0.119009</td>\n",
       "      <td>-0.172344</td>\n",
       "    </tr>\n",
       "    <tr>\n",
       "      <th>4</th>\n",
       "      <td>0.160211</td>\n",
       "      <td>-0.070519</td>\n",
       "      <td>-0.226071</td>\n",
       "      <td>0.028020</td>\n",
       "      <td>-0.253189</td>\n",
       "      <td>-0.356477</td>\n",
       "      <td>0.302875</td>\n",
       "      <td>-0.130058</td>\n",
       "      <td>0.785899</td>\n",
       "    </tr>\n",
       "    <tr>\n",
       "      <th>5</th>\n",
       "      <td>-0.171472</td>\n",
       "      <td>-0.316345</td>\n",
       "      <td>-0.079327</td>\n",
       "      <td>-0.284161</td>\n",
       "      <td>-0.419475</td>\n",
       "      <td>0.615875</td>\n",
       "      <td>-0.179405</td>\n",
       "      <td>0.354075</td>\n",
       "      <td>0.265833</td>\n",
       "    </tr>\n",
       "    <tr>\n",
       "      <th>6</th>\n",
       "      <td>-0.093829</td>\n",
       "      <td>-0.283758</td>\n",
       "      <td>-0.574914</td>\n",
       "      <td>-0.075093</td>\n",
       "      <td>0.638135</td>\n",
       "      <td>0.285548</td>\n",
       "      <td>0.064314</td>\n",
       "      <td>-0.268795</td>\n",
       "      <td>0.096802</td>\n",
       "    </tr>\n",
       "    <tr>\n",
       "      <th>7</th>\n",
       "      <td>0.030385</td>\n",
       "      <td>0.256494</td>\n",
       "      <td>-0.022215</td>\n",
       "      <td>-0.294157</td>\n",
       "      <td>-0.281367</td>\n",
       "      <td>0.333465</td>\n",
       "      <td>0.666432</td>\n",
       "      <td>-0.392486</td>\n",
       "      <td>-0.240257</td>\n",
       "    </tr>\n",
       "    <tr>\n",
       "      <th>8</th>\n",
       "      <td>-0.086992</td>\n",
       "      <td>-0.309712</td>\n",
       "      <td>0.548504</td>\n",
       "      <td>-0.650429</td>\n",
       "      <td>0.315112</td>\n",
       "      <td>-0.203533</td>\n",
       "      <td>0.120018</td>\n",
       "      <td>-0.026949</td>\n",
       "      <td>0.129399</td>\n",
       "    </tr>\n",
       "  </tbody>\n",
       "</table>\n",
       "</div>"
      ],
      "text/plain": [
       "   LANDAREA  POPU1985      MURD      RAPE       ROB      ASSA      BURG  \\\n",
       "0 -0.140104  0.316085  0.362925  0.363902  0.374385  0.360259  0.349273   \n",
       "1 -0.806436  0.415423 -0.072993 -0.141231 -0.058702 -0.126954 -0.229244   \n",
       "2 -0.196408  0.062001 -0.390834 -0.211889  0.047355 -0.321989  0.378685   \n",
       "3 -0.468072 -0.613509  0.144671  0.453844 -0.168535 -0.099394  0.308970   \n",
       "4  0.160211 -0.070519 -0.226071  0.028020 -0.253189 -0.356477  0.302875   \n",
       "5 -0.171472 -0.316345 -0.079327 -0.284161 -0.419475  0.615875 -0.179405   \n",
       "6 -0.093829 -0.283758 -0.574914 -0.075093  0.638135  0.285548  0.064314   \n",
       "7  0.030385  0.256494 -0.022215 -0.294157 -0.281367  0.333465  0.666432   \n",
       "8 -0.086992 -0.309712  0.548504 -0.650429  0.315112 -0.203533  0.120018   \n",
       "\n",
       "       LARC      AUTO  \n",
       "0  0.318639  0.350498  \n",
       "1 -0.233301  0.158953  \n",
       "2  0.678653 -0.223695  \n",
       "3 -0.119009 -0.172344  \n",
       "4 -0.130058  0.785899  \n",
       "5  0.354075  0.265833  \n",
       "6 -0.268795  0.096802  \n",
       "7 -0.392486 -0.240257  \n",
       "8 -0.026949  0.129399  "
      ]
     },
     "execution_count": 35,
     "metadata": {},
     "output_type": "execute_result"
    }
   ],
   "source": [
    "pd.DataFrame(pca.components_, columns = region2.columns)"
   ]
  },
  {
   "cell_type": "markdown",
   "metadata": {},
   "source": [
    "Region2에서 특이한 점은 PC3까지 면적과 음의 상관관계를 취하고 있다는 점이다   \n",
    "그 이유는 지금 이 데이터에서 Region2에서 나온 Division Number은 3,4만 나오는데\n",
    "![image](https://image.businessinsider.com/5af34fc983387a2d008b4576?width=800&format=jpeg&auto=webp) <br>\n",
    "지도에서 확인할 수 있다 싶이 전체 Region에 비해 매우 작은 면적이다   \n",
    "그러나 인구수의 회귀계수는 PC2까지 양인 것으로 보아 면적에 비해 인구수가 많은 곳임을 알 수 있다 <br><br>\n",
    "<img src = 'https://www.visualcapitalist.com/wp-content/uploads/2019/03/usa-map-share-1000x588.jpg' width = '700px'><br>  \n",
    "실제로 지도로 봐도 그렇다"
   ]
  },
  {
   "cell_type": "markdown",
   "metadata": {},
   "source": [
    "<h3><b>3) Region Number 3: MidWest </b><br><br>\n",
    "1985년 전체 미국의 가계 평균 소득은 29,066 달러! Northeast는 28,149 달러</h3>"
   ]
  },
  {
   "cell_type": "code",
   "execution_count": 36,
   "metadata": {},
   "outputs": [
    {
     "name": "stdout",
     "output_type": "stream",
     "text": [
      "1 번째 PC까지 사용했을 때 설명되는 분산의 비율: 53.22%\n",
      "2 번째 PC까지 사용했을 때 설명되는 분산의 비율: 72.67%\n",
      "3 번째 PC까지 사용했을 때 설명되는 분산의 비율: 84.86%\n",
      "4 번째 PC까지 사용했을 때 설명되는 분산의 비율: 89.65%\n",
      "5 번째 PC까지 사용했을 때 설명되는 분산의 비율: 93.64%\n",
      "6 번째 PC까지 사용했을 때 설명되는 분산의 비율: 97.03%\n",
      "7 번째 PC까지 사용했을 때 설명되는 분산의 비율: 99.02%\n",
      "8 번째 PC까지 사용했을 때 설명되는 분산의 비율: 99.64%\n",
      "9 번째 PC까지 사용했을 때 설명되는 분산의 비율: 100.00%\n"
     ]
    }
   ],
   "source": [
    "scaler = StandardScaler()\n",
    "scaler.fit(region3)\n",
    "region3_scaled = scaler.transform(region3)\n",
    "pca = PCA()\n",
    "pca.fit(region3_scaled)\n",
    "lambdas = pca.explained_variance_ratio_\n",
    "var = 0\n",
    "j = 0\n",
    "for i in lambdas:\n",
    "    var += i \n",
    "    percent = format(var * 100, '.2f')\n",
    "    j += 1\n",
    "    print('{} 번째 PC까지 사용했을 때 설명되는 분산의 비율: {}%'.format(j, percent)) "
   ]
  },
  {
   "cell_type": "code",
   "execution_count": 37,
   "metadata": {},
   "outputs": [
    {
     "data": {
      "image/png": "[encoded data removed]",
      "text/plain": [
       "<Figure size 576x432 with 1 Axes>"
      ]
     },
     "metadata": {},
     "output_type": "display_data"
    }
   ],
   "source": [
    "plt.figure(figsize = (8,6))\n",
    "plt.style.use('ggplot')\n",
    "sns.lineplot(data = lambdas, marker = 'o')\n",
    "plt.xlabel('Principal Component')\n",
    "plt.ylabel('Explained Variance')\n",
    "plt.ylim((0, .6))\n",
    "plt.show()"
   ]
  },
  {
   "cell_type": "code",
   "execution_count": 38,
   "metadata": {},
   "outputs": [
    {
     "data": {
      "text/html": [
       "<div>\n",
       "<style scoped>\n",
       "    .dataframe tbody tr th:only-of-type {\n",
       "        vertical-align: middle;\n",
       "    }\n",
       "\n",
       "    .dataframe tbody tr th {\n",
       "        vertical-align: top;\n",
       "    }\n",
       "\n",
       "    .dataframe thead th {\n",
       "        text-align: right;\n",
       "    }\n",
       "</style>\n",
       "<table border=\"1\" class=\"dataframe\">\n",
       "  <thead>\n",
       "    <tr style=\"text-align: right;\">\n",
       "      <th></th>\n",
       "      <th>LANDAREA</th>\n",
       "      <th>POPU1985</th>\n",
       "      <th>MURD</th>\n",
       "      <th>RAPE</th>\n",
       "      <th>ROB</th>\n",
       "      <th>ASSA</th>\n",
       "      <th>BURG</th>\n",
       "      <th>LARC</th>\n",
       "      <th>AUTO</th>\n",
       "    </tr>\n",
       "  </thead>\n",
       "  <tbody>\n",
       "    <tr>\n",
       "      <th>0</th>\n",
       "      <td>0.144893</td>\n",
       "      <td>0.288681</td>\n",
       "      <td>0.134129</td>\n",
       "      <td>0.389476</td>\n",
       "      <td>0.369669</td>\n",
       "      <td>0.333785</td>\n",
       "      <td>0.417304</td>\n",
       "      <td>0.412850</td>\n",
       "      <td>0.365147</td>\n",
       "    </tr>\n",
       "    <tr>\n",
       "      <th>1</th>\n",
       "      <td>0.618511</td>\n",
       "      <td>0.533405</td>\n",
       "      <td>0.376616</td>\n",
       "      <td>-0.129717</td>\n",
       "      <td>-0.263276</td>\n",
       "      <td>0.006498</td>\n",
       "      <td>0.019533</td>\n",
       "      <td>-0.110606</td>\n",
       "      <td>-0.303785</td>\n",
       "    </tr>\n",
       "    <tr>\n",
       "      <th>2</th>\n",
       "      <td>0.407384</td>\n",
       "      <td>0.201705</td>\n",
       "      <td>-0.703370</td>\n",
       "      <td>0.015194</td>\n",
       "      <td>0.063350</td>\n",
       "      <td>-0.489359</td>\n",
       "      <td>-0.032699</td>\n",
       "      <td>0.135617</td>\n",
       "      <td>0.188270</td>\n",
       "    </tr>\n",
       "    <tr>\n",
       "      <th>3</th>\n",
       "      <td>-0.151891</td>\n",
       "      <td>-0.029394</td>\n",
       "      <td>0.387030</td>\n",
       "      <td>-0.471106</td>\n",
       "      <td>-0.127494</td>\n",
       "      <td>-0.517397</td>\n",
       "      <td>0.251271</td>\n",
       "      <td>0.421375</td>\n",
       "      <td>0.282282</td>\n",
       "    </tr>\n",
       "    <tr>\n",
       "      <th>4</th>\n",
       "      <td>0.055259</td>\n",
       "      <td>0.167210</td>\n",
       "      <td>0.186302</td>\n",
       "      <td>-0.342383</td>\n",
       "      <td>0.685590</td>\n",
       "      <td>0.004775</td>\n",
       "      <td>-0.542499</td>\n",
       "      <td>-0.117592</td>\n",
       "      <td>0.197137</td>\n",
       "    </tr>\n",
       "    <tr>\n",
       "      <th>5</th>\n",
       "      <td>-0.226808</td>\n",
       "      <td>0.284460</td>\n",
       "      <td>-0.382321</td>\n",
       "      <td>-0.555011</td>\n",
       "      <td>0.008332</td>\n",
       "      <td>0.428456</td>\n",
       "      <td>0.108583</td>\n",
       "      <td>0.344049</td>\n",
       "      <td>-0.315643</td>\n",
       "    </tr>\n",
       "    <tr>\n",
       "      <th>6</th>\n",
       "      <td>0.199616</td>\n",
       "      <td>-0.095592</td>\n",
       "      <td>-0.065451</td>\n",
       "      <td>-0.202460</td>\n",
       "      <td>-0.479266</td>\n",
       "      <td>0.418895</td>\n",
       "      <td>-0.264514</td>\n",
       "      <td>-0.013383</td>\n",
       "      <td>0.656068</td>\n",
       "    </tr>\n",
       "    <tr>\n",
       "      <th>7</th>\n",
       "      <td>-0.392285</td>\n",
       "      <td>0.509113</td>\n",
       "      <td>-0.083399</td>\n",
       "      <td>-0.070740</td>\n",
       "      <td>-0.042290</td>\n",
       "      <td>-0.079894</td>\n",
       "      <td>0.320472</td>\n",
       "      <td>-0.611506</td>\n",
       "      <td>0.300240</td>\n",
       "    </tr>\n",
       "    <tr>\n",
       "      <th>8</th>\n",
       "      <td>-0.398983</td>\n",
       "      <td>0.461934</td>\n",
       "      <td>0.059418</td>\n",
       "      <td>0.371555</td>\n",
       "      <td>-0.268654</td>\n",
       "      <td>-0.126175</td>\n",
       "      <td>-0.531512</td>\n",
       "      <td>0.339200</td>\n",
       "      <td>-0.013780</td>\n",
       "    </tr>\n",
       "  </tbody>\n",
       "</table>\n",
       "</div>"
      ],
      "text/plain": [
       "   LANDAREA  POPU1985      MURD      RAPE       ROB      ASSA      BURG  \\\n",
       "0  0.144893  0.288681  0.134129  0.389476  0.369669  0.333785  0.417304   \n",
       "1  0.618511  0.533405  0.376616 -0.129717 -0.263276  0.006498  0.019533   \n",
       "2  0.407384  0.201705 -0.703370  0.015194  0.063350 -0.489359 -0.032699   \n",
       "3 -0.151891 -0.029394  0.387030 -0.471106 -0.127494 -0.517397  0.251271   \n",
       "4  0.055259  0.167210  0.186302 -0.342383  0.685590  0.004775 -0.542499   \n",
       "5 -0.226808  0.284460 -0.382321 -0.555011  0.008332  0.428456  0.108583   \n",
       "6  0.199616 -0.095592 -0.065451 -0.202460 -0.479266  0.418895 -0.264514   \n",
       "7 -0.392285  0.509113 -0.083399 -0.070740 -0.042290 -0.079894  0.320472   \n",
       "8 -0.398983  0.461934  0.059418  0.371555 -0.268654 -0.126175 -0.531512   \n",
       "\n",
       "       LARC      AUTO  \n",
       "0  0.412850  0.365147  \n",
       "1 -0.110606 -0.303785  \n",
       "2  0.135617  0.188270  \n",
       "3  0.421375  0.282282  \n",
       "4 -0.117592  0.197137  \n",
       "5  0.344049 -0.315643  \n",
       "6 -0.013383  0.656068  \n",
       "7 -0.611506  0.300240  \n",
       "8  0.339200 -0.013780  "
      ]
     },
     "execution_count": 38,
     "metadata": {},
     "output_type": "execute_result"
    }
   ],
   "source": [
    "pd.DataFrame(pca.components_, columns = region3.columns)"
   ]
  },
  {
   "cell_type": "markdown",
   "metadata": {},
   "source": [
    "2번째 PC에서 눈에 띄는 것은 넓은 면적과 많은 인구수  \n",
    "3번째 pc에서 눈에 띄는 것은 살인과의 강한 음의 상관관계 "
   ]
  },
  {
   "cell_type": "markdown",
   "metadata": {},
   "source": [
    "<h3><b>4) Region Number 4: West </b><br><br>\n",
    "1985년 전체 미국의 가계 평균 소득은 29,066 달러! West는 31,475 달러</h3>"
   ]
  },
  {
   "cell_type": "code",
   "execution_count": 39,
   "metadata": {},
   "outputs": [
    {
     "name": "stdout",
     "output_type": "stream",
     "text": [
      "1 번째 PC까지 사용했을 때 설명되는 분산의 비율: 58.08%\n",
      "2 번째 PC까지 사용했을 때 설명되는 분산의 비율: 81.52%\n",
      "3 번째 PC까지 사용했을 때 설명되는 분산의 비율: 89.54%\n",
      "4 번째 PC까지 사용했을 때 설명되는 분산의 비율: 94.32%\n",
      "5 번째 PC까지 사용했을 때 설명되는 분산의 비율: 96.53%\n",
      "6 번째 PC까지 사용했을 때 설명되는 분산의 비율: 98.25%\n",
      "7 번째 PC까지 사용했을 때 설명되는 분산의 비율: 99.32%\n",
      "8 번째 PC까지 사용했을 때 설명되는 분산의 비율: 99.77%\n",
      "9 번째 PC까지 사용했을 때 설명되는 분산의 비율: 100.00%\n"
     ]
    }
   ],
   "source": [
    "scaler = StandardScaler()\n",
    "scaler.fit(region4)\n",
    "region4_scaled = scaler.transform(region4)\n",
    "pca = PCA()\n",
    "pca.fit(region4_scaled)\n",
    "lambdas = pca.explained_variance_ratio_\n",
    "var = 0\n",
    "j = 0\n",
    "for i in lambdas:\n",
    "    var += i \n",
    "    percent = format(var * 100, '.2f')\n",
    "    j += 1\n",
    "    print('{} 번째 PC까지 사용했을 때 설명되는 분산의 비율: {}%'.format(j, percent)) "
   ]
  },
  {
   "cell_type": "code",
   "execution_count": 40,
   "metadata": {},
   "outputs": [
    {
     "data": {
      "image/png": "[encoded data removed]",
      "text/plain": [
       "<Figure size 576x432 with 1 Axes>"
      ]
     },
     "metadata": {},
     "output_type": "display_data"
    }
   ],
   "source": [
    "plt.figure(figsize = (8,6))\n",
    "plt.style.use('ggplot')\n",
    "sns.lineplot(data = lambdas, marker = 'o')\n",
    "plt.xlabel('Principal Component')\n",
    "plt.ylabel('Explained Variance')\n",
    "plt.ylim((0, .6))\n",
    "plt.show()"
   ]
  },
  {
   "cell_type": "code",
   "execution_count": 41,
   "metadata": {},
   "outputs": [
    {
     "data": {
      "text/html": [
       "<div>\n",
       "<style scoped>\n",
       "    .dataframe tbody tr th:only-of-type {\n",
       "        vertical-align: middle;\n",
       "    }\n",
       "\n",
       "    .dataframe tbody tr th {\n",
       "        vertical-align: top;\n",
       "    }\n",
       "\n",
       "    .dataframe thead th {\n",
       "        text-align: right;\n",
       "    }\n",
       "</style>\n",
       "<table border=\"1\" class=\"dataframe\">\n",
       "  <thead>\n",
       "    <tr style=\"text-align: right;\">\n",
       "      <th></th>\n",
       "      <th>LANDAREA</th>\n",
       "      <th>POPU1985</th>\n",
       "      <th>MURD</th>\n",
       "      <th>RAPE</th>\n",
       "      <th>ROB</th>\n",
       "      <th>ASSA</th>\n",
       "      <th>BURG</th>\n",
       "      <th>LARC</th>\n",
       "      <th>AUTO</th>\n",
       "    </tr>\n",
       "  </thead>\n",
       "  <tbody>\n",
       "    <tr>\n",
       "      <th>0</th>\n",
       "      <td>0.061616</td>\n",
       "      <td>0.285117</td>\n",
       "      <td>0.229479</td>\n",
       "      <td>0.380046</td>\n",
       "      <td>0.411706</td>\n",
       "      <td>0.375684</td>\n",
       "      <td>0.373403</td>\n",
       "      <td>0.341869</td>\n",
       "      <td>0.388422</td>\n",
       "    </tr>\n",
       "    <tr>\n",
       "      <th>1</th>\n",
       "      <td>0.622698</td>\n",
       "      <td>-0.152753</td>\n",
       "      <td>0.529158</td>\n",
       "      <td>0.175644</td>\n",
       "      <td>-0.110204</td>\n",
       "      <td>0.235419</td>\n",
       "      <td>-0.302942</td>\n",
       "      <td>-0.344331</td>\n",
       "      <td>0.012269</td>\n",
       "    </tr>\n",
       "    <tr>\n",
       "      <th>2</th>\n",
       "      <td>0.124932</td>\n",
       "      <td>0.820818</td>\n",
       "      <td>-0.285006</td>\n",
       "      <td>0.213657</td>\n",
       "      <td>-0.002321</td>\n",
       "      <td>0.041678</td>\n",
       "      <td>-0.245530</td>\n",
       "      <td>-0.231259</td>\n",
       "      <td>-0.261273</td>\n",
       "    </tr>\n",
       "    <tr>\n",
       "      <th>3</th>\n",
       "      <td>0.535527</td>\n",
       "      <td>0.145033</td>\n",
       "      <td>-0.194141</td>\n",
       "      <td>-0.249991</td>\n",
       "      <td>0.062571</td>\n",
       "      <td>-0.548671</td>\n",
       "      <td>0.068191</td>\n",
       "      <td>0.041981</td>\n",
       "      <td>0.529738</td>\n",
       "    </tr>\n",
       "    <tr>\n",
       "      <th>4</th>\n",
       "      <td>0.056398</td>\n",
       "      <td>-0.292798</td>\n",
       "      <td>-0.402137</td>\n",
       "      <td>0.762024</td>\n",
       "      <td>-0.313240</td>\n",
       "      <td>-0.122829</td>\n",
       "      <td>-0.123333</td>\n",
       "      <td>0.132746</td>\n",
       "      <td>0.150517</td>\n",
       "    </tr>\n",
       "    <tr>\n",
       "      <th>5</th>\n",
       "      <td>0.162971</td>\n",
       "      <td>0.203451</td>\n",
       "      <td>0.258907</td>\n",
       "      <td>-0.106841</td>\n",
       "      <td>-0.479493</td>\n",
       "      <td>-0.054089</td>\n",
       "      <td>-0.105042</td>\n",
       "      <td>0.748865</td>\n",
       "      <td>-0.221198</td>\n",
       "    </tr>\n",
       "    <tr>\n",
       "      <th>6</th>\n",
       "      <td>-0.456093</td>\n",
       "      <td>0.268681</td>\n",
       "      <td>0.362224</td>\n",
       "      <td>0.053150</td>\n",
       "      <td>-0.499842</td>\n",
       "      <td>-0.125439</td>\n",
       "      <td>0.005678</td>\n",
       "      <td>-0.273367</td>\n",
       "      <td>0.495399</td>\n",
       "    </tr>\n",
       "    <tr>\n",
       "      <th>7</th>\n",
       "      <td>0.237018</td>\n",
       "      <td>0.025395</td>\n",
       "      <td>-0.045833</td>\n",
       "      <td>0.046881</td>\n",
       "      <td>-0.367102</td>\n",
       "      <td>0.009310</td>\n",
       "      <td>0.820016</td>\n",
       "      <td>-0.236545</td>\n",
       "      <td>-0.275042</td>\n",
       "    </tr>\n",
       "    <tr>\n",
       "      <th>8</th>\n",
       "      <td>-0.110066</td>\n",
       "      <td>0.025292</td>\n",
       "      <td>0.431692</td>\n",
       "      <td>0.345619</td>\n",
       "      <td>0.319052</td>\n",
       "      <td>-0.683249</td>\n",
       "      <td>0.071817</td>\n",
       "      <td>-0.014667</td>\n",
       "      <td>-0.327780</td>\n",
       "    </tr>\n",
       "  </tbody>\n",
       "</table>\n",
       "</div>"
      ],
      "text/plain": [
       "   LANDAREA  POPU1985      MURD      RAPE       ROB      ASSA      BURG  \\\n",
       "0  0.061616  0.285117  0.229479  0.380046  0.411706  0.375684  0.373403   \n",
       "1  0.622698 -0.152753  0.529158  0.175644 -0.110204  0.235419 -0.302942   \n",
       "2  0.124932  0.820818 -0.285006  0.213657 -0.002321  0.041678 -0.245530   \n",
       "3  0.535527  0.145033 -0.194141 -0.249991  0.062571 -0.548671  0.068191   \n",
       "4  0.056398 -0.292798 -0.402137  0.762024 -0.313240 -0.122829 -0.123333   \n",
       "5  0.162971  0.203451  0.258907 -0.106841 -0.479493 -0.054089 -0.105042   \n",
       "6 -0.456093  0.268681  0.362224  0.053150 -0.499842 -0.125439  0.005678   \n",
       "7  0.237018  0.025395 -0.045833  0.046881 -0.367102  0.009310  0.820016   \n",
       "8 -0.110066  0.025292  0.431692  0.345619  0.319052 -0.683249  0.071817   \n",
       "\n",
       "       LARC      AUTO  \n",
       "0  0.341869  0.388422  \n",
       "1 -0.344331  0.012269  \n",
       "2 -0.231259 -0.261273  \n",
       "3  0.041981  0.529738  \n",
       "4  0.132746  0.150517  \n",
       "5  0.748865 -0.221198  \n",
       "6 -0.273367  0.495399  \n",
       "7 -0.236545 -0.275042  \n",
       "8 -0.014667 -0.327780  "
      ]
     },
     "execution_count": 41,
     "metadata": {},
     "output_type": "execute_result"
    }
   ],
   "source": [
    "pd.DataFrame(pca.components_, columns = region4.columns)"
   ]
  },
  {
   "cell_type": "markdown",
   "metadata": {},
   "source": [
    "두 번째 PC에서 볼 수 있는 건 매우 넓은 면적 정도...? 해석할 만한 결과는 별로 없는 것으로 보임"
   ]
  }
 ],
 "metadata": {
  "kernelspec": {
   "display_name": "Python 3",
   "language": "python",
   "name": "python3"
  },
  "language_info": {
   "codemirror_mode": {
    "name": "ipython",
    "version": 3
   },
   "file_extension": ".py",
   "mimetype": "text/x-python",
   "name": "python",
   "nbconvert_exporter": "python",
   "pygments_lexer": "ipython3",
   "version": "3.7.3"
  }
 },
 "nbformat": 4,
 "nbformat_minor": 4
}
