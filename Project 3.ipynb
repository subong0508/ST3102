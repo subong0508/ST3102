{
 "cells": [
  {
   "cell_type": "markdown",
   "metadata": {},
   "source": [
    "# K-means Clustering with PCA"
   ]
  },
  {
   "cell_type": "code",
   "execution_count": 1,
   "metadata": {},
   "outputs": [
    {
     "data": {
      "text/html": [
       "<div>\n",
       "<style scoped>\n",
       "    .dataframe tbody tr th:only-of-type {\n",
       "        vertical-align: middle;\n",
       "    }\n",
       "\n",
       "    .dataframe tbody tr th {\n",
       "        vertical-align: top;\n",
       "    }\n",
       "\n",
       "    .dataframe thead th {\n",
       "        text-align: right;\n",
       "    }\n",
       "</style>\n",
       "<table border=\"1\" class=\"dataframe\">\n",
       "  <thead>\n",
       "    <tr style=\"text-align: right;\">\n",
       "      <th></th>\n",
       "      <th>LANDAREA</th>\n",
       "      <th>POPU1985</th>\n",
       "      <th>MURD</th>\n",
       "      <th>RAPE</th>\n",
       "      <th>ROB</th>\n",
       "      <th>ASSA</th>\n",
       "      <th>BURG</th>\n",
       "      <th>LARC</th>\n",
       "      <th>AUTO</th>\n",
       "      <th>REG</th>\n",
       "      <th>DIV</th>\n",
       "    </tr>\n",
       "  </thead>\n",
       "  <tbody>\n",
       "    <tr>\n",
       "      <th>0</th>\n",
       "      <td>33265</td>\n",
       "      <td>1164</td>\n",
       "      <td>1.5</td>\n",
       "      <td>7.0</td>\n",
       "      <td>12.6</td>\n",
       "      <td>62</td>\n",
       "      <td>562</td>\n",
       "      <td>1055</td>\n",
       "      <td>146</td>\n",
       "      <td>1</td>\n",
       "      <td>1</td>\n",
       "    </tr>\n",
       "    <tr>\n",
       "      <th>1</th>\n",
       "      <td>9279</td>\n",
       "      <td>998</td>\n",
       "      <td>2.0</td>\n",
       "      <td>6.0</td>\n",
       "      <td>12.1</td>\n",
       "      <td>36</td>\n",
       "      <td>566</td>\n",
       "      <td>929</td>\n",
       "      <td>172</td>\n",
       "      <td>1</td>\n",
       "      <td>1</td>\n",
       "    </tr>\n",
       "    <tr>\n",
       "      <th>2</th>\n",
       "      <td>9614</td>\n",
       "      <td>535</td>\n",
       "      <td>1.3</td>\n",
       "      <td>10.3</td>\n",
       "      <td>7.6</td>\n",
       "      <td>55</td>\n",
       "      <td>731</td>\n",
       "      <td>969</td>\n",
       "      <td>124</td>\n",
       "      <td>1</td>\n",
       "      <td>1</td>\n",
       "    </tr>\n",
       "    <tr>\n",
       "      <th>3</th>\n",
       "      <td>8284</td>\n",
       "      <td>5822</td>\n",
       "      <td>3.5</td>\n",
       "      <td>12.0</td>\n",
       "      <td>99.5</td>\n",
       "      <td>88</td>\n",
       "      <td>1134</td>\n",
       "      <td>1531</td>\n",
       "      <td>878</td>\n",
       "      <td>1</td>\n",
       "      <td>1</td>\n",
       "    </tr>\n",
       "    <tr>\n",
       "      <th>4</th>\n",
       "      <td>1212</td>\n",
       "      <td>968</td>\n",
       "      <td>3.2</td>\n",
       "      <td>3.6</td>\n",
       "      <td>78.3</td>\n",
       "      <td>120</td>\n",
       "      <td>1019</td>\n",
       "      <td>2186</td>\n",
       "      <td>859</td>\n",
       "      <td>1</td>\n",
       "      <td>1</td>\n",
       "    </tr>\n",
       "  </tbody>\n",
       "</table>\n",
       "</div>"
      ],
      "text/plain": [
       "   LANDAREA  POPU1985  MURD  RAPE   ROB  ASSA  BURG  LARC  AUTO  REG  DIV\n",
       "0     33265      1164   1.5   7.0  12.6    62   562  1055   146    1    1\n",
       "1      9279       998   2.0   6.0  12.1    36   566   929   172    1    1\n",
       "2      9614       535   1.3  10.3   7.6    55   731   969   124    1    1\n",
       "3      8284      5822   3.5  12.0  99.5    88  1134  1531   878    1    1\n",
       "4      1212       968   3.2   3.6  78.3   120  1019  2186   859    1    1"
      ]
     },
     "execution_count": 1,
     "metadata": {},
     "output_type": "execute_result"
    }
   ],
   "source": [
    "import numpy as np\n",
    "np.random.seed(0)\n",
    "import pandas as pd\n",
    "import matplotlib.pyplot as plt\n",
    "import seaborn as sns\n",
    "%matplotlib inline\n",
    "crime = pd.read_csv('US_Crime.csv')\n",
    "crime.head()"
   ]
  },
  {
   "cell_type": "code",
   "execution_count": 2,
   "metadata": {},
   "outputs": [
    {
     "data": {
      "text/plain": [
       "1     9\n",
       "2    12\n",
       "3    16\n",
       "4    13\n",
       "Name: REG, dtype: int64"
      ]
     },
     "execution_count": 2,
     "metadata": {},
     "output_type": "execute_result"
    }
   ],
   "source": [
    "crime['REG'].value_counts().sort_index()"
   ]
  },
  {
   "cell_type": "code",
   "execution_count": 3,
   "metadata": {},
   "outputs": [
    {
     "name": "stdout",
     "output_type": "stream",
     "text": [
      "<class 'pandas.core.frame.DataFrame'>\n",
      "RangeIndex: 50 entries, 0 to 49\n",
      "Data columns (total 11 columns):\n",
      "LANDAREA    50 non-null float64\n",
      "POPU1985    50 non-null float64\n",
      "MURD        50 non-null float64\n",
      "RAPE        50 non-null float64\n",
      "ROB         50 non-null float64\n",
      "ASSA        50 non-null float64\n",
      "BURG        50 non-null float64\n",
      "LARC        50 non-null float64\n",
      "AUTO        50 non-null float64\n",
      "REG         50 non-null category\n",
      "DIV         50 non-null category\n",
      "dtypes: category(2), float64(9)\n",
      "memory usage: 4.3 KB\n"
     ]
    }
   ],
   "source": [
    "for name in crime.columns[:9]:\n",
    "    crime[name] = crime[name].astype('float64')\n",
    "    \n",
    "for name in crime.columns[9:]:\n",
    "    crime[name] = crime[name].astype('category')\n",
    "    \n",
    "crime.info()"
   ]
  },
  {
   "cell_type": "code",
   "execution_count": 4,
   "metadata": {},
   "outputs": [],
   "source": [
    "df = crime.loc[:,'MURD':'AUTO'].copy()"
   ]
  },
  {
   "cell_type": "code",
   "execution_count": 5,
   "metadata": {},
   "outputs": [
    {
     "data": {
      "text/html": [
       "<div>\n",
       "<style scoped>\n",
       "    .dataframe tbody tr th:only-of-type {\n",
       "        vertical-align: middle;\n",
       "    }\n",
       "\n",
       "    .dataframe tbody tr th {\n",
       "        vertical-align: top;\n",
       "    }\n",
       "\n",
       "    .dataframe thead th {\n",
       "        text-align: right;\n",
       "    }\n",
       "</style>\n",
       "<table border=\"1\" class=\"dataframe\">\n",
       "  <thead>\n",
       "    <tr style=\"text-align: right;\">\n",
       "      <th></th>\n",
       "      <th>MURD</th>\n",
       "      <th>RAPE</th>\n",
       "      <th>ROB</th>\n",
       "      <th>ASSA</th>\n",
       "      <th>BURG</th>\n",
       "      <th>LARC</th>\n",
       "      <th>AUTO</th>\n",
       "    </tr>\n",
       "  </thead>\n",
       "  <tbody>\n",
       "    <tr>\n",
       "      <th>0</th>\n",
       "      <td>1.5</td>\n",
       "      <td>7.0</td>\n",
       "      <td>12.6</td>\n",
       "      <td>62.0</td>\n",
       "      <td>562.0</td>\n",
       "      <td>1055.0</td>\n",
       "      <td>146.0</td>\n",
       "    </tr>\n",
       "    <tr>\n",
       "      <th>1</th>\n",
       "      <td>2.0</td>\n",
       "      <td>6.0</td>\n",
       "      <td>12.1</td>\n",
       "      <td>36.0</td>\n",
       "      <td>566.0</td>\n",
       "      <td>929.0</td>\n",
       "      <td>172.0</td>\n",
       "    </tr>\n",
       "    <tr>\n",
       "      <th>2</th>\n",
       "      <td>1.3</td>\n",
       "      <td>10.3</td>\n",
       "      <td>7.6</td>\n",
       "      <td>55.0</td>\n",
       "      <td>731.0</td>\n",
       "      <td>969.0</td>\n",
       "      <td>124.0</td>\n",
       "    </tr>\n",
       "    <tr>\n",
       "      <th>3</th>\n",
       "      <td>3.5</td>\n",
       "      <td>12.0</td>\n",
       "      <td>99.5</td>\n",
       "      <td>88.0</td>\n",
       "      <td>1134.0</td>\n",
       "      <td>1531.0</td>\n",
       "      <td>878.0</td>\n",
       "    </tr>\n",
       "    <tr>\n",
       "      <th>4</th>\n",
       "      <td>3.2</td>\n",
       "      <td>3.6</td>\n",
       "      <td>78.3</td>\n",
       "      <td>120.0</td>\n",
       "      <td>1019.0</td>\n",
       "      <td>2186.0</td>\n",
       "      <td>859.0</td>\n",
       "    </tr>\n",
       "  </tbody>\n",
       "</table>\n",
       "</div>"
      ],
      "text/plain": [
       "   MURD  RAPE   ROB   ASSA    BURG    LARC   AUTO\n",
       "0   1.5   7.0  12.6   62.0   562.0  1055.0  146.0\n",
       "1   2.0   6.0  12.1   36.0   566.0   929.0  172.0\n",
       "2   1.3  10.3   7.6   55.0   731.0   969.0  124.0\n",
       "3   3.5  12.0  99.5   88.0  1134.0  1531.0  878.0\n",
       "4   3.2   3.6  78.3  120.0  1019.0  2186.0  859.0"
      ]
     },
     "execution_count": 5,
     "metadata": {},
     "output_type": "execute_result"
    }
   ],
   "source": [
    "df.head()"
   ]
  },
  {
   "cell_type": "code",
   "execution_count": 6,
   "metadata": {},
   "outputs": [],
   "source": [
    "from sklearn.preprocessing import StandardScaler"
   ]
  },
  {
   "cell_type": "code",
   "execution_count": 7,
   "metadata": {},
   "outputs": [],
   "source": [
    "scaler = StandardScaler()"
   ]
  },
  {
   "cell_type": "code",
   "execution_count": 8,
   "metadata": {},
   "outputs": [
    {
     "data": {
      "text/plain": [
       "StandardScaler(copy=True, with_mean=True, with_std=True)"
      ]
     },
     "execution_count": 8,
     "metadata": {},
     "output_type": "execute_result"
    }
   ],
   "source": [
    "scaler.fit(df)"
   ]
  },
  {
   "cell_type": "code",
   "execution_count": 9,
   "metadata": {},
   "outputs": [],
   "source": [
    "df_scaled = scaler.transform(df)"
   ]
  },
  {
   "cell_type": "code",
   "execution_count": 10,
   "metadata": {},
   "outputs": [
    {
     "data": {
      "text/html": [
       "<div>\n",
       "<style scoped>\n",
       "    .dataframe tbody tr th:only-of-type {\n",
       "        vertical-align: middle;\n",
       "    }\n",
       "\n",
       "    .dataframe tbody tr th {\n",
       "        vertical-align: top;\n",
       "    }\n",
       "\n",
       "    .dataframe thead th {\n",
       "        text-align: right;\n",
       "    }\n",
       "</style>\n",
       "<table border=\"1\" class=\"dataframe\">\n",
       "  <thead>\n",
       "    <tr style=\"text-align: right;\">\n",
       "      <th></th>\n",
       "      <th>MURD</th>\n",
       "      <th>RAPE</th>\n",
       "      <th>ROB</th>\n",
       "      <th>ASSA</th>\n",
       "      <th>BURG</th>\n",
       "      <th>LARC</th>\n",
       "      <th>AUTO</th>\n",
       "    </tr>\n",
       "  </thead>\n",
       "  <tbody>\n",
       "    <tr>\n",
       "      <th>mean</th>\n",
       "      <td>-2.020606e-16</td>\n",
       "      <td>-1.265654e-16</td>\n",
       "      <td>-5.662137e-17</td>\n",
       "      <td>1.820766e-16</td>\n",
       "      <td>1.154632e-16</td>\n",
       "      <td>-1.554312e-16</td>\n",
       "      <td>-6.661338e-17</td>\n",
       "    </tr>\n",
       "    <tr>\n",
       "      <th>std</th>\n",
       "      <td>1.010153e+00</td>\n",
       "      <td>1.010153e+00</td>\n",
       "      <td>1.010153e+00</td>\n",
       "      <td>1.010153e+00</td>\n",
       "      <td>1.010153e+00</td>\n",
       "      <td>1.010153e+00</td>\n",
       "      <td>1.010153e+00</td>\n",
       "    </tr>\n",
       "  </tbody>\n",
       "</table>\n",
       "</div>"
      ],
      "text/plain": [
       "              MURD          RAPE           ROB          ASSA          BURG  \\\n",
       "mean -2.020606e-16 -1.265654e-16 -5.662137e-17  1.820766e-16  1.154632e-16   \n",
       "std   1.010153e+00  1.010153e+00  1.010153e+00  1.010153e+00  1.010153e+00   \n",
       "\n",
       "              LARC          AUTO  \n",
       "mean -1.554312e-16 -6.661338e-17  \n",
       "std   1.010153e+00  1.010153e+00  "
      ]
     },
     "execution_count": 10,
     "metadata": {},
     "output_type": "execute_result"
    }
   ],
   "source": [
    "pd.DataFrame(df_scaled, columns = df.columns).describe().loc[['mean', 'std']]"
   ]
  },
  {
   "cell_type": "code",
   "execution_count": 11,
   "metadata": {},
   "outputs": [],
   "source": [
    "from sklearn.decomposition import PCA"
   ]
  },
  {
   "cell_type": "code",
   "execution_count": 12,
   "metadata": {},
   "outputs": [],
   "source": [
    "pca = PCA()"
   ]
  },
  {
   "cell_type": "code",
   "execution_count": 13,
   "metadata": {},
   "outputs": [
    {
     "data": {
      "text/plain": [
       "PCA(copy=True, iterated_power='auto', n_components=None, random_state=None,\n",
       "    svd_solver='auto', tol=0.0, whiten=False)"
      ]
     },
     "execution_count": 13,
     "metadata": {},
     "output_type": "execute_result"
    }
   ],
   "source": [
    "pca.fit(df_scaled)"
   ]
  },
  {
   "cell_type": "code",
   "execution_count": 14,
   "metadata": {},
   "outputs": [],
   "source": [
    "x_pca = pca.transform(df_scaled)"
   ]
  },
  {
   "cell_type": "code",
   "execution_count": 15,
   "metadata": {},
   "outputs": [
    {
     "data": {
      "text/html": [
       "<div>\n",
       "<style scoped>\n",
       "    .dataframe tbody tr th:only-of-type {\n",
       "        vertical-align: middle;\n",
       "    }\n",
       "\n",
       "    .dataframe tbody tr th {\n",
       "        vertical-align: top;\n",
       "    }\n",
       "\n",
       "    .dataframe thead th {\n",
       "        text-align: right;\n",
       "    }\n",
       "</style>\n",
       "<table border=\"1\" class=\"dataframe\">\n",
       "  <thead>\n",
       "    <tr style=\"text-align: right;\">\n",
       "      <th></th>\n",
       "      <th>MURD</th>\n",
       "      <th>RAPE</th>\n",
       "      <th>ROB</th>\n",
       "      <th>ASSA</th>\n",
       "      <th>BURG</th>\n",
       "      <th>LARC</th>\n",
       "      <th>AUTO</th>\n",
       "    </tr>\n",
       "  </thead>\n",
       "  <tbody>\n",
       "    <tr>\n",
       "      <th>0</th>\n",
       "      <td>0.28</td>\n",
       "      <td>0.42</td>\n",
       "      <td>0.39</td>\n",
       "      <td>0.39</td>\n",
       "      <td>0.44</td>\n",
       "      <td>0.36</td>\n",
       "      <td>0.35</td>\n",
       "    </tr>\n",
       "    <tr>\n",
       "      <th>1</th>\n",
       "      <td>0.64</td>\n",
       "      <td>0.12</td>\n",
       "      <td>-0.05</td>\n",
       "      <td>0.46</td>\n",
       "      <td>-0.26</td>\n",
       "      <td>-0.40</td>\n",
       "      <td>-0.37</td>\n",
       "    </tr>\n",
       "    <tr>\n",
       "      <th>2</th>\n",
       "      <td>-0.01</td>\n",
       "      <td>-0.36</td>\n",
       "      <td>0.60</td>\n",
       "      <td>0.01</td>\n",
       "      <td>-0.16</td>\n",
       "      <td>-0.51</td>\n",
       "      <td>0.47</td>\n",
       "    </tr>\n",
       "    <tr>\n",
       "      <th>3</th>\n",
       "      <td>0.33</td>\n",
       "      <td>-0.30</td>\n",
       "      <td>-0.65</td>\n",
       "      <td>0.07</td>\n",
       "      <td>0.14</td>\n",
       "      <td>-0.05</td>\n",
       "      <td>0.60</td>\n",
       "    </tr>\n",
       "    <tr>\n",
       "      <th>4</th>\n",
       "      <td>-0.20</td>\n",
       "      <td>0.76</td>\n",
       "      <td>-0.19</td>\n",
       "      <td>-0.14</td>\n",
       "      <td>-0.29</td>\n",
       "      <td>-0.36</td>\n",
       "      <td>0.34</td>\n",
       "    </tr>\n",
       "    <tr>\n",
       "      <th>5</th>\n",
       "      <td>-0.10</td>\n",
       "      <td>0.07</td>\n",
       "      <td>-0.07</td>\n",
       "      <td>-0.10</td>\n",
       "      <td>0.78</td>\n",
       "      <td>-0.56</td>\n",
       "      <td>-0.21</td>\n",
       "    </tr>\n",
       "    <tr>\n",
       "      <th>6</th>\n",
       "      <td>-0.59</td>\n",
       "      <td>-0.11</td>\n",
       "      <td>-0.16</td>\n",
       "      <td>0.78</td>\n",
       "      <td>-0.03</td>\n",
       "      <td>-0.07</td>\n",
       "      <td>0.01</td>\n",
       "    </tr>\n",
       "  </tbody>\n",
       "</table>\n",
       "</div>"
      ],
      "text/plain": [
       "   MURD  RAPE   ROB  ASSA  BURG  LARC  AUTO\n",
       "0  0.28  0.42  0.39  0.39  0.44  0.36  0.35\n",
       "1  0.64  0.12 -0.05  0.46 -0.26 -0.40 -0.37\n",
       "2 -0.01 -0.36  0.60  0.01 -0.16 -0.51  0.47\n",
       "3  0.33 -0.30 -0.65  0.07  0.14 -0.05  0.60\n",
       "4 -0.20  0.76 -0.19 -0.14 -0.29 -0.36  0.34\n",
       "5 -0.10  0.07 -0.07 -0.10  0.78 -0.56 -0.21\n",
       "6 -0.59 -0.11 -0.16  0.78 -0.03 -0.07  0.01"
      ]
     },
     "execution_count": 15,
     "metadata": {},
     "output_type": "execute_result"
    }
   ],
   "source": [
    "pd.DataFrame(np.round(pca.components_,2), columns = df.columns)"
   ]
  },
  {
   "cell_type": "code",
   "execution_count": 16,
   "metadata": {},
   "outputs": [
    {
     "name": "stdout",
     "output_type": "stream",
     "text": [
      "1 번째 PC까지 사용했을 때 설명되는 분산의 비율: 58.24%\n",
      "2 번째 PC까지 사용했을 때 설명되는 분산의 비율: 78.69%\n",
      "3 번째 PC까지 사용했을 때 설명되는 분산의 비율: 87.71%\n",
      "4 번째 PC까지 사용했을 때 설명되는 분산의 비율: 92.57%\n",
      "5 번째 PC까지 사용했을 때 설명되는 분산의 비율: 96.12%\n",
      "6 번째 PC까지 사용했을 때 설명되는 분산의 비율: 98.11%\n",
      "7 번째 PC까지 사용했을 때 설명되는 분산의 비율: 100.00%\n"
     ]
    }
   ],
   "source": [
    "lambdas = pca.explained_variance_ratio_\n",
    "var = 0\n",
    "j = 0\n",
    "for i in lambdas:\n",
    "    var += i \n",
    "    percent = format(var * 100, '.2f')\n",
    "    j += 1\n",
    "    print('{} 번째 PC까지 사용했을 때 설명되는 분산의 비율: {}%'.format(j, percent)) "
   ]
  },
  {
   "cell_type": "code",
   "execution_count": 17,
   "metadata": {},
   "outputs": [
    {
     "data": {
      "image/png": "[encoded data removed]",
      "text/plain": [
       "<Figure size 576x432 with 1 Axes>"
      ]
     },
     "metadata": {
      "needs_background": "light"
     },
     "output_type": "display_data"
    }
   ],
   "source": [
    "plt.figure(figsize = (8,6))\n",
    "plt.style.use('ggplot')\n",
    "plt.plot(range(1,8), lambdas, marker = 'o')\n",
    "plt.xlabel('Principal Component')\n",
    "plt.ylabel('Explained Variance')\n",
    "plt.ylim((0, .7))\n",
    "plt.xticks([1,2,3,4,5,6,7])\n",
    "plt.show()"
   ]
  },
  {
   "cell_type": "markdown",
   "metadata": {},
   "source": [
    "PC3까지 쓰기로 결정"
   ]
  },
  {
   "cell_type": "code",
   "execution_count": 18,
   "metadata": {},
   "outputs": [
    {
     "data": {
      "image/png": "[encoded data removed]",
      "text/plain": [
       "<Figure size 720x432 with 1 Axes>"
      ]
     },
     "metadata": {},
     "output_type": "display_data"
    }
   ],
   "source": [
    "index1 = crime[crime['REG'] == 1].index.values\n",
    "index2 = crime[crime['REG'] == 2].index.values\n",
    "index3 = crime[crime['REG'] == 3].index.values\n",
    "index4 = crime[crime['REG'] == 4].index.values\n",
    "index = [index1, index2, index3, index4]\n",
    "\n",
    "from mpl_toolkits.mplot3d import Axes3D\n",
    "\n",
    "# initialize figure and 3d projection for the PC3 data\n",
    "fig = plt.figure(figsize = (10, 6))\n",
    "ax = fig.add_subplot(111, projection='3d')\n",
    "\n",
    "color_list = ['red', 'orange', 'yellow', 'green']\n",
    "\n",
    "for i,j in enumerate(index):\n",
    "    xs = x_pca.T[0][j]\n",
    "    ys = x_pca.T[1][j]\n",
    "    zs = x_pca.T[2][j]\n",
    "    plot = ax.scatter(xs, ys, zs, alpha = 0.75, c = color_list[i], depthshade = True, label = 'REG' + str(i+1))\n",
    "\n",
    "ax.set_xlabel('PC1')\n",
    "ax.set_ylabel('PC2')\n",
    "ax.set_zlabel('PC3')\n",
    "\n",
    "plt.legend()\n",
    "\n",
    "plt.show()"
   ]
  },
  {
   "cell_type": "code",
   "execution_count": 19,
   "metadata": {},
   "outputs": [],
   "source": [
    "import matplotlib.pylab as pl\n",
    "from sklearn.cluster import KMeans"
   ]
  },
  {
   "cell_type": "code",
   "execution_count": 20,
   "metadata": {},
   "outputs": [
    {
     "data": {
      "image/png": "[encoded data removed]",
      "text/plain": [
       "<Figure size 864x432 with 1 Axes>"
      ]
     },
     "metadata": {},
     "output_type": "display_data"
    }
   ],
   "source": [
    "number_clusters = range(1, 8)\n",
    "kmeans_list = []\n",
    "\n",
    "for i in number_clusters:\n",
    "    kmeans_list.append(KMeans(n_clusters=i))\n",
    "scores = []\n",
    "for i in range(len(kmeans_list)):\n",
    "    scores.append(kmeans_list[i].fit(df_scaled).score(df_scaled))\n",
    "    \n",
    "pl.figure(figsize = (12, 6))\n",
    "pl.plot(number_clusters,scores)\n",
    "pl.xlabel('Number of Clusters')\n",
    "pl.ylabel('Score')\n",
    "pl.title('Elbow Curve')\n",
    "pl.style.use('seaborn')\n",
    "pl.show()"
   ]
  },
  {
   "cell_type": "code",
   "execution_count": 21,
   "metadata": {},
   "outputs": [
    {
     "name": "stdout",
     "output_type": "stream",
     "text": [
      "2 0.33\n",
      "3 0.26\n",
      "4 0.31\n",
      "5 0.29\n",
      "6 0.29\n",
      "7 0.31\n"
     ]
    }
   ],
   "source": [
    "from sklearn.metrics import silhouette_score\n",
    "for k in range(2,8):\n",
    "    kmeans = KMeans(n_clusters=k, max_iter=300)\n",
    "    cluster = kmeans.fit_predict(df_scaled) \n",
    "    print(k, format(silhouette_score(df_scaled, cluster), '.2f'))"
   ]
  },
  {
   "cell_type": "markdown",
   "metadata": {},
   "source": [
    "optimal K: 4개로 결정"
   ]
  },
  {
   "cell_type": "code",
   "execution_count": 22,
   "metadata": {},
   "outputs": [],
   "source": [
    "np.random.seed(0)\n",
    "kmeans = KMeans(n_clusters=4, max_iter=300, verbose=0)"
   ]
  },
  {
   "cell_type": "code",
   "execution_count": 23,
   "metadata": {},
   "outputs": [
    {
     "name": "stdout",
     "output_type": "stream",
     "text": [
      "(50,)\n",
      "(50, 7)\n"
     ]
    }
   ],
   "source": [
    "clusters = kmeans.fit_predict(df_scaled)\n",
    "print(clusters.shape)\n",
    "print(x_pca.shape)"
   ]
  },
  {
   "cell_type": "code",
   "execution_count": 24,
   "metadata": {},
   "outputs": [],
   "source": [
    "x_pca_knn = pd.DataFrame(np.round(x_pca,2), columns = df.columns)"
   ]
  },
  {
   "cell_type": "code",
   "execution_count": 25,
   "metadata": {},
   "outputs": [
    {
     "data": {
      "text/html": [
       "<div>\n",
       "<style scoped>\n",
       "    .dataframe tbody tr th:only-of-type {\n",
       "        vertical-align: middle;\n",
       "    }\n",
       "\n",
       "    .dataframe tbody tr th {\n",
       "        vertical-align: top;\n",
       "    }\n",
       "\n",
       "    .dataframe thead th {\n",
       "        text-align: right;\n",
       "    }\n",
       "</style>\n",
       "<table border=\"1\" class=\"dataframe\">\n",
       "  <thead>\n",
       "    <tr style=\"text-align: right;\">\n",
       "      <th></th>\n",
       "      <th>MURD</th>\n",
       "      <th>RAPE</th>\n",
       "      <th>ROB</th>\n",
       "      <th>ASSA</th>\n",
       "      <th>BURG</th>\n",
       "      <th>LARC</th>\n",
       "      <th>AUTO</th>\n",
       "      <th>CLUSTER</th>\n",
       "    </tr>\n",
       "  </thead>\n",
       "  <tbody>\n",
       "    <tr>\n",
       "      <th>0</th>\n",
       "      <td>-2.99</td>\n",
       "      <td>-0.31</td>\n",
       "      <td>0.11</td>\n",
       "      <td>-0.31</td>\n",
       "      <td>0.10</td>\n",
       "      <td>0.38</td>\n",
       "      <td>0.37</td>\n",
       "      <td>2</td>\n",
       "    </tr>\n",
       "    <tr>\n",
       "      <th>1</th>\n",
       "      <td>-3.18</td>\n",
       "      <td>-0.40</td>\n",
       "      <td>0.30</td>\n",
       "      <td>-0.16</td>\n",
       "      <td>0.13</td>\n",
       "      <td>0.47</td>\n",
       "      <td>0.02</td>\n",
       "      <td>2</td>\n",
       "    </tr>\n",
       "    <tr>\n",
       "      <th>2</th>\n",
       "      <td>-2.76</td>\n",
       "      <td>-0.37</td>\n",
       "      <td>-0.16</td>\n",
       "      <td>-0.43</td>\n",
       "      <td>0.35</td>\n",
       "      <td>0.89</td>\n",
       "      <td>0.27</td>\n",
       "      <td>2</td>\n",
       "    </tr>\n",
       "    <tr>\n",
       "      <th>3</th>\n",
       "      <td>0.22</td>\n",
       "      <td>-1.80</td>\n",
       "      <td>1.59</td>\n",
       "      <td>1.49</td>\n",
       "      <td>0.82</td>\n",
       "      <td>0.37</td>\n",
       "      <td>0.09</td>\n",
       "      <td>0</td>\n",
       "    </tr>\n",
       "    <tr>\n",
       "      <th>4</th>\n",
       "      <td>-0.04</td>\n",
       "      <td>-2.02</td>\n",
       "      <td>1.41</td>\n",
       "      <td>1.84</td>\n",
       "      <td>-0.34</td>\n",
       "      <td>-0.49</td>\n",
       "      <td>0.61</td>\n",
       "      <td>0</td>\n",
       "    </tr>\n",
       "  </tbody>\n",
       "</table>\n",
       "</div>"
      ],
      "text/plain": [
       "   MURD  RAPE   ROB  ASSA  BURG  LARC  AUTO  CLUSTER\n",
       "0 -2.99 -0.31  0.11 -0.31  0.10  0.38  0.37        2\n",
       "1 -3.18 -0.40  0.30 -0.16  0.13  0.47  0.02        2\n",
       "2 -2.76 -0.37 -0.16 -0.43  0.35  0.89  0.27        2\n",
       "3  0.22 -1.80  1.59  1.49  0.82  0.37  0.09        0\n",
       "4 -0.04 -2.02  1.41  1.84 -0.34 -0.49  0.61        0"
      ]
     },
     "execution_count": 25,
     "metadata": {},
     "output_type": "execute_result"
    }
   ],
   "source": [
    "x_pca_knn['CLUSTER'] = pd.Series(clusters, name = 'CLUSTER')\n",
    "x_pca_knn.head()"
   ]
  },
  {
   "cell_type": "code",
   "execution_count": 26,
   "metadata": {},
   "outputs": [
    {
     "data": {
      "image/png": "[encoded data removed]",
      "text/plain": [
       "<Figure size 720x432 with 1 Axes>"
      ]
     },
     "metadata": {},
     "output_type": "display_data"
    }
   ],
   "source": [
    "# initialize figure and 3d projection for the PC3 data\n",
    "index1 = x_pca_knn[x_pca_knn['CLUSTER'] == 0].index.values\n",
    "index2 = x_pca_knn[x_pca_knn['CLUSTER'] == 1].index.values\n",
    "index3 = x_pca_knn[x_pca_knn['CLUSTER'] == 2].index.values\n",
    "index4 = x_pca_knn[x_pca_knn['CLUSTER'] == 3].index.values\n",
    "\n",
    "index = [index1, index2, index3, index4]\n",
    "\n",
    "fig = plt.figure(figsize = (10, 6))\n",
    "ax = fig.add_subplot(111, projection='3d')\n",
    "\n",
    "for i,j in enumerate(index):\n",
    "    xs = x_pca.T[0][j]\n",
    "    ys = x_pca.T[1][j]\n",
    "    zs = x_pca.T[2][j]\n",
    "    plot = ax.scatter(xs, ys, zs, alpha = 0.75, c = color_list[i], depthshade = True, label = 'CLUSTER' + str(i+1))\n",
    "\n",
    "ax.set_xlabel('PC1')\n",
    "ax.set_ylabel('PC2')\n",
    "ax.set_zlabel('PC3')\n",
    "\n",
    "plt.legend()\n",
    "\n",
    "plt.show()"
   ]
  },
  {
   "cell_type": "code",
   "execution_count": 27,
   "metadata": {},
   "outputs": [
    {
     "data": {
      "image/png": "[encoded data removed]",
      "text/plain": [
       "<Figure size 720x432 with 1 Axes>"
      ]
     },
     "metadata": {},
     "output_type": "display_data"
    }
   ],
   "source": [
    "index1 = x_pca_knn[x_pca_knn['CLUSTER'] == 0].index.values\n",
    "index2 = x_pca_knn[x_pca_knn['CLUSTER'] == 1].index.values\n",
    "index3 = x_pca_knn[x_pca_knn['CLUSTER'] == 2].index.values\n",
    "index4 = x_pca_knn[x_pca_knn['CLUSTER'] == 3].index.values\n",
    "index = [index1, index2, index3, index4]\n",
    "\n",
    "color_list = ['red', 'orange', 'yellow', 'green']\n",
    "\n",
    "plt.figure(figsize = (10, 6))\n",
    "\n",
    "sns.scatterplot(x_pca.T[0], x_pca.T[1], data = x_pca_knn, hue = 'CLUSTER', palette = 'plasma')\n",
    "        \n",
    "plt.xlabel('주성분1')\n",
    "plt.ylabel('주성분2')\n",
    "plt.show()\n",
    "    "
   ]
  },
  {
   "cell_type": "code",
   "execution_count": 28,
   "metadata": {},
   "outputs": [
    {
     "data": {
      "text/html": [
       "<div>\n",
       "<style scoped>\n",
       "    .dataframe tbody tr th:only-of-type {\n",
       "        vertical-align: middle;\n",
       "    }\n",
       "\n",
       "    .dataframe tbody tr th {\n",
       "        vertical-align: top;\n",
       "    }\n",
       "\n",
       "    .dataframe thead th {\n",
       "        text-align: right;\n",
       "    }\n",
       "</style>\n",
       "<table border=\"1\" class=\"dataframe\">\n",
       "  <thead>\n",
       "    <tr style=\"text-align: right;\">\n",
       "      <th></th>\n",
       "      <th>MURD</th>\n",
       "      <th>RAPE</th>\n",
       "      <th>ROB</th>\n",
       "      <th>ASSA</th>\n",
       "      <th>BURG</th>\n",
       "      <th>LARC</th>\n",
       "      <th>AUTO</th>\n",
       "    </tr>\n",
       "  </thead>\n",
       "  <tbody>\n",
       "    <tr>\n",
       "      <th>0</th>\n",
       "      <td>0.28</td>\n",
       "      <td>0.42</td>\n",
       "      <td>0.39</td>\n",
       "      <td>0.39</td>\n",
       "      <td>0.44</td>\n",
       "      <td>0.36</td>\n",
       "      <td>0.35</td>\n",
       "    </tr>\n",
       "    <tr>\n",
       "      <th>1</th>\n",
       "      <td>0.64</td>\n",
       "      <td>0.12</td>\n",
       "      <td>-0.05</td>\n",
       "      <td>0.46</td>\n",
       "      <td>-0.26</td>\n",
       "      <td>-0.40</td>\n",
       "      <td>-0.37</td>\n",
       "    </tr>\n",
       "  </tbody>\n",
       "</table>\n",
       "</div>"
      ],
      "text/plain": [
       "   MURD  RAPE   ROB  ASSA  BURG  LARC  AUTO\n",
       "0  0.28  0.42  0.39  0.39  0.44  0.36  0.35\n",
       "1  0.64  0.12 -0.05  0.46 -0.26 -0.40 -0.37"
      ]
     },
     "execution_count": 28,
     "metadata": {},
     "output_type": "execute_result"
    }
   ],
   "source": [
    "pd.DataFrame(np.round(pca.components_[:2],2), columns = df.columns)"
   ]
  },
  {
   "cell_type": "code",
   "execution_count": 29,
   "metadata": {},
   "outputs": [
    {
     "data": {
      "text/html": [
       "<div>\n",
       "<style scoped>\n",
       "    .dataframe tbody tr th:only-of-type {\n",
       "        vertical-align: middle;\n",
       "    }\n",
       "\n",
       "    .dataframe tbody tr th {\n",
       "        vertical-align: top;\n",
       "    }\n",
       "\n",
       "    .dataframe thead th {\n",
       "        text-align: right;\n",
       "    }\n",
       "</style>\n",
       "<table border=\"1\" class=\"dataframe\">\n",
       "  <thead>\n",
       "    <tr style=\"text-align: right;\">\n",
       "      <th></th>\n",
       "      <th>MURD</th>\n",
       "      <th>RAPE</th>\n",
       "      <th>ROB</th>\n",
       "      <th>ASSA</th>\n",
       "      <th>BURG</th>\n",
       "      <th>LARC</th>\n",
       "      <th>AUTO</th>\n",
       "      <th>CLUSTER</th>\n",
       "      <th>REG</th>\n",
       "    </tr>\n",
       "  </thead>\n",
       "  <tbody>\n",
       "    <tr>\n",
       "      <th>0</th>\n",
       "      <td>-2.99</td>\n",
       "      <td>-0.31</td>\n",
       "      <td>0.11</td>\n",
       "      <td>-0.31</td>\n",
       "      <td>0.10</td>\n",
       "      <td>0.38</td>\n",
       "      <td>0.37</td>\n",
       "      <td>2</td>\n",
       "      <td>1</td>\n",
       "    </tr>\n",
       "    <tr>\n",
       "      <th>1</th>\n",
       "      <td>-3.18</td>\n",
       "      <td>-0.40</td>\n",
       "      <td>0.30</td>\n",
       "      <td>-0.16</td>\n",
       "      <td>0.13</td>\n",
       "      <td>0.47</td>\n",
       "      <td>0.02</td>\n",
       "      <td>2</td>\n",
       "      <td>1</td>\n",
       "    </tr>\n",
       "    <tr>\n",
       "      <th>2</th>\n",
       "      <td>-2.76</td>\n",
       "      <td>-0.37</td>\n",
       "      <td>-0.16</td>\n",
       "      <td>-0.43</td>\n",
       "      <td>0.35</td>\n",
       "      <td>0.89</td>\n",
       "      <td>0.27</td>\n",
       "      <td>2</td>\n",
       "      <td>1</td>\n",
       "    </tr>\n",
       "    <tr>\n",
       "      <th>3</th>\n",
       "      <td>0.22</td>\n",
       "      <td>-1.80</td>\n",
       "      <td>1.59</td>\n",
       "      <td>1.49</td>\n",
       "      <td>0.82</td>\n",
       "      <td>0.37</td>\n",
       "      <td>0.09</td>\n",
       "      <td>0</td>\n",
       "      <td>1</td>\n",
       "    </tr>\n",
       "    <tr>\n",
       "      <th>4</th>\n",
       "      <td>-0.04</td>\n",
       "      <td>-2.02</td>\n",
       "      <td>1.41</td>\n",
       "      <td>1.84</td>\n",
       "      <td>-0.34</td>\n",
       "      <td>-0.49</td>\n",
       "      <td>0.61</td>\n",
       "      <td>0</td>\n",
       "      <td>1</td>\n",
       "    </tr>\n",
       "  </tbody>\n",
       "</table>\n",
       "</div>"
      ],
      "text/plain": [
       "   MURD  RAPE   ROB  ASSA  BURG  LARC  AUTO  CLUSTER REG\n",
       "0 -2.99 -0.31  0.11 -0.31  0.10  0.38  0.37        2   1\n",
       "1 -3.18 -0.40  0.30 -0.16  0.13  0.47  0.02        2   1\n",
       "2 -2.76 -0.37 -0.16 -0.43  0.35  0.89  0.27        2   1\n",
       "3  0.22 -1.80  1.59  1.49  0.82  0.37  0.09        0   1\n",
       "4 -0.04 -2.02  1.41  1.84 -0.34 -0.49  0.61        0   1"
      ]
     },
     "execution_count": 29,
     "metadata": {},
     "output_type": "execute_result"
    }
   ],
   "source": [
    "x_pca_knn['REG'] = crime['REG']\n",
    "x_pca_knn.head()"
   ]
  },
  {
   "cell_type": "code",
   "execution_count": 30,
   "metadata": {},
   "outputs": [],
   "source": [
    "cluster1 = x_pca_knn.groupby('CLUSTER').get_group(0).index.values\n",
    "cluster2 = x_pca_knn.groupby('CLUSTER').get_group(1).index.values\n",
    "cluster3 = x_pca_knn.groupby('CLUSTER').get_group(2).index.values\n",
    "cluster4 = x_pca_knn.groupby('CLUSTER').get_group(3).index.values"
   ]
  },
  {
   "cell_type": "markdown",
   "metadata": {},
   "source": [
    "살인+강간+ROB+ASSA 폭행군  \n",
    "BURG+LARC+AUTO 절도군 "
   ]
  },
  {
   "cell_type": "code",
   "execution_count": 31,
   "metadata": {},
   "outputs": [],
   "source": [
    "group1_cluster1 = df.iloc[cluster1,:].aggregate(sum)[0:2].sum()\n",
    "group1_cluster2 = df.iloc[cluster1,:].aggregate(sum)[2:4].sum()\n",
    "group1_cluster3 = df.iloc[cluster1,:].aggregate(sum)[4:].sum()\n",
    "group2_cluster1 = df.iloc[cluster2,:].aggregate(sum)[0:2].sum()\n",
    "group2_cluster2 = df.iloc[cluster2,:].aggregate(sum)[2:4].sum()\n",
    "group2_cluster3 = df.iloc[cluster2,:].aggregate(sum)[4:].sum()\n",
    "group3_cluster1 = df.iloc[cluster3,:].aggregate(sum)[0:2].sum()\n",
    "group3_cluster2 = df.iloc[cluster3,:].aggregate(sum)[2:4].sum()\n",
    "group3_cluster3 = df.iloc[cluster3,:].aggregate(sum)[4:].sum()\n",
    "group4_cluster1 = df.iloc[cluster4,:].aggregate(sum)[0:2].sum()\n",
    "group4_cluster2 = df.iloc[cluster4,:].aggregate(sum)[2:4].sum()\n",
    "group4_cluster3 = df.iloc[cluster4,:].aggregate(sum)[4:].sum()"
   ]
  },
  {
   "cell_type": "code",
   "execution_count": 32,
   "metadata": {},
   "outputs": [],
   "source": [
    "import matplotlib.pyplot as plt\n",
    "import matplotlib.font_manager as fm\n",
    "font_fname = 'C:/Windows/Fonts/H2GTRM.ttf'\n",
    "font_family = fm.FontProperties(fname=font_fname).get_name()\n",
    "plt.rcParams['axes.unicode_minus'] = False\n",
    "plt.rcParams['font.size'] = 20\n",
    "plt.rcParams[\"font.family\"] = font_family"
   ]
  },
  {
   "cell_type": "code",
   "execution_count": 33,
   "metadata": {},
   "outputs": [
    {
     "data": {
      "image/png": "[encoded data removed]",
      "text/plain": [
       "<Figure size 864x432 with 3 Axes>"
      ]
     },
     "metadata": {},
     "output_type": "display_data"
    }
   ],
   "source": [
    "ypos = np.arange(4)\n",
    "y_pos = ['군집1', '군집2', '군집3', '군집4']\n",
    "fig = plt.figure(figsize=(12, 6))\n",
    "plt.subplot(1,3,1)\n",
    "fluctuations = [group1_cluster1, group2_cluster1, group3_cluster1, group4_cluster1]\n",
    "rects = plt.barh(ypos, fluctuations, align='center', height=0.3)\n",
    "plt.yticks(ypos, y_pos)\n",
    "plt.xlabel('잔혹범죄 합', fontdict = {'fontsize':15})\n",
    "plt.subplot(1,3,2)\n",
    "fluctuations = [group1_cluster2, group2_cluster2, group3_cluster2, group4_cluster2]\n",
    "rects = plt.barh(ypos, fluctuations, align='center', height=0.3)\n",
    "plt.yticks(ypos, y_pos)\n",
    "plt.xlabel('폭행범죄 합', fontdict = {'fontsize':15})\n",
    "plt.subplot(1,3,3)\n",
    "fluctuations = [group1_cluster3, group2_cluster3, group3_cluster3, group4_cluster3]\n",
    "rects = plt.barh(ypos, fluctuations, align='center', height=0.3)\n",
    "plt.yticks(ypos, y_pos)\n",
    "plt.xlabel('절도범죄 합', fontdict = {'fontsize':15})\n",
    "plt.show()"
   ]
  },
  {
   "cell_type": "code",
   "execution_count": 34,
   "metadata": {},
   "outputs": [
    {
     "name": "stdout",
     "output_type": "stream",
     "text": [
      "4    4\n",
      "1    4\n",
      "2    3\n",
      "3    0\n",
      "Name: REG, dtype: int64\n",
      "3    12\n",
      "4     2\n",
      "2     1\n",
      "1     0\n",
      "Name: REG, dtype: int64\n",
      "2    6\n",
      "1    4\n",
      "4    3\n",
      "3    2\n",
      "Name: REG, dtype: int64\n",
      "4    4\n",
      "3    2\n",
      "2    2\n",
      "1    1\n",
      "Name: REG, dtype: int64\n"
     ]
    }
   ],
   "source": [
    "print(crime.iloc[cluster1,]['REG'].value_counts())\n",
    "print(crime.iloc[cluster2,]['REG'].value_counts())\n",
    "print(crime.iloc[cluster3,]['REG'].value_counts())\n",
    "print(crime.iloc[cluster4,]['REG'].value_counts())"
   ]
  },
  {
   "cell_type": "code",
   "execution_count": 35,
   "metadata": {},
   "outputs": [
    {
     "data": {
      "image/png": "[encoded data removed]",
      "text/plain": [
       "<Figure size 720x504 with 1 Axes>"
      ]
     },
     "metadata": {},
     "output_type": "display_data"
    }
   ],
   "source": [
    "from sklearn.cluster import AgglomerativeClustering\n",
    "from scipy.cluster.hierarchy import dendrogram, linkage\n",
    "from matplotlib import pyplot as plt\n",
    "\n",
    "np.random.seed(0)\n",
    "linked = linkage(df_scaled, 'ward')\n",
    "\n",
    "labelList = range(1, 51)\n",
    "\n",
    "plt.figure(figsize=(10, 7))\n",
    "dendrogram(linked,\n",
    "            orientation='top',\n",
    "            labels=labelList,\n",
    "            distance_sort='descending',\n",
    "            show_leaf_counts=True)\n",
    "plt.show()"
   ]
  },
  {
   "cell_type": "code",
   "execution_count": 36,
   "metadata": {},
   "outputs": [],
   "source": [
    "np.random.seed(0)\n",
    "cluster_hier = AgglomerativeClustering(linkage='ward', n_clusters=4).fit(df_scaled)"
   ]
  },
  {
   "cell_type": "code",
   "execution_count": 37,
   "metadata": {},
   "outputs": [
    {
     "data": {
      "text/html": [
       "<div>\n",
       "<style scoped>\n",
       "    .dataframe tbody tr th:only-of-type {\n",
       "        vertical-align: middle;\n",
       "    }\n",
       "\n",
       "    .dataframe tbody tr th {\n",
       "        vertical-align: top;\n",
       "    }\n",
       "\n",
       "    .dataframe thead th {\n",
       "        text-align: right;\n",
       "    }\n",
       "</style>\n",
       "<table border=\"1\" class=\"dataframe\">\n",
       "  <thead>\n",
       "    <tr style=\"text-align: right;\">\n",
       "      <th></th>\n",
       "      <th>MURD</th>\n",
       "      <th>RAPE</th>\n",
       "      <th>ROB</th>\n",
       "      <th>ASSA</th>\n",
       "      <th>BURG</th>\n",
       "      <th>LARC</th>\n",
       "      <th>AUTO</th>\n",
       "      <th>CLUSTER</th>\n",
       "      <th>REG</th>\n",
       "    </tr>\n",
       "  </thead>\n",
       "  <tbody>\n",
       "    <tr>\n",
       "      <th>0</th>\n",
       "      <td>-2.99</td>\n",
       "      <td>-0.31</td>\n",
       "      <td>0.11</td>\n",
       "      <td>-0.31</td>\n",
       "      <td>0.10</td>\n",
       "      <td>0.38</td>\n",
       "      <td>0.37</td>\n",
       "      <td>3</td>\n",
       "      <td>1</td>\n",
       "    </tr>\n",
       "    <tr>\n",
       "      <th>1</th>\n",
       "      <td>-3.18</td>\n",
       "      <td>-0.40</td>\n",
       "      <td>0.30</td>\n",
       "      <td>-0.16</td>\n",
       "      <td>0.13</td>\n",
       "      <td>0.47</td>\n",
       "      <td>0.02</td>\n",
       "      <td>3</td>\n",
       "      <td>1</td>\n",
       "    </tr>\n",
       "    <tr>\n",
       "      <th>2</th>\n",
       "      <td>-2.76</td>\n",
       "      <td>-0.37</td>\n",
       "      <td>-0.16</td>\n",
       "      <td>-0.43</td>\n",
       "      <td>0.35</td>\n",
       "      <td>0.89</td>\n",
       "      <td>0.27</td>\n",
       "      <td>3</td>\n",
       "      <td>1</td>\n",
       "    </tr>\n",
       "    <tr>\n",
       "      <th>3</th>\n",
       "      <td>0.22</td>\n",
       "      <td>-1.80</td>\n",
       "      <td>1.59</td>\n",
       "      <td>1.49</td>\n",
       "      <td>0.82</td>\n",
       "      <td>0.37</td>\n",
       "      <td>0.09</td>\n",
       "      <td>1</td>\n",
       "      <td>1</td>\n",
       "    </tr>\n",
       "    <tr>\n",
       "      <th>4</th>\n",
       "      <td>-0.04</td>\n",
       "      <td>-2.02</td>\n",
       "      <td>1.41</td>\n",
       "      <td>1.84</td>\n",
       "      <td>-0.34</td>\n",
       "      <td>-0.49</td>\n",
       "      <td>0.61</td>\n",
       "      <td>1</td>\n",
       "      <td>1</td>\n",
       "    </tr>\n",
       "  </tbody>\n",
       "</table>\n",
       "</div>"
      ],
      "text/plain": [
       "   MURD  RAPE   ROB  ASSA  BURG  LARC  AUTO  CLUSTER REG\n",
       "0 -2.99 -0.31  0.11 -0.31  0.10  0.38  0.37        3   1\n",
       "1 -3.18 -0.40  0.30 -0.16  0.13  0.47  0.02        3   1\n",
       "2 -2.76 -0.37 -0.16 -0.43  0.35  0.89  0.27        3   1\n",
       "3  0.22 -1.80  1.59  1.49  0.82  0.37  0.09        1   1\n",
       "4 -0.04 -2.02  1.41  1.84 -0.34 -0.49  0.61        1   1"
      ]
     },
     "execution_count": 37,
     "metadata": {},
     "output_type": "execute_result"
    }
   ],
   "source": [
    "x_pca_knn['CLUSTER'] = pd.Series(cluster_hier.labels_, name = 'CLUSTER')\n",
    "x_pca_knn.head()"
   ]
  },
  {
   "cell_type": "code",
   "execution_count": 38,
   "metadata": {},
   "outputs": [
    {
     "data": {
      "image/png": "[encoded data removed]",
      "text/plain": [
       "<Figure size 1080x432 with 3 Axes>"
      ]
     },
     "metadata": {},
     "output_type": "display_data"
    }
   ],
   "source": [
    "index1 = x_pca_knn[x_pca_knn['CLUSTER'] == 0].index.values\n",
    "index2 = x_pca_knn[x_pca_knn['CLUSTER'] == 1].index.values\n",
    "index3 = x_pca_knn[x_pca_knn['CLUSTER'] == 2].index.values\n",
    "index4 = x_pca_knn[x_pca_knn['CLUSTER'] == 3].index.values\n",
    "index = [index1, index2, index3, index4]\n",
    "\n",
    "color_list = ['red', 'orange', 'yellow', 'green']\n",
    "\n",
    "plt.figure(figsize = (15, 6))\n",
    "\n",
    "for i in range(3):\n",
    "    if i == 0:\n",
    "        plt.subplot(1, 3, 1)\n",
    "        for k, j in enumerate(index):\n",
    "            xs = x_pca.T[0][j]\n",
    "            ys = x_pca.T[1][j]\n",
    "            plt.scatter(xs, ys, c = color_list[k], label = 'CLUSTER' + str(i+1))\n",
    "        plt.xlabel('PC1')\n",
    "        plt.ylabel('PC2')\n",
    "    elif i == 1:\n",
    "        plt.subplot(1, 3, 2)\n",
    "        for k, j in enumerate(index):\n",
    "            xs = x_pca.T[1][j]\n",
    "            ys = x_pca.T[2][j]\n",
    "            plt.scatter(xs, ys, c = color_list[k], label = 'CLUSTER' + str(i+1))\n",
    "        plt.xlabel('PC2')\n",
    "        plt.ylabel('PC3')\n",
    "    if i == 2:\n",
    "        plt.subplot(1, 3, 3)\n",
    "        for k, j in enumerate(index):\n",
    "            xs = x_pca.T[0][j]\n",
    "            ys = x_pca.T[3][j]\n",
    "            plt.scatter(xs, ys, c = color_list[k], label = 'CLUSTER' + str(i+1))\n",
    "        plt.xlabel('PC1')\n",
    "        plt.ylabel('PC3')"
   ]
  },
  {
   "cell_type": "code",
   "execution_count": 39,
   "metadata": {},
   "outputs": [],
   "source": [
    "\n",
    "cluster1 = x_pca_knn.groupby('CLUSTER').get_group(0).index.values\n",
    "cluster2 = x_pca_knn.groupby('CLUSTER').get_group(1).index.values\n",
    "cluster3 = x_pca_knn.groupby('CLUSTER').get_group(2).index.values\n",
    "cluster4 = x_pca_knn.groupby('CLUSTER').get_group(3).index.values\n",
    "\n",
    "group1_cluster1 = df.iloc[cluster1,:].aggregate(sum)[0:2].sum()\n",
    "group1_cluster2 = df.iloc[cluster1,:].aggregate(sum)[2:4].sum()\n",
    "group1_cluster3 = df.iloc[cluster1,:].aggregate(sum)[4:].sum()\n",
    "group2_cluster1 = df.iloc[cluster2,:].aggregate(sum)[0:2].sum()\n",
    "group2_cluster2 = df.iloc[cluster2,:].aggregate(sum)[2:4].sum()\n",
    "group2_cluster3 = df.iloc[cluster2,:].aggregate(sum)[4:].sum()\n",
    "group3_cluster1 = df.iloc[cluster3,:].aggregate(sum)[0:2].sum()\n",
    "group3_cluster2 = df.iloc[cluster3,:].aggregate(sum)[2:4].sum()\n",
    "group3_cluster3 = df.iloc[cluster3,:].aggregate(sum)[4:].sum()\n",
    "group4_cluster1 = df.iloc[cluster4,:].aggregate(sum)[0:2].sum()\n",
    "group4_cluster2 = df.iloc[cluster4,:].aggregate(sum)[2:4].sum()\n",
    "group4_cluster3 = df.iloc[cluster4,:].aggregate(sum)[4:].sum()\n"
   ]
  },
  {
   "cell_type": "code",
   "execution_count": 40,
   "metadata": {},
   "outputs": [
    {
     "data": {
      "image/png": "[encoded data removed]",
      "text/plain": [
       "<Figure size 864x432 with 3 Axes>"
      ]
     },
     "metadata": {},
     "output_type": "display_data"
    }
   ],
   "source": [
    "ypos = np.arange(4)\n",
    "y_pos = ['군집1', '군집2', '군집3', '군집4']\n",
    "fig = plt.figure(figsize=(12, 6))\n",
    "plt.subplot(1,3,1)\n",
    "fluctuations = [group1_cluster1, group2_cluster1, group3_cluster1, group4_cluster1]\n",
    "rects = plt.barh(ypos, fluctuations, align='center', height=0.3)\n",
    "plt.yticks(ypos, y_pos)\n",
    "plt.xlabel('중범죄 합', fontdict = {'fontsize':15})\n",
    "plt.subplot(1,3,2)\n",
    "fluctuations = [group1_cluster2, group2_cluster2, group3_cluster2, group4_cluster2]\n",
    "rects = plt.barh(ypos, fluctuations, align='center', height=0.3)\n",
    "plt.yticks(ypos, y_pos)\n",
    "plt.xlabel('폭행범죄 합', fontdict = {'fontsize':15})\n",
    "plt.subplot(1,3,3)\n",
    "fluctuations = [group1_cluster3, group2_cluster3, group3_cluster3, group4_cluster3]\n",
    "rects = plt.barh(ypos, fluctuations, align='center', height=0.3)\n",
    "plt.yticks(ypos, y_pos)\n",
    "plt.xlabel('절도범죄 합', fontdict = {'fontsize':15})\n",
    "plt.show()"
   ]
  },
  {
   "cell_type": "code",
   "execution_count": 41,
   "metadata": {},
   "outputs": [
    {
     "name": "stdout",
     "output_type": "stream",
     "text": [
      "3    12\n",
      "4     2\n",
      "2     2\n",
      "1     0\n",
      "Name: REG, dtype: int64\n",
      "4    7\n",
      "2    5\n",
      "1    5\n",
      "3    0\n",
      "Name: REG, dtype: int64\n",
      "4    4\n",
      "3    2\n",
      "2    1\n",
      "1    1\n",
      "Name: REG, dtype: int64\n",
      "2    4\n",
      "1    3\n",
      "3    2\n",
      "4    0\n",
      "Name: REG, dtype: int64\n"
     ]
    }
   ],
   "source": [
    "print(crime.iloc[cluster1,]['REG'].value_counts())\n",
    "print(crime.iloc[cluster2,]['REG'].value_counts())\n",
    "print(crime.iloc[cluster3,]['REG'].value_counts())\n",
    "print(crime.iloc[cluster4,]['REG'].value_counts())"
   ]
  },
  {
   "cell_type": "code",
   "execution_count": null,
   "metadata": {},
   "outputs": [],
   "source": []
  }
 ],
 "metadata": {
  "kernelspec": {
   "display_name": "Python 3",
   "language": "python",
   "name": "python3"
  },
  "language_info": {
   "codemirror_mode": {
    "name": "ipython",
    "version": 3
   },
   "file_extension": ".py",
   "mimetype": "text/x-python",
   "name": "python",
   "nbconvert_exporter": "python",
   "pygments_lexer": "ipython3",
   "version": "3.7.3"
  }
 },
 "nbformat": 4,
 "nbformat_minor": 4
}
