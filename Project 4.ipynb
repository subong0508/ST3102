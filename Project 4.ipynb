{
 "cells": [
  {
   "cell_type": "code",
   "execution_count": 1,
   "metadata": {},
   "outputs": [],
   "source": [
    "import numpy as np\n",
    "import pandas as pd\n",
    "import matplotlib.pyplot as plt\n",
    "%matplotlib inline\n",
    "import seaborn as sns\n",
    "import scipy\n",
    "import matplotlib.pyplot as plt\n",
    "import matplotlib.font_manager as fm\n",
    "font_fname = 'C:/Windows/Fonts/H2GTRM.ttf'\n",
    "font_family = fm.FontProperties(fname=font_fname).get_name()\n",
    "plt.rcParams['axes.unicode_minus'] = False\n",
    "plt.rcParams['font.size'] = 12\n",
    "plt.rcParams[\"font.family\"] = font_family"
   ]
  },
  {
   "cell_type": "code",
   "execution_count": 2,
   "metadata": {},
   "outputs": [
    {
     "data": {
      "text/html": [
       "<div>\n",
       "<style scoped>\n",
       "    .dataframe tbody tr th:only-of-type {\n",
       "        vertical-align: middle;\n",
       "    }\n",
       "\n",
       "    .dataframe tbody tr th {\n",
       "        vertical-align: top;\n",
       "    }\n",
       "\n",
       "    .dataframe thead th {\n",
       "        text-align: right;\n",
       "    }\n",
       "</style>\n",
       "<table border=\"1\" class=\"dataframe\">\n",
       "  <thead>\n",
       "    <tr style=\"text-align: right;\">\n",
       "      <th></th>\n",
       "      <th>CARMARK</th>\n",
       "      <th>PRICE</th>\n",
       "      <th>MILEAGE</th>\n",
       "      <th>REPAIR_1978</th>\n",
       "      <th>REPAIR_1977</th>\n",
       "      <th>HEADROOM</th>\n",
       "      <th>SEAT_CLARANCE</th>\n",
       "      <th>TRUNK</th>\n",
       "      <th>WEIGHT</th>\n",
       "      <th>LENGTH</th>\n",
       "      <th>DIAMETER</th>\n",
       "      <th>DISPLACEMENT</th>\n",
       "      <th>GEAR_RATIO</th>\n",
       "      <th>Company</th>\n",
       "    </tr>\n",
       "  </thead>\n",
       "  <tbody>\n",
       "    <tr>\n",
       "      <th>0</th>\n",
       "      <td>AMC_Concord</td>\n",
       "      <td>4099</td>\n",
       "      <td>22</td>\n",
       "      <td>3</td>\n",
       "      <td>2</td>\n",
       "      <td>2.5</td>\n",
       "      <td>27.5</td>\n",
       "      <td>11</td>\n",
       "      <td>2930</td>\n",
       "      <td>186</td>\n",
       "      <td>40</td>\n",
       "      <td>121</td>\n",
       "      <td>3.58</td>\n",
       "      <td>1</td>\n",
       "    </tr>\n",
       "    <tr>\n",
       "      <th>1</th>\n",
       "      <td>AMC_Pacer</td>\n",
       "      <td>4749</td>\n",
       "      <td>17</td>\n",
       "      <td>3</td>\n",
       "      <td>1</td>\n",
       "      <td>3.0</td>\n",
       "      <td>25.5</td>\n",
       "      <td>11</td>\n",
       "      <td>3350</td>\n",
       "      <td>173</td>\n",
       "      <td>40</td>\n",
       "      <td>258</td>\n",
       "      <td>2.53</td>\n",
       "      <td>1</td>\n",
       "    </tr>\n",
       "    <tr>\n",
       "      <th>2</th>\n",
       "      <td>Audi_5000</td>\n",
       "      <td>9690</td>\n",
       "      <td>17</td>\n",
       "      <td>5</td>\n",
       "      <td>2</td>\n",
       "      <td>3.0</td>\n",
       "      <td>27.0</td>\n",
       "      <td>15</td>\n",
       "      <td>2830</td>\n",
       "      <td>189</td>\n",
       "      <td>37</td>\n",
       "      <td>131</td>\n",
       "      <td>3.20</td>\n",
       "      <td>3</td>\n",
       "    </tr>\n",
       "    <tr>\n",
       "      <th>3</th>\n",
       "      <td>Audi_Fox</td>\n",
       "      <td>6295</td>\n",
       "      <td>23</td>\n",
       "      <td>3</td>\n",
       "      <td>3</td>\n",
       "      <td>2.5</td>\n",
       "      <td>28.0</td>\n",
       "      <td>11</td>\n",
       "      <td>2070</td>\n",
       "      <td>174</td>\n",
       "      <td>36</td>\n",
       "      <td>97</td>\n",
       "      <td>3.70</td>\n",
       "      <td>3</td>\n",
       "    </tr>\n",
       "    <tr>\n",
       "      <th>4</th>\n",
       "      <td>BMW_320i</td>\n",
       "      <td>9735</td>\n",
       "      <td>25</td>\n",
       "      <td>4</td>\n",
       "      <td>4</td>\n",
       "      <td>2.5</td>\n",
       "      <td>26.0</td>\n",
       "      <td>12</td>\n",
       "      <td>2650</td>\n",
       "      <td>177</td>\n",
       "      <td>34</td>\n",
       "      <td>121</td>\n",
       "      <td>3.64</td>\n",
       "      <td>3</td>\n",
       "    </tr>\n",
       "  </tbody>\n",
       "</table>\n",
       "</div>"
      ],
      "text/plain": [
       "       CARMARK  PRICE  MILEAGE  REPAIR_1978  REPAIR_1977  HEADROOM  \\\n",
       "0  AMC_Concord   4099       22            3            2       2.5   \n",
       "1    AMC_Pacer   4749       17            3            1       3.0   \n",
       "2    Audi_5000   9690       17            5            2       3.0   \n",
       "3     Audi_Fox   6295       23            3            3       2.5   \n",
       "4     BMW_320i   9735       25            4            4       2.5   \n",
       "\n",
       "   SEAT_CLARANCE  TRUNK  WEIGHT  LENGTH  DIAMETER  DISPLACEMENT  GEAR_RATIO  \\\n",
       "0           27.5     11    2930     186        40           121        3.58   \n",
       "1           25.5     11    3350     173        40           258        2.53   \n",
       "2           27.0     15    2830     189        37           131        3.20   \n",
       "3           28.0     11    2070     174        36            97        3.70   \n",
       "4           26.0     12    2650     177        34           121        3.64   \n",
       "\n",
       "   Company  \n",
       "0        1  \n",
       "1        1  \n",
       "2        3  \n",
       "3        3  \n",
       "4        3  "
      ]
     },
     "execution_count": 2,
     "metadata": {},
     "output_type": "execute_result"
    }
   ],
   "source": [
    "car = pd.read_csv('CarData.csv')\n",
    "car.head()"
   ]
  },
  {
   "cell_type": "code",
   "execution_count": 3,
   "metadata": {},
   "outputs": [
    {
     "data": {
      "text/plain": [
       "66"
      ]
     },
     "execution_count": 3,
     "metadata": {},
     "output_type": "execute_result"
    }
   ],
   "source": [
    "car.CARMARK.nunique()"
   ]
  },
  {
   "cell_type": "code",
   "execution_count": 4,
   "metadata": {},
   "outputs": [
    {
     "data": {
      "text/plain": [
       "1    46\n",
       "2    11\n",
       "3     9\n",
       "Name: Company, dtype: int64"
      ]
     },
     "execution_count": 4,
     "metadata": {},
     "output_type": "execute_result"
    }
   ],
   "source": [
    "car.Company.value_counts()"
   ]
  },
  {
   "cell_type": "code",
   "execution_count": 5,
   "metadata": {},
   "outputs": [],
   "source": [
    "car.drop(['CARMARK'], axis = 1, inplace = True)"
   ]
  },
  {
   "cell_type": "markdown",
   "metadata": {},
   "source": [
    "LDA를 진행하기 위하여 CARMARK 변수 제거"
   ]
  },
  {
   "cell_type": "markdown",
   "metadata": {},
   "source": [
    "Company가 1이면 USA, 2이면 Japan, 3이면 Europe"
   ]
  },
  {
   "cell_type": "code",
   "execution_count": 6,
   "metadata": {},
   "outputs": [
    {
     "data": {
      "text/html": [
       "<div>\n",
       "<style scoped>\n",
       "    .dataframe tbody tr th:only-of-type {\n",
       "        vertical-align: middle;\n",
       "    }\n",
       "\n",
       "    .dataframe tbody tr th {\n",
       "        vertical-align: top;\n",
       "    }\n",
       "\n",
       "    .dataframe thead th {\n",
       "        text-align: right;\n",
       "    }\n",
       "</style>\n",
       "<table border=\"1\" class=\"dataframe\">\n",
       "  <thead>\n",
       "    <tr style=\"text-align: right;\">\n",
       "      <th></th>\n",
       "      <th>PRICE</th>\n",
       "      <th>MILEAGE</th>\n",
       "      <th>REPAIR_1978</th>\n",
       "      <th>REPAIR_1977</th>\n",
       "      <th>HEADROOM</th>\n",
       "      <th>SEAT_CLARANCE</th>\n",
       "      <th>TRUNK</th>\n",
       "      <th>WEIGHT</th>\n",
       "      <th>LENGTH</th>\n",
       "      <th>DIAMETER</th>\n",
       "      <th>DISPLACEMENT</th>\n",
       "      <th>GEAR_RATIO</th>\n",
       "      <th>Company</th>\n",
       "    </tr>\n",
       "  </thead>\n",
       "  <tbody>\n",
       "    <tr>\n",
       "      <th>0</th>\n",
       "      <td>4099</td>\n",
       "      <td>22</td>\n",
       "      <td>3</td>\n",
       "      <td>2</td>\n",
       "      <td>2.5</td>\n",
       "      <td>27.5</td>\n",
       "      <td>11</td>\n",
       "      <td>2930</td>\n",
       "      <td>186</td>\n",
       "      <td>40</td>\n",
       "      <td>121</td>\n",
       "      <td>3.58</td>\n",
       "      <td>USA</td>\n",
       "    </tr>\n",
       "    <tr>\n",
       "      <th>1</th>\n",
       "      <td>4749</td>\n",
       "      <td>17</td>\n",
       "      <td>3</td>\n",
       "      <td>1</td>\n",
       "      <td>3.0</td>\n",
       "      <td>25.5</td>\n",
       "      <td>11</td>\n",
       "      <td>3350</td>\n",
       "      <td>173</td>\n",
       "      <td>40</td>\n",
       "      <td>258</td>\n",
       "      <td>2.53</td>\n",
       "      <td>USA</td>\n",
       "    </tr>\n",
       "    <tr>\n",
       "      <th>2</th>\n",
       "      <td>9690</td>\n",
       "      <td>17</td>\n",
       "      <td>5</td>\n",
       "      <td>2</td>\n",
       "      <td>3.0</td>\n",
       "      <td>27.0</td>\n",
       "      <td>15</td>\n",
       "      <td>2830</td>\n",
       "      <td>189</td>\n",
       "      <td>37</td>\n",
       "      <td>131</td>\n",
       "      <td>3.20</td>\n",
       "      <td>Europe</td>\n",
       "    </tr>\n",
       "    <tr>\n",
       "      <th>3</th>\n",
       "      <td>6295</td>\n",
       "      <td>23</td>\n",
       "      <td>3</td>\n",
       "      <td>3</td>\n",
       "      <td>2.5</td>\n",
       "      <td>28.0</td>\n",
       "      <td>11</td>\n",
       "      <td>2070</td>\n",
       "      <td>174</td>\n",
       "      <td>36</td>\n",
       "      <td>97</td>\n",
       "      <td>3.70</td>\n",
       "      <td>Europe</td>\n",
       "    </tr>\n",
       "    <tr>\n",
       "      <th>4</th>\n",
       "      <td>9735</td>\n",
       "      <td>25</td>\n",
       "      <td>4</td>\n",
       "      <td>4</td>\n",
       "      <td>2.5</td>\n",
       "      <td>26.0</td>\n",
       "      <td>12</td>\n",
       "      <td>2650</td>\n",
       "      <td>177</td>\n",
       "      <td>34</td>\n",
       "      <td>121</td>\n",
       "      <td>3.64</td>\n",
       "      <td>Europe</td>\n",
       "    </tr>\n",
       "  </tbody>\n",
       "</table>\n",
       "</div>"
      ],
      "text/plain": [
       "   PRICE  MILEAGE  REPAIR_1978  REPAIR_1977  HEADROOM  SEAT_CLARANCE  TRUNK  \\\n",
       "0   4099       22            3            2       2.5           27.5     11   \n",
       "1   4749       17            3            1       3.0           25.5     11   \n",
       "2   9690       17            5            2       3.0           27.0     15   \n",
       "3   6295       23            3            3       2.5           28.0     11   \n",
       "4   9735       25            4            4       2.5           26.0     12   \n",
       "\n",
       "   WEIGHT  LENGTH  DIAMETER  DISPLACEMENT  GEAR_RATIO Company  \n",
       "0    2930     186        40           121        3.58     USA  \n",
       "1    3350     173        40           258        2.53     USA  \n",
       "2    2830     189        37           131        3.20  Europe  \n",
       "3    2070     174        36            97        3.70  Europe  \n",
       "4    2650     177        34           121        3.64  Europe  "
      ]
     },
     "execution_count": 6,
     "metadata": {},
     "output_type": "execute_result"
    }
   ],
   "source": [
    "y = car['Company']\n",
    "y = y.replace({1:'USA',2:'Japan',3:'Europe'})\n",
    "y.head()\n",
    "car['Company'] = y\n",
    "car.head()"
   ]
  },
  {
   "cell_type": "code",
   "execution_count": 7,
   "metadata": {},
   "outputs": [
    {
     "data": {
      "text/plain": [
       "(66, 13)"
      ]
     },
     "execution_count": 7,
     "metadata": {},
     "output_type": "execute_result"
    }
   ],
   "source": [
    "car.shape"
   ]
  },
  {
   "cell_type": "markdown",
   "metadata": {},
   "source": [
    "예측변수는 12개 관측치는 66개"
   ]
  },
  {
   "cell_type": "code",
   "execution_count": 8,
   "metadata": {},
   "outputs": [],
   "source": [
    "from sklearn.preprocessing import StandardScaler"
   ]
  },
  {
   "cell_type": "code",
   "execution_count": 9,
   "metadata": {},
   "outputs": [],
   "source": [
    "scaler = StandardScaler()"
   ]
  },
  {
   "cell_type": "code",
   "execution_count": 10,
   "metadata": {},
   "outputs": [
    {
     "data": {
      "text/plain": [
       "StandardScaler(copy=True, with_mean=True, with_std=True)"
      ]
     },
     "execution_count": 10,
     "metadata": {},
     "output_type": "execute_result"
    }
   ],
   "source": [
    "scaler.fit(car.iloc[:,:-1])"
   ]
  },
  {
   "cell_type": "code",
   "execution_count": 11,
   "metadata": {},
   "outputs": [],
   "source": [
    "car_scaled = scaler.transform(car.iloc[:, :-1])"
   ]
  },
  {
   "cell_type": "markdown",
   "metadata": {},
   "source": [
    "표준화 진행"
   ]
  },
  {
   "cell_type": "markdown",
   "metadata": {},
   "source": [
    "1. 트레인셋, 테스트셋으로 나눠서 제일 정확한 모델로 예측  \n",
    "2. plotting  \n",
    "3. 분산 plotting\n",
    "4. 어떤 변수가 가장 영향을 주었는지 - > boxplot vs 기존지식"
   ]
  },
  {
   "cell_type": "code",
   "execution_count": 12,
   "metadata": {},
   "outputs": [],
   "source": [
    "from sklearn.discriminant_analysis import LinearDiscriminantAnalysis as LDA\n",
    "from sklearn.model_selection import train_test_split"
   ]
  },
  {
   "cell_type": "code",
   "execution_count": 13,
   "metadata": {},
   "outputs": [
    {
     "data": {
      "text/plain": [
       "(66, 12)"
      ]
     },
     "execution_count": 13,
     "metadata": {},
     "output_type": "execute_result"
    }
   ],
   "source": [
    "X = car_scaled\n",
    "X.shape"
   ]
  },
  {
   "cell_type": "code",
   "execution_count": 14,
   "metadata": {},
   "outputs": [
    {
     "data": {
      "text/plain": [
       "(66,)"
      ]
     },
     "execution_count": 14,
     "metadata": {},
     "output_type": "execute_result"
    }
   ],
   "source": [
    "y = car.Company\n",
    "y.shape"
   ]
  },
  {
   "cell_type": "code",
   "execution_count": 15,
   "metadata": {},
   "outputs": [],
   "source": [
    "lda = LDA()"
   ]
  },
  {
   "cell_type": "code",
   "execution_count": 16,
   "metadata": {},
   "outputs": [],
   "source": [
    "from sklearn.metrics import confusion_matrix\n",
    "from sklearn.metrics import accuracy_score"
   ]
  },
  {
   "cell_type": "code",
   "execution_count": 17,
   "metadata": {},
   "outputs": [
    {
     "name": "stdout",
     "output_type": "stream",
     "text": [
      "Accuracy is 0.85 random_state is 0\n",
      "Accuracy is 0.9 random_state is 1\n",
      "Accuracy is 0.9 random_state is 2\n",
      "Accuracy is 0.85 random_state is 3\n",
      "Accuracy is 0.85 random_state is 4\n",
      "Accuracy is 0.95 random_state is 5\n",
      "Accuracy is 0.85 random_state is 6\n",
      "Accuracy is 1.0 random_state is 7\n",
      "Accuracy is 0.85 random_state is 8\n",
      "Accuracy is 0.9 random_state is 9\n",
      "Accuracy is 0.85 random_state is 10\n",
      "Accuracy is 0.85 random_state is 11\n",
      "Accuracy is 0.9 random_state is 12\n",
      "Accuracy is 0.65 random_state is 13\n",
      "Accuracy is 0.8 random_state is 14\n",
      "Accuracy is 0.8 random_state is 15\n",
      "Accuracy is 0.9 random_state is 16\n",
      "Accuracy is 0.85 random_state is 17\n",
      "Accuracy is 0.85 random_state is 18\n",
      "Accuracy is 0.75 random_state is 19\n",
      "Accuracy is 0.85 random_state is 20\n",
      "Accuracy is 0.9 random_state is 21\n",
      "Accuracy is 0.85 random_state is 22\n",
      "Accuracy is 0.8 random_state is 23\n",
      "Accuracy is 0.85 random_state is 24\n",
      "Accuracy is 0.95 random_state is 25\n",
      "Accuracy is 0.75 random_state is 26\n",
      "Accuracy is 0.8 random_state is 27\n",
      "Accuracy is 0.95 random_state is 28\n",
      "Accuracy is 0.85 random_state is 29\n"
     ]
    }
   ],
   "source": [
    "# 30 fold Cross Validation\n",
    "\n",
    "for i in range(30):\n",
    "    X_train, X_test, y_train, y_test = train_test_split(X, y, test_size = 0.3, random_state = i)\n",
    "    lda.fit(X_train, y_train)\n",
    "    y_pred = lda.predict(X_test)\n",
    "    print('Accuracy is ' + str(accuracy_score(y_test, y_pred)) + ' random_state is {}'.format(i))"
   ]
  },
  {
   "cell_type": "markdown",
   "metadata": {},
   "source": [
    "random_state가 7일때 정확도가 제일 높다"
   ]
  },
  {
   "cell_type": "code",
   "execution_count": 18,
   "metadata": {},
   "outputs": [],
   "source": [
    "X_train, X_test, y_train, y_test = train_test_split(X, y, test_size = 0.3, random_state = 7)\n",
    "lda.fit(X_train, y_train)\n",
    "y_pred = lda.predict(X)"
   ]
  },
  {
   "cell_type": "code",
   "execution_count": 19,
   "metadata": {},
   "outputs": [
    {
     "data": {
      "text/html": [
       "<div>\n",
       "<style scoped>\n",
       "    .dataframe tbody tr th:only-of-type {\n",
       "        vertical-align: middle;\n",
       "    }\n",
       "\n",
       "    .dataframe tbody tr th {\n",
       "        vertical-align: top;\n",
       "    }\n",
       "\n",
       "    .dataframe thead th {\n",
       "        text-align: right;\n",
       "    }\n",
       "</style>\n",
       "<table border=\"1\" class=\"dataframe\">\n",
       "  <thead>\n",
       "    <tr style=\"text-align: right;\">\n",
       "      <th></th>\n",
       "      <th>예측 Europe</th>\n",
       "      <th>예측 Japan</th>\n",
       "      <th>예측 USA</th>\n",
       "    </tr>\n",
       "  </thead>\n",
       "  <tbody>\n",
       "    <tr>\n",
       "      <th>실제 Europe</th>\n",
       "      <td>9</td>\n",
       "      <td>0</td>\n",
       "      <td>0</td>\n",
       "    </tr>\n",
       "    <tr>\n",
       "      <th>실제 Japan</th>\n",
       "      <td>1</td>\n",
       "      <td>10</td>\n",
       "      <td>0</td>\n",
       "    </tr>\n",
       "    <tr>\n",
       "      <th>실제 USA</th>\n",
       "      <td>0</td>\n",
       "      <td>2</td>\n",
       "      <td>44</td>\n",
       "    </tr>\n",
       "  </tbody>\n",
       "</table>\n",
       "</div>"
      ],
      "text/plain": [
       "           예측 Europe  예측 Japan  예측 USA\n",
       "실제 Europe          9         0       0\n",
       "실제 Japan           1        10       0\n",
       "실제 USA             0         2      44"
      ]
     },
     "execution_count": 19,
     "metadata": {},
     "output_type": "execute_result"
    }
   ],
   "source": [
    "cm = confusion_matrix(y, y_pred)\n",
    "pd.DataFrame(cm, index = ['실제 Europe', '실제 Japan', '실제 USA'], columns = ['예측 Europe', '예측 Japan', '예측 USA'])"
   ]
  },
  {
   "cell_type": "code",
   "execution_count": 20,
   "metadata": {},
   "outputs": [
    {
     "data": {
      "text/plain": [
       "array([0.15217391, 0.15217391, 0.69565217])"
      ]
     },
     "execution_count": 20,
     "metadata": {},
     "output_type": "execute_result"
    }
   ],
   "source": [
    "lda.priors_"
   ]
  },
  {
   "cell_type": "code",
   "execution_count": 21,
   "metadata": {},
   "outputs": [
    {
     "data": {
      "text/html": [
       "<div>\n",
       "<style scoped>\n",
       "    .dataframe tbody tr th:only-of-type {\n",
       "        vertical-align: middle;\n",
       "    }\n",
       "\n",
       "    .dataframe tbody tr th {\n",
       "        vertical-align: top;\n",
       "    }\n",
       "\n",
       "    .dataframe thead th {\n",
       "        text-align: right;\n",
       "    }\n",
       "</style>\n",
       "<table border=\"1\" class=\"dataframe\">\n",
       "  <thead>\n",
       "    <tr style=\"text-align: right;\">\n",
       "      <th></th>\n",
       "      <th>LD1</th>\n",
       "      <th>LD2</th>\n",
       "      <th>pred y</th>\n",
       "      <th>true y</th>\n",
       "    </tr>\n",
       "  </thead>\n",
       "  <tbody>\n",
       "    <tr>\n",
       "      <th>0</th>\n",
       "      <td>-0.872570</td>\n",
       "      <td>1.387029</td>\n",
       "      <td>USA</td>\n",
       "      <td>USA</td>\n",
       "    </tr>\n",
       "    <tr>\n",
       "      <th>1</th>\n",
       "      <td>1.889963</td>\n",
       "      <td>1.310063</td>\n",
       "      <td>USA</td>\n",
       "      <td>USA</td>\n",
       "    </tr>\n",
       "    <tr>\n",
       "      <th>2</th>\n",
       "      <td>-4.658897</td>\n",
       "      <td>2.177453</td>\n",
       "      <td>Europe</td>\n",
       "      <td>Europe</td>\n",
       "    </tr>\n",
       "    <tr>\n",
       "      <th>3</th>\n",
       "      <td>-3.284698</td>\n",
       "      <td>0.253594</td>\n",
       "      <td>Europe</td>\n",
       "      <td>Europe</td>\n",
       "    </tr>\n",
       "    <tr>\n",
       "      <th>4</th>\n",
       "      <td>-3.507121</td>\n",
       "      <td>-0.296751</td>\n",
       "      <td>Europe</td>\n",
       "      <td>Europe</td>\n",
       "    </tr>\n",
       "  </tbody>\n",
       "</table>\n",
       "</div>"
      ],
      "text/plain": [
       "        LD1       LD2  pred y  true y\n",
       "0 -0.872570  1.387029     USA     USA\n",
       "1  1.889963  1.310063     USA     USA\n",
       "2 -4.658897  2.177453  Europe  Europe\n",
       "3 -3.284698  0.253594  Europe  Europe\n",
       "4 -3.507121 -0.296751  Europe  Europe"
      ]
     },
     "execution_count": 21,
     "metadata": {},
     "output_type": "execute_result"
    }
   ],
   "source": [
    "X2 = lda.fit(X, y).transform(X)\n",
    "X2 = pd.DataFrame(X2)\n",
    "X2['pred y'] = y_pred\n",
    "X2['true y'] = y\n",
    "X2.rename({0: 'LD1', 1: 'LD2'}, axis = 'columns', inplace = True)\n",
    "X2.head()"
   ]
  },
  {
   "cell_type": "markdown",
   "metadata": {},
   "source": [
    "Project data to maximize class separation."
   ]
  },
  {
   "cell_type": "code",
   "execution_count": 22,
   "metadata": {},
   "outputs": [
    {
     "data": {
      "text/html": [
       "<div>\n",
       "<style scoped>\n",
       "    .dataframe tbody tr th:only-of-type {\n",
       "        vertical-align: middle;\n",
       "    }\n",
       "\n",
       "    .dataframe tbody tr th {\n",
       "        vertical-align: top;\n",
       "    }\n",
       "\n",
       "    .dataframe thead th {\n",
       "        text-align: right;\n",
       "    }\n",
       "</style>\n",
       "<table border=\"1\" class=\"dataframe\">\n",
       "  <thead>\n",
       "    <tr style=\"text-align: right;\">\n",
       "      <th></th>\n",
       "      <th>PRICE</th>\n",
       "      <th>MILEAGE</th>\n",
       "      <th>REPAIR_1978</th>\n",
       "      <th>REPAIR_1977</th>\n",
       "      <th>HEADROOM</th>\n",
       "      <th>SEAT_CLARANCE</th>\n",
       "      <th>TRUNK</th>\n",
       "      <th>WEIGHT</th>\n",
       "      <th>LENGTH</th>\n",
       "      <th>DIAMETER</th>\n",
       "      <th>DISPLACEMENT</th>\n",
       "      <th>GEAR_RATIO</th>\n",
       "    </tr>\n",
       "  </thead>\n",
       "  <tbody>\n",
       "    <tr>\n",
       "      <th>0</th>\n",
       "      <td>4.11</td>\n",
       "      <td>-1.22</td>\n",
       "      <td>3.03</td>\n",
       "      <td>-3.56</td>\n",
       "      <td>-1.41</td>\n",
       "      <td>1.40</td>\n",
       "      <td>3.39</td>\n",
       "      <td>-5.17</td>\n",
       "      <td>1.20</td>\n",
       "      <td>-1.64</td>\n",
       "      <td>-0.76</td>\n",
       "      <td>4.26</td>\n",
       "    </tr>\n",
       "    <tr>\n",
       "      <th>1</th>\n",
       "      <td>1.07</td>\n",
       "      <td>-1.50</td>\n",
       "      <td>1.07</td>\n",
       "      <td>1.58</td>\n",
       "      <td>0.58</td>\n",
       "      <td>-0.81</td>\n",
       "      <td>-1.82</td>\n",
       "      <td>-4.22</td>\n",
       "      <td>2.51</td>\n",
       "      <td>-1.37</td>\n",
       "      <td>1.22</td>\n",
       "      <td>1.54</td>\n",
       "    </tr>\n",
       "    <tr>\n",
       "      <th>2</th>\n",
       "      <td>-1.06</td>\n",
       "      <td>0.60</td>\n",
       "      <td>-0.85</td>\n",
       "      <td>0.32</td>\n",
       "      <td>0.14</td>\n",
       "      <td>-0.08</td>\n",
       "      <td>-0.23</td>\n",
       "      <td>2.02</td>\n",
       "      <td>-0.83</td>\n",
       "      <td>0.65</td>\n",
       "      <td>-0.14</td>\n",
       "      <td>-1.20</td>\n",
       "    </tr>\n",
       "  </tbody>\n",
       "</table>\n",
       "</div>"
      ],
      "text/plain": [
       "   PRICE  MILEAGE  REPAIR_1978  REPAIR_1977  HEADROOM  SEAT_CLARANCE  TRUNK  \\\n",
       "0   4.11    -1.22         3.03        -3.56     -1.41           1.40   3.39   \n",
       "1   1.07    -1.50         1.07         1.58      0.58          -0.81  -1.82   \n",
       "2  -1.06     0.60        -0.85         0.32      0.14          -0.08  -0.23   \n",
       "\n",
       "   WEIGHT  LENGTH  DIAMETER  DISPLACEMENT  GEAR_RATIO  \n",
       "0   -5.17    1.20     -1.64         -0.76        4.26  \n",
       "1   -4.22    2.51     -1.37          1.22        1.54  \n",
       "2    2.02   -0.83      0.65         -0.14       -1.20  "
      ]
     },
     "execution_count": 22,
     "metadata": {},
     "output_type": "execute_result"
    }
   ],
   "source": [
    "pd.DataFrame(np.round(lda.coef_,2), columns = car.columns[:-1])"
   ]
  },
  {
   "cell_type": "code",
   "execution_count": 23,
   "metadata": {},
   "outputs": [
    {
     "data": {
      "text/plain": [
       "array([0.13636364, 0.16666667, 0.6969697 ])"
      ]
     },
     "execution_count": 23,
     "metadata": {},
     "output_type": "execute_result"
    }
   ],
   "source": [
    "lda.priors_"
   ]
  },
  {
   "cell_type": "code",
   "execution_count": 24,
   "metadata": {},
   "outputs": [
    {
     "data": {
      "text/html": [
       "<div>\n",
       "<style scoped>\n",
       "    .dataframe tbody tr th:only-of-type {\n",
       "        vertical-align: middle;\n",
       "    }\n",
       "\n",
       "    .dataframe tbody tr th {\n",
       "        vertical-align: top;\n",
       "    }\n",
       "\n",
       "    .dataframe thead th {\n",
       "        text-align: right;\n",
       "    }\n",
       "</style>\n",
       "<table border=\"1\" class=\"dataframe\">\n",
       "  <thead>\n",
       "    <tr style=\"text-align: right;\">\n",
       "      <th></th>\n",
       "      <th>PRICE</th>\n",
       "      <th>MILEAGE</th>\n",
       "      <th>REPAIR_1978</th>\n",
       "      <th>REPAIR_1977</th>\n",
       "      <th>HEADROOM</th>\n",
       "      <th>SEAT_CLARANCE</th>\n",
       "      <th>TRUNK</th>\n",
       "      <th>WEIGHT</th>\n",
       "      <th>LENGTH</th>\n",
       "      <th>DIAMETER</th>\n",
       "      <th>DISPLACEMENT</th>\n",
       "      <th>GEAR_RATIO</th>\n",
       "    </tr>\n",
       "  </thead>\n",
       "  <tbody>\n",
       "    <tr>\n",
       "      <th>0</th>\n",
       "      <td>0.37</td>\n",
       "      <td>0.50</td>\n",
       "      <td>0.70</td>\n",
       "      <td>-0.32</td>\n",
       "      <td>-0.47</td>\n",
       "      <td>0.21</td>\n",
       "      <td>0.02</td>\n",
       "      <td>-0.91</td>\n",
       "      <td>-0.85</td>\n",
       "      <td>-1.01</td>\n",
       "      <td>-0.97</td>\n",
       "      <td>1.20</td>\n",
       "    </tr>\n",
       "    <tr>\n",
       "      <th>1</th>\n",
       "      <td>-0.35</td>\n",
       "      <td>0.85</td>\n",
       "      <td>1.14</td>\n",
       "      <td>1.22</td>\n",
       "      <td>-0.60</td>\n",
       "      <td>-1.04</td>\n",
       "      <td>-1.09</td>\n",
       "      <td>-1.01</td>\n",
       "      <td>-0.97</td>\n",
       "      <td>-1.19</td>\n",
       "      <td>-0.97</td>\n",
       "      <td>0.96</td>\n",
       "    </tr>\n",
       "    <tr>\n",
       "      <th>2</th>\n",
       "      <td>0.01</td>\n",
       "      <td>-0.30</td>\n",
       "      <td>-0.41</td>\n",
       "      <td>-0.23</td>\n",
       "      <td>0.24</td>\n",
       "      <td>0.21</td>\n",
       "      <td>0.26</td>\n",
       "      <td>0.42</td>\n",
       "      <td>0.40</td>\n",
       "      <td>0.48</td>\n",
       "      <td>0.42</td>\n",
       "      <td>-0.46</td>\n",
       "    </tr>\n",
       "  </tbody>\n",
       "</table>\n",
       "</div>"
      ],
      "text/plain": [
       "   PRICE  MILEAGE  REPAIR_1978  REPAIR_1977  HEADROOM  SEAT_CLARANCE  TRUNK  \\\n",
       "0   0.37     0.50         0.70        -0.32     -0.47           0.21   0.02   \n",
       "1  -0.35     0.85         1.14         1.22     -0.60          -1.04  -1.09   \n",
       "2   0.01    -0.30        -0.41        -0.23      0.24           0.21   0.26   \n",
       "\n",
       "   WEIGHT  LENGTH  DIAMETER  DISPLACEMENT  GEAR_RATIO  \n",
       "0   -0.91   -0.85     -1.01         -0.97        1.20  \n",
       "1   -1.01   -0.97     -1.19         -0.97        0.96  \n",
       "2    0.42    0.40      0.48          0.42       -0.46  "
      ]
     },
     "execution_count": 24,
     "metadata": {},
     "output_type": "execute_result"
    }
   ],
   "source": [
    "pd.DataFrame(np.round(lda.means_,2), columns = car.columns[:-1])"
   ]
  },
  {
   "cell_type": "code",
   "execution_count": 25,
   "metadata": {},
   "outputs": [
    {
     "data": {
      "image/png": "[encoded data removed]",
      "text/plain": [
       "<Figure size 576x432 with 1 Axes>"
      ]
     },
     "metadata": {
      "needs_background": "light"
     },
     "output_type": "display_data"
    }
   ],
   "source": [
    "plt.figure(figsize = (8,6))\n",
    "plt.style.use('ggplot')\n",
    "lambdas = lda.explained_variance_ratio_\n",
    "plt.plot(range(1,3), lambdas, marker = 'o')\n",
    "plt.ylabel('Explained Variance')\n",
    "plt.ylim((0, 1))\n",
    "plt.xticks(ticks = [1,2], labels = ['LD1','LD2'])\n",
    "plt.yticks(ticks = lambdas)\n",
    "plt.show()"
   ]
  },
  {
   "cell_type": "code",
   "execution_count": 26,
   "metadata": {},
   "outputs": [
    {
     "data": {
      "text/html": [
       "<div>\n",
       "<style scoped>\n",
       "    .dataframe tbody tr th:only-of-type {\n",
       "        vertical-align: middle;\n",
       "    }\n",
       "\n",
       "    .dataframe tbody tr th {\n",
       "        vertical-align: top;\n",
       "    }\n",
       "\n",
       "    .dataframe thead th {\n",
       "        text-align: right;\n",
       "    }\n",
       "</style>\n",
       "<table border=\"1\" class=\"dataframe\">\n",
       "  <thead>\n",
       "    <tr style=\"text-align: right;\">\n",
       "      <th></th>\n",
       "      <th>Europe</th>\n",
       "      <th>Japan</th>\n",
       "      <th>USA</th>\n",
       "    </tr>\n",
       "  </thead>\n",
       "  <tbody>\n",
       "    <tr>\n",
       "      <th>0</th>\n",
       "      <td>0.00</td>\n",
       "      <td>0.00</td>\n",
       "      <td>1.00</td>\n",
       "    </tr>\n",
       "    <tr>\n",
       "      <th>1</th>\n",
       "      <td>0.00</td>\n",
       "      <td>0.00</td>\n",
       "      <td>1.00</td>\n",
       "    </tr>\n",
       "    <tr>\n",
       "      <th>2</th>\n",
       "      <td>0.00</td>\n",
       "      <td>1.00</td>\n",
       "      <td>0.00</td>\n",
       "    </tr>\n",
       "    <tr>\n",
       "      <th>3</th>\n",
       "      <td>0.00</td>\n",
       "      <td>0.00</td>\n",
       "      <td>1.00</td>\n",
       "    </tr>\n",
       "    <tr>\n",
       "      <th>4</th>\n",
       "      <td>0.00</td>\n",
       "      <td>0.00</td>\n",
       "      <td>1.00</td>\n",
       "    </tr>\n",
       "    <tr>\n",
       "      <th>5</th>\n",
       "      <td>0.00</td>\n",
       "      <td>0.00</td>\n",
       "      <td>1.00</td>\n",
       "    </tr>\n",
       "    <tr>\n",
       "      <th>6</th>\n",
       "      <td>0.00</td>\n",
       "      <td>0.00</td>\n",
       "      <td>1.00</td>\n",
       "    </tr>\n",
       "    <tr>\n",
       "      <th>7</th>\n",
       "      <td>0.00</td>\n",
       "      <td>0.00</td>\n",
       "      <td>1.00</td>\n",
       "    </tr>\n",
       "    <tr>\n",
       "      <th>8</th>\n",
       "      <td>0.00</td>\n",
       "      <td>0.50</td>\n",
       "      <td>0.50</td>\n",
       "    </tr>\n",
       "    <tr>\n",
       "      <th>9</th>\n",
       "      <td>0.00</td>\n",
       "      <td>1.00</td>\n",
       "      <td>0.00</td>\n",
       "    </tr>\n",
       "    <tr>\n",
       "      <th>10</th>\n",
       "      <td>0.99</td>\n",
       "      <td>0.01</td>\n",
       "      <td>0.01</td>\n",
       "    </tr>\n",
       "    <tr>\n",
       "      <th>11</th>\n",
       "      <td>0.00</td>\n",
       "      <td>0.00</td>\n",
       "      <td>1.00</td>\n",
       "    </tr>\n",
       "    <tr>\n",
       "      <th>12</th>\n",
       "      <td>0.01</td>\n",
       "      <td>0.97</td>\n",
       "      <td>0.02</td>\n",
       "    </tr>\n",
       "    <tr>\n",
       "      <th>13</th>\n",
       "      <td>0.00</td>\n",
       "      <td>0.00</td>\n",
       "      <td>1.00</td>\n",
       "    </tr>\n",
       "    <tr>\n",
       "      <th>14</th>\n",
       "      <td>0.05</td>\n",
       "      <td>0.74</td>\n",
       "      <td>0.21</td>\n",
       "    </tr>\n",
       "    <tr>\n",
       "      <th>15</th>\n",
       "      <td>0.00</td>\n",
       "      <td>0.00</td>\n",
       "      <td>1.00</td>\n",
       "    </tr>\n",
       "    <tr>\n",
       "      <th>16</th>\n",
       "      <td>0.00</td>\n",
       "      <td>0.01</td>\n",
       "      <td>0.99</td>\n",
       "    </tr>\n",
       "    <tr>\n",
       "      <th>17</th>\n",
       "      <td>0.00</td>\n",
       "      <td>0.00</td>\n",
       "      <td>1.00</td>\n",
       "    </tr>\n",
       "    <tr>\n",
       "      <th>18</th>\n",
       "      <td>0.00</td>\n",
       "      <td>0.99</td>\n",
       "      <td>0.01</td>\n",
       "    </tr>\n",
       "    <tr>\n",
       "      <th>19</th>\n",
       "      <td>0.00</td>\n",
       "      <td>0.00</td>\n",
       "      <td>1.00</td>\n",
       "    </tr>\n",
       "    <tr>\n",
       "      <th>20</th>\n",
       "      <td>1.00</td>\n",
       "      <td>0.00</td>\n",
       "      <td>0.00</td>\n",
       "    </tr>\n",
       "    <tr>\n",
       "      <th>21</th>\n",
       "      <td>0.00</td>\n",
       "      <td>0.00</td>\n",
       "      <td>1.00</td>\n",
       "    </tr>\n",
       "    <tr>\n",
       "      <th>22</th>\n",
       "      <td>0.00</td>\n",
       "      <td>0.00</td>\n",
       "      <td>1.00</td>\n",
       "    </tr>\n",
       "    <tr>\n",
       "      <th>23</th>\n",
       "      <td>0.05</td>\n",
       "      <td>0.00</td>\n",
       "      <td>0.95</td>\n",
       "    </tr>\n",
       "    <tr>\n",
       "      <th>24</th>\n",
       "      <td>0.00</td>\n",
       "      <td>0.00</td>\n",
       "      <td>1.00</td>\n",
       "    </tr>\n",
       "    <tr>\n",
       "      <th>25</th>\n",
       "      <td>0.00</td>\n",
       "      <td>0.00</td>\n",
       "      <td>1.00</td>\n",
       "    </tr>\n",
       "    <tr>\n",
       "      <th>26</th>\n",
       "      <td>0.79</td>\n",
       "      <td>0.21</td>\n",
       "      <td>0.00</td>\n",
       "    </tr>\n",
       "    <tr>\n",
       "      <th>27</th>\n",
       "      <td>0.00</td>\n",
       "      <td>0.00</td>\n",
       "      <td>1.00</td>\n",
       "    </tr>\n",
       "    <tr>\n",
       "      <th>28</th>\n",
       "      <td>0.00</td>\n",
       "      <td>0.96</td>\n",
       "      <td>0.04</td>\n",
       "    </tr>\n",
       "    <tr>\n",
       "      <th>29</th>\n",
       "      <td>1.00</td>\n",
       "      <td>0.00</td>\n",
       "      <td>0.00</td>\n",
       "    </tr>\n",
       "    <tr>\n",
       "      <th>30</th>\n",
       "      <td>0.00</td>\n",
       "      <td>0.00</td>\n",
       "      <td>1.00</td>\n",
       "    </tr>\n",
       "    <tr>\n",
       "      <th>31</th>\n",
       "      <td>0.00</td>\n",
       "      <td>0.00</td>\n",
       "      <td>1.00</td>\n",
       "    </tr>\n",
       "    <tr>\n",
       "      <th>32</th>\n",
       "      <td>0.00</td>\n",
       "      <td>0.00</td>\n",
       "      <td>1.00</td>\n",
       "    </tr>\n",
       "    <tr>\n",
       "      <th>33</th>\n",
       "      <td>1.00</td>\n",
       "      <td>0.00</td>\n",
       "      <td>0.00</td>\n",
       "    </tr>\n",
       "    <tr>\n",
       "      <th>34</th>\n",
       "      <td>0.00</td>\n",
       "      <td>0.00</td>\n",
       "      <td>1.00</td>\n",
       "    </tr>\n",
       "    <tr>\n",
       "      <th>35</th>\n",
       "      <td>0.00</td>\n",
       "      <td>0.99</td>\n",
       "      <td>0.01</td>\n",
       "    </tr>\n",
       "    <tr>\n",
       "      <th>36</th>\n",
       "      <td>0.00</td>\n",
       "      <td>0.08</td>\n",
       "      <td>0.92</td>\n",
       "    </tr>\n",
       "    <tr>\n",
       "      <th>37</th>\n",
       "      <td>0.24</td>\n",
       "      <td>0.74</td>\n",
       "      <td>0.03</td>\n",
       "    </tr>\n",
       "    <tr>\n",
       "      <th>38</th>\n",
       "      <td>1.00</td>\n",
       "      <td>0.00</td>\n",
       "      <td>0.00</td>\n",
       "    </tr>\n",
       "    <tr>\n",
       "      <th>39</th>\n",
       "      <td>0.00</td>\n",
       "      <td>0.00</td>\n",
       "      <td>1.00</td>\n",
       "    </tr>\n",
       "    <tr>\n",
       "      <th>40</th>\n",
       "      <td>0.00</td>\n",
       "      <td>1.00</td>\n",
       "      <td>0.00</td>\n",
       "    </tr>\n",
       "    <tr>\n",
       "      <th>41</th>\n",
       "      <td>0.00</td>\n",
       "      <td>0.00</td>\n",
       "      <td>1.00</td>\n",
       "    </tr>\n",
       "    <tr>\n",
       "      <th>42</th>\n",
       "      <td>0.95</td>\n",
       "      <td>0.05</td>\n",
       "      <td>0.00</td>\n",
       "    </tr>\n",
       "    <tr>\n",
       "      <th>43</th>\n",
       "      <td>0.00</td>\n",
       "      <td>0.00</td>\n",
       "      <td>1.00</td>\n",
       "    </tr>\n",
       "    <tr>\n",
       "      <th>44</th>\n",
       "      <td>0.00</td>\n",
       "      <td>0.00</td>\n",
       "      <td>1.00</td>\n",
       "    </tr>\n",
       "    <tr>\n",
       "      <th>45</th>\n",
       "      <td>0.00</td>\n",
       "      <td>0.00</td>\n",
       "      <td>1.00</td>\n",
       "    </tr>\n",
       "  </tbody>\n",
       "</table>\n",
       "</div>"
      ],
      "text/plain": [
       "    Europe  Japan   USA\n",
       "0     0.00   0.00  1.00\n",
       "1     0.00   0.00  1.00\n",
       "2     0.00   1.00  0.00\n",
       "3     0.00   0.00  1.00\n",
       "4     0.00   0.00  1.00\n",
       "5     0.00   0.00  1.00\n",
       "6     0.00   0.00  1.00\n",
       "7     0.00   0.00  1.00\n",
       "8     0.00   0.50  0.50\n",
       "9     0.00   1.00  0.00\n",
       "10    0.99   0.01  0.01\n",
       "11    0.00   0.00  1.00\n",
       "12    0.01   0.97  0.02\n",
       "13    0.00   0.00  1.00\n",
       "14    0.05   0.74  0.21\n",
       "15    0.00   0.00  1.00\n",
       "16    0.00   0.01  0.99\n",
       "17    0.00   0.00  1.00\n",
       "18    0.00   0.99  0.01\n",
       "19    0.00   0.00  1.00\n",
       "20    1.00   0.00  0.00\n",
       "21    0.00   0.00  1.00\n",
       "22    0.00   0.00  1.00\n",
       "23    0.05   0.00  0.95\n",
       "24    0.00   0.00  1.00\n",
       "25    0.00   0.00  1.00\n",
       "26    0.79   0.21  0.00\n",
       "27    0.00   0.00  1.00\n",
       "28    0.00   0.96  0.04\n",
       "29    1.00   0.00  0.00\n",
       "30    0.00   0.00  1.00\n",
       "31    0.00   0.00  1.00\n",
       "32    0.00   0.00  1.00\n",
       "33    1.00   0.00  0.00\n",
       "34    0.00   0.00  1.00\n",
       "35    0.00   0.99  0.01\n",
       "36    0.00   0.08  0.92\n",
       "37    0.24   0.74  0.03\n",
       "38    1.00   0.00  0.00\n",
       "39    0.00   0.00  1.00\n",
       "40    0.00   1.00  0.00\n",
       "41    0.00   0.00  1.00\n",
       "42    0.95   0.05  0.00\n",
       "43    0.00   0.00  1.00\n",
       "44    0.00   0.00  1.00\n",
       "45    0.00   0.00  1.00"
      ]
     },
     "execution_count": 26,
     "metadata": {},
     "output_type": "execute_result"
    }
   ],
   "source": [
    "pd.DataFrame(np.round(lda.predict_proba(X_train), 2), columns = lda.classes_)"
   ]
  },
  {
   "cell_type": "code",
   "execution_count": 27,
   "metadata": {},
   "outputs": [
    {
     "data": {
      "text/html": [
       "<div>\n",
       "<style scoped>\n",
       "    .dataframe tbody tr th:only-of-type {\n",
       "        vertical-align: middle;\n",
       "    }\n",
       "\n",
       "    .dataframe tbody tr th {\n",
       "        vertical-align: top;\n",
       "    }\n",
       "\n",
       "    .dataframe thead th {\n",
       "        text-align: right;\n",
       "    }\n",
       "</style>\n",
       "<table border=\"1\" class=\"dataframe\">\n",
       "  <thead>\n",
       "    <tr style=\"text-align: right;\">\n",
       "      <th></th>\n",
       "      <th>PRICE</th>\n",
       "      <th>WEIGHT</th>\n",
       "      <th>GEAR_RATIO</th>\n",
       "      <th>TRUNK</th>\n",
       "      <th>REPAIR_1977</th>\n",
       "    </tr>\n",
       "  </thead>\n",
       "  <tbody>\n",
       "    <tr>\n",
       "      <th>Europe</th>\n",
       "      <td>0.37</td>\n",
       "      <td>-0.91</td>\n",
       "      <td>1.20</td>\n",
       "      <td>0.02</td>\n",
       "      <td>-0.32</td>\n",
       "    </tr>\n",
       "    <tr>\n",
       "      <th>Japan</th>\n",
       "      <td>-0.35</td>\n",
       "      <td>-1.01</td>\n",
       "      <td>0.96</td>\n",
       "      <td>-1.09</td>\n",
       "      <td>1.22</td>\n",
       "    </tr>\n",
       "    <tr>\n",
       "      <th>USA</th>\n",
       "      <td>0.01</td>\n",
       "      <td>0.42</td>\n",
       "      <td>-0.46</td>\n",
       "      <td>0.26</td>\n",
       "      <td>-0.23</td>\n",
       "    </tr>\n",
       "  </tbody>\n",
       "</table>\n",
       "</div>"
      ],
      "text/plain": [
       "        PRICE  WEIGHT  GEAR_RATIO  TRUNK  REPAIR_1977\n",
       "Europe   0.37   -0.91        1.20   0.02        -0.32\n",
       "Japan   -0.35   -1.01        0.96  -1.09         1.22\n",
       "USA      0.01    0.42       -0.46   0.26        -0.23"
      ]
     },
     "execution_count": 27,
     "metadata": {},
     "output_type": "execute_result"
    }
   ],
   "source": [
    "mean = pd.DataFrame(np.round(lda.means_,2), columns = car.columns[:-1], index = lda.classes_)\n",
    "mean[['PRICE','WEIGHT','GEAR_RATIO','TRUNK','REPAIR_1977']]"
   ]
  },
  {
   "cell_type": "code",
   "execution_count": 28,
   "metadata": {},
   "outputs": [
    {
     "data": {
      "image/png": "[encoded data removed]",
      "text/plain": [
       "<Figure size 864x432 with 2 Axes>"
      ]
     },
     "metadata": {},
     "output_type": "display_data"
    }
   ],
   "source": [
    "sns.set()\n",
    "plt.figure(figsize = (12, 6))\n",
    "plt.subplot(1,2,1)\n",
    "sns.scatterplot(x = X2['LD1'].values, y = X2['LD2'].values, data = X2, hue = 'pred y')\n",
    "plt.title('LDA of CarData')\n",
    "plt.xlabel('판별기준1', fontdict = {'family' : font_family})\n",
    "plt.ylabel('판별기준2', fontdict = {'family' : font_family})\n",
    "plt.subplot(1,2,2)\n",
    "sns.scatterplot(x = X2['LD1'].values, y = X2['LD2'].values, data = X2, hue = 'true y')\n",
    "plt.title('Actual CarData')\n",
    "plt.xlabel('판별기준1', fontdict = {'family' : font_family})\n",
    "plt.ylabel('판별기준2', fontdict = {'family' : font_family})\n",
    "plt.show()"
   ]
  },
  {
   "cell_type": "markdown",
   "metadata": {},
   "source": [
    "LD1이 작으면 유럽 일본 미국 순으로 분류    \n",
    "LD2가 작으면 일본 미국 유럽 순으로 분류 근데 LD2는 구분능력이 좀 구린거같음"
   ]
  },
  {
   "cell_type": "code",
   "execution_count": 29,
   "metadata": {},
   "outputs": [
    {
     "data": {
      "image/png": "[encoded data removed]",
      "text/plain": [
       "<Figure size 720x432 with 3 Axes>"
      ]
     },
     "metadata": {},
     "output_type": "display_data"
    }
   ],
   "source": [
    "plt.figure(figsize = (10, 6))\n",
    "plt.subplots_adjust(hspace = 1, wspace = 1)\n",
    "plt.subplot(3,1,1)\n",
    "plt.xlim(-7,5)\n",
    "sns.distplot(X2[X2['pred y'] == 'USA']['LD1'])\n",
    "plt.axvline(X2[X2['pred y'] == 'USA']['LD1'].mean(), color = 'red')\n",
    "plt.title('USA')\n",
    "plt.xlabel('판별기준1', fontdict = {'family' : font_family})\n",
    "plt.subplot(3,1,2)\n",
    "plt.title('Japan')\n",
    "sns.distplot(X2[X2['pred y'] == 'Japan']['LD1'])\n",
    "plt.axvline(X2[X2['pred y'] == 'Japan']['LD1'].mean(), color = 'red')\n",
    "plt.xlim((-7,5))\n",
    "plt.ylim((0,1))\n",
    "plt.xlabel('판별기준1', fontdict = {'family' : font_family})\n",
    "plt.subplot(3,1,3)\n",
    "plt.title('Europe')\n",
    "sns.distplot(X2[X2['pred y'] == 'Europe']['LD1'])\n",
    "plt.axvline(X2[X2['pred y'] == 'Europe']['LD1'].mean(), color = 'red')\n",
    "plt.xlim((-7,5))\n",
    "plt.ylim((0,1))\n",
    "plt.xlabel('판별기준1', fontdict = {'family' : font_family})\n",
    "plt.show()"
   ]
  },
  {
   "cell_type": "code",
   "execution_count": 30,
   "metadata": {},
   "outputs": [
    {
     "data": {
      "text/html": [
       "<div>\n",
       "<style scoped>\n",
       "    .dataframe tbody tr th:only-of-type {\n",
       "        vertical-align: middle;\n",
       "    }\n",
       "\n",
       "    .dataframe tbody tr th {\n",
       "        vertical-align: top;\n",
       "    }\n",
       "\n",
       "    .dataframe thead th {\n",
       "        text-align: right;\n",
       "    }\n",
       "</style>\n",
       "<table border=\"1\" class=\"dataframe\">\n",
       "  <thead>\n",
       "    <tr style=\"text-align: right;\">\n",
       "      <th></th>\n",
       "      <th>LD1</th>\n",
       "    </tr>\n",
       "  </thead>\n",
       "  <tbody>\n",
       "    <tr>\n",
       "      <th>PRICE</th>\n",
       "      <td>-0.975757</td>\n",
       "    </tr>\n",
       "    <tr>\n",
       "      <th>MILEAGE</th>\n",
       "      <td>0.460333</td>\n",
       "    </tr>\n",
       "    <tr>\n",
       "      <th>REPAIR_1978</th>\n",
       "      <td>-0.760838</td>\n",
       "    </tr>\n",
       "    <tr>\n",
       "      <th>REPAIR_1977</th>\n",
       "      <td>0.480878</td>\n",
       "    </tr>\n",
       "    <tr>\n",
       "      <th>HEADROOM</th>\n",
       "      <td>0.197342</td>\n",
       "    </tr>\n",
       "    <tr>\n",
       "      <th>SEAT_CLARANCE</th>\n",
       "      <td>-0.162275</td>\n",
       "    </tr>\n",
       "    <tr>\n",
       "      <th>TRUNK</th>\n",
       "      <td>-0.412998</td>\n",
       "    </tr>\n",
       "    <tr>\n",
       "      <th>WEIGHT</th>\n",
       "      <td>1.644413</td>\n",
       "    </tr>\n",
       "    <tr>\n",
       "      <th>LENGTH</th>\n",
       "      <td>-0.603669</td>\n",
       "    </tr>\n",
       "    <tr>\n",
       "      <th>DIAMETER</th>\n",
       "      <td>0.526950</td>\n",
       "    </tr>\n",
       "    <tr>\n",
       "      <th>DISPLACEMENT</th>\n",
       "      <td>-0.025467</td>\n",
       "    </tr>\n",
       "    <tr>\n",
       "      <th>GEAR_RATIO</th>\n",
       "      <td>-1.074745</td>\n",
       "    </tr>\n",
       "  </tbody>\n",
       "</table>\n",
       "</div>"
      ],
      "text/plain": [
       "                    LD1\n",
       "PRICE         -0.975757\n",
       "MILEAGE        0.460333\n",
       "REPAIR_1978   -0.760838\n",
       "REPAIR_1977    0.480878\n",
       "HEADROOM       0.197342\n",
       "SEAT_CLARANCE -0.162275\n",
       "TRUNK         -0.412998\n",
       "WEIGHT         1.644413\n",
       "LENGTH        -0.603669\n",
       "DIAMETER       0.526950\n",
       "DISPLACEMENT  -0.025467\n",
       "GEAR_RATIO    -1.074745"
      ]
     },
     "execution_count": 30,
     "metadata": {},
     "output_type": "execute_result"
    }
   ],
   "source": [
    "pd.DataFrame(lda.scalings_[:,0], index = car.columns[:-1], columns = ['LD1'])"
   ]
  },
  {
   "cell_type": "markdown",
   "metadata": {},
   "source": [
    "LD1에 가장 영향을 주는 변수는 3개만 꼽자면 가격, 무게, 기어비  \n",
    "즉 가격이 비쌀수록, 무게가 가벼울수록, 기어변속비가 좋을 수록 유럽 일본 미국순으로 비교한다는 것"
   ]
  },
  {
   "cell_type": "code",
   "execution_count": 31,
   "metadata": {},
   "outputs": [
    {
     "data": {
      "image/png": "[encoded data removed]",
      "text/plain": [
       "<Figure size 576x432 with 1 Axes>"
      ]
     },
     "metadata": {},
     "output_type": "display_data"
    }
   ],
   "source": [
    "sns.set()\n",
    "plt.figure(figsize = (8,6))\n",
    "sns.boxplot(data = car,  x = 'Company', y = 'PRICE' )\n",
    "plt.show()"
   ]
  },
  {
   "cell_type": "code",
   "execution_count": 32,
   "metadata": {},
   "outputs": [
    {
     "data": {
      "image/png": "[encoded data removed]",
      "text/plain": [
       "<Figure size 576x432 with 1 Axes>"
      ]
     },
     "metadata": {},
     "output_type": "display_data"
    }
   ],
   "source": [
    "plt.figure(figsize = (8,6))\n",
    "sns.boxplot(data = car,  x = 'Company', y = 'WEIGHT' )\n",
    "plt.show()\n"
   ]
  },
  {
   "cell_type": "code",
   "execution_count": 33,
   "metadata": {},
   "outputs": [
    {
     "data": {
      "image/png": "[encoded data removed]",
      "text/plain": [
       "<Figure size 576x432 with 1 Axes>"
      ]
     },
     "metadata": {},
     "output_type": "display_data"
    }
   ],
   "source": [
    "plt.figure(figsize = (8,6))\n",
    "sns.boxplot(data = car,  x = 'Company', y = 'GEAR_RATIO' )\n",
    "plt.show()"
   ]
  },
  {
   "cell_type": "code",
   "execution_count": 34,
   "metadata": {},
   "outputs": [
    {
     "data": {
      "image/png": "[encoded data removed]",
      "text/plain": [
       "<Figure size 720x432 with 3 Axes>"
      ]
     },
     "metadata": {},
     "output_type": "display_data"
    }
   ],
   "source": [
    "plt.figure(figsize = (10, 6))\n",
    "plt.subplots_adjust(hspace = 1, wspace = 1)\n",
    "plt.subplot(3,1,1)\n",
    "plt.xlim(-7,5)\n",
    "sns.distplot(X2[X2['pred y'] == 'USA']['LD2'])\n",
    "plt.axvline(X2[X2['pred y'] == 'USA']['LD2'].mean(), color = 'red')\n",
    "plt.title('USA')\n",
    "plt.xlabel('판별기준2', fontdict = {'family' : font_family})\n",
    "plt.subplot(3,1,2)\n",
    "plt.title('Japan')\n",
    "sns.distplot(X2[X2['pred y'] == 'Japan']['LD2'])\n",
    "plt.axvline(X2[X2['pred y'] == 'Japan']['LD2'].mean(), color = 'red')\n",
    "plt.xlim((-7,5))\n",
    "plt.ylim((0,1))\n",
    "plt.xlabel('판별기준2', fontdict = {'family' : font_family})\n",
    "plt.subplot(3,1,3)\n",
    "plt.title('Europe')\n",
    "sns.distplot(X2[X2['pred y'] == 'Europe']['LD2'])\n",
    "plt.axvline(X2[X2['pred y'] == 'Europe']['LD2'].mean(), color = 'red')\n",
    "plt.xlim((-7,5))\n",
    "plt.ylim((0,1))\n",
    "plt.xlabel('판별기준2', fontdict = {'family' : font_family})\n",
    "plt.show()"
   ]
  },
  {
   "cell_type": "code",
   "execution_count": 35,
   "metadata": {},
   "outputs": [
    {
     "data": {
      "text/html": [
       "<div>\n",
       "<style scoped>\n",
       "    .dataframe tbody tr th:only-of-type {\n",
       "        vertical-align: middle;\n",
       "    }\n",
       "\n",
       "    .dataframe tbody tr th {\n",
       "        vertical-align: top;\n",
       "    }\n",
       "\n",
       "    .dataframe thead th {\n",
       "        text-align: right;\n",
       "    }\n",
       "</style>\n",
       "<table border=\"1\" class=\"dataframe\">\n",
       "  <thead>\n",
       "    <tr style=\"text-align: right;\">\n",
       "      <th></th>\n",
       "      <th>LD2</th>\n",
       "    </tr>\n",
       "  </thead>\n",
       "  <tbody>\n",
       "    <tr>\n",
       "      <th>PRICE</th>\n",
       "      <td>0.299387</td>\n",
       "    </tr>\n",
       "    <tr>\n",
       "      <th>MILEAGE</th>\n",
       "      <td>0.318807</td>\n",
       "    </tr>\n",
       "    <tr>\n",
       "      <th>REPAIR_1978</th>\n",
       "      <td>0.123860</td>\n",
       "    </tr>\n",
       "    <tr>\n",
       "      <th>REPAIR_1977</th>\n",
       "      <td>-1.124494</td>\n",
       "    </tr>\n",
       "    <tr>\n",
       "      <th>HEADROOM</th>\n",
       "      <td>-0.429904</td>\n",
       "    </tr>\n",
       "    <tr>\n",
       "      <th>SEAT_CLARANCE</th>\n",
       "      <td>0.506032</td>\n",
       "    </tr>\n",
       "    <tr>\n",
       "      <th>TRUNK</th>\n",
       "      <td>1.178672</td>\n",
       "    </tr>\n",
       "    <tr>\n",
       "      <th>WEIGHT</th>\n",
       "      <td>0.617810</td>\n",
       "    </tr>\n",
       "    <tr>\n",
       "      <th>LENGTH</th>\n",
       "      <td>-0.672824</td>\n",
       "    </tr>\n",
       "    <tr>\n",
       "      <th>DIAMETER</th>\n",
       "      <td>0.206627</td>\n",
       "    </tr>\n",
       "    <tr>\n",
       "      <th>DISPLACEMENT</th>\n",
       "      <td>-0.546622</td>\n",
       "    </tr>\n",
       "    <tr>\n",
       "      <th>GEAR_RATIO</th>\n",
       "      <td>0.157858</td>\n",
       "    </tr>\n",
       "  </tbody>\n",
       "</table>\n",
       "</div>"
      ],
      "text/plain": [
       "                    LD2\n",
       "PRICE          0.299387\n",
       "MILEAGE        0.318807\n",
       "REPAIR_1978    0.123860\n",
       "REPAIR_1977   -1.124494\n",
       "HEADROOM      -0.429904\n",
       "SEAT_CLARANCE  0.506032\n",
       "TRUNK          1.178672\n",
       "WEIGHT         0.617810\n",
       "LENGTH        -0.672824\n",
       "DIAMETER       0.206627\n",
       "DISPLACEMENT  -0.546622\n",
       "GEAR_RATIO     0.157858"
      ]
     },
     "execution_count": 35,
     "metadata": {},
     "output_type": "execute_result"
    }
   ],
   "source": [
    "pd.DataFrame(lda.scalings_[:,1], index = car.columns[:-1], columns = ['LD2'])"
   ]
  },
  {
   "cell_type": "markdown",
   "metadata": {},
   "source": [
    "TRUNK가 작을 수록, REPAIR 1997년 점수가 높을 수록 일본 미국 유럽 순으로 분류"
   ]
  },
  {
   "cell_type": "code",
   "execution_count": 36,
   "metadata": {},
   "outputs": [
    {
     "data": {
      "image/png": "[encoded data removed]",
      "text/plain": [
       "<Figure size 576x432 with 1 Axes>"
      ]
     },
     "metadata": {},
     "output_type": "display_data"
    }
   ],
   "source": [
    "plt.figure(figsize = (8,6))\n",
    "sns.boxplot(data = car,  x = 'Company', y = 'TRUNK' )\n",
    "plt.show()"
   ]
  },
  {
   "cell_type": "code",
   "execution_count": 37,
   "metadata": {},
   "outputs": [
    {
     "data": {
      "image/png": "[encoded data removed]",
      "text/plain": [
       "<Figure size 576x432 with 1 Axes>"
      ]
     },
     "metadata": {},
     "output_type": "display_data"
    }
   ],
   "source": [
    "plt.figure(figsize = (8,6))\n",
    "sns.boxplot(data = car,  x = 'Company', y = 'REPAIR_1977' )\n",
    "plt.show()"
   ]
  }
 ],
 "metadata": {
  "kernelspec": {
   "display_name": "Python 3",
   "language": "python",
   "name": "python3"
  },
  "language_info": {
   "codemirror_mode": {
    "name": "ipython",
    "version": 3
   },
   "file_extension": ".py",
   "mimetype": "text/x-python",
   "name": "python",
   "nbconvert_exporter": "python",
   "pygments_lexer": "ipython3",
   "version": "3.7.3"
  }
 },
 "nbformat": 4,
 "nbformat_minor": 4
}
